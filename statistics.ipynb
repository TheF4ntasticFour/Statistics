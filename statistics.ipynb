{
  "cells": [
    {
      "cell_type": "markdown",
      "metadata": {
        "id": "view-in-github",
        "colab_type": "text"
      },
      "source": [
        "<a href=\"https://colab.research.google.com/github/TheF4ntasticFour/Statistics/blob/main/statistics.ipynb\" target=\"_parent\"><img src=\"https://colab.research.google.com/assets/colab-badge.svg\" alt=\"Open In Colab\"/></a>"
      ]
    },
    {
      "cell_type": "markdown",
      "metadata": {
        "id": "aTOLgsbN69-P"
      },
      "source": [
        "# Statistics"
      ]
    },
    {
      "cell_type": "markdown",
      "metadata": {
        "id": "tctnFC_RJy94"
      },
      "source": [
        "## Segment 1: Frequentist Statistics"
      ]
    },
    {
      "cell_type": "code",
      "execution_count": 1,
      "metadata": {
        "id": "Aq53QtfZJy94"
      },
      "outputs": [],
      "source": [
        "import numpy as np\n",
        "import scipy.stats as st\n",
        "import matplotlib.pyplot as plt\n",
        "import seaborn as sns"
      ]
    },
    {
      "cell_type": "code",
      "execution_count": 12,
      "metadata": {
        "id": "ZTBb1QFuJy94"
      },
      "outputs": [],
      "source": [
        "np.random.seed(50)"
      ]
    },
    {
      "cell_type": "markdown",
      "metadata": {
        "id": "mWFzBgwKJy95"
      },
      "source": [
        "### Measures of Central Tendency"
      ]
    },
    {
      "cell_type": "markdown",
      "metadata": {
        "id": "2wAeml4zJy95"
      },
      "source": [
        "Measures of central tendency provide a summary statistic on the center of a given distribution, a.k.a., the \"average\" value of the distribution."
      ]
    },
    {
      "cell_type": "code",
      "execution_count": 13,
      "metadata": {
        "id": "4GYvSKu9Jy95"
      },
      "outputs": [],
      "source": [
        "\n",
        "x = st.skewnorm.rvs(15, size=50000)"
      ]
    },
    {
      "cell_type": "code",
      "execution_count": 15,
      "metadata": {
        "colab": {
          "base_uri": "https://localhost:8080/"
        },
        "id": "NfkkNUXcJy95",
        "outputId": "518e5062-3256-4954-f032-9bb598998a47"
      },
      "outputs": [
        {
          "output_type": "execute_result",
          "data": {
            "text/plain": [
              "array([1.59250971, 0.00196664, 0.69016287, 1.49694038, 1.40951665])"
            ]
          },
          "metadata": {},
          "execution_count": 15
        }
      ],
      "source": [
        "x[0:5]"
      ]
    },
    {
      "cell_type": "code",
      "execution_count": 17,
      "metadata": {
        "colab": {
          "base_uri": "https://localhost:8080/",
          "height": 430
        },
        "id": "R9rXZm5pJy96",
        "outputId": "f51059ff-6e01-47c1-a34a-1a6b11f14c00"
      },
      "outputs": [
        {
          "output_type": "display_data",
          "data": {
            "text/plain": [
              "<Figure size 640x480 with 1 Axes>"
            ],
            "image/png": "[encoded data removed]"
          },
          "metadata": {}
        }
      ],
      "source": [
        "fig, ax = plt.subplots()\n",
        "_ = plt.hist(x, color = 'purple')"
      ]
    },
    {
      "cell_type": "markdown",
      "metadata": {
        "id": "z8wAQUQaJy97"
      },
      "source": [
        "#### Mean"
      ]
    },
    {
      "cell_type": "markdown",
      "metadata": {
        "id": "JVzPrg7AJy97"
      },
      "source": [
        "The most common measure of central tendency, synonomous with the term \"average\", is the **mean**, often symbolized with $\\mu$ (population) or $\\bar{x}$ (sample):"
      ]
    },
    {
      "cell_type": "markdown",
      "metadata": {
        "id": "UoVZlrXkJy97"
      },
      "source": [
        "$$ \\bar{x} = \\frac{\\sum_{i=1}^n x_i}{n} $$"
      ]
    },
    {
      "cell_type": "code",
      "execution_count": 18,
      "metadata": {
        "colab": {
          "base_uri": "https://localhost:8080/"
        },
        "id": "lnHaPyx4Jy97",
        "outputId": "02e8b884-fbaf-4a28-d064-3417d74abe5f"
      },
      "outputs": [
        {
          "output_type": "execute_result",
          "data": {
            "text/plain": [
              "0.792740083739856"
            ]
          },
          "metadata": {},
          "execution_count": 18
        }
      ],
      "source": [
        "xbar = x.mean()\n",
        "xbar"
      ]
    },
    {
      "cell_type": "code",
      "execution_count": 20,
      "metadata": {
        "colab": {
          "base_uri": "https://localhost:8080/",
          "height": 452
        },
        "id": "4lSu__LtJy97",
        "outputId": "98c8fa59-03a3-40ca-8a61-621377cda4f6"
      },
      "outputs": [
        {
          "output_type": "execute_result",
          "data": {
            "text/plain": [
              "<matplotlib.lines.Line2D at 0x7f5acb771b80>"
            ]
          },
          "metadata": {},
          "execution_count": 20
        },
        {
          "output_type": "display_data",
          "data": {
            "text/plain": [
              "<Figure size 640x480 with 1 Axes>"
            ],
            "image/png": "[encoded data removed]"
          },
          "metadata": {}
        }
      ],
      "source": [
        "fig, ax = plt.subplots()\n",
        "plt.axvline(x=x.mean(), color='orange')\n",
        "plt.axvline(x=np.median(x), color='blue')\n",
        "plt.axvline(x=2*x.mean(), color='red')\n",
        "plt.axvline(x=2*np.median(x), color='green')"
      ]
    },
    {
      "cell_type": "markdown",
      "metadata": {
        "id": "MN9OBSxfJy98"
      },
      "source": [
        "#### Median"
      ]
    },
    {
      "cell_type": "markdown",
      "metadata": {
        "id": "EwGeNSC5Jy98"
      },
      "source": [
        "The second most common measure of central tendency is the **median**, the midpoint value in the distribution: "
      ]
    },
    {
      "cell_type": "code",
      "execution_count": 21,
      "metadata": {
        "colab": {
          "base_uri": "https://localhost:8080/"
        },
        "id": "uS_asMcbJy98",
        "outputId": "3f8fa863-15b5-4821-ac84-4709525094d6"
      },
      "outputs": [
        {
          "output_type": "execute_result",
          "data": {
            "text/plain": [
              "0.6735734458482392"
            ]
          },
          "metadata": {},
          "execution_count": 21
        }
      ],
      "source": [
        "np.median(x) "
      ]
    },
    {
      "cell_type": "markdown",
      "metadata": {
        "id": "Hr3dHF0NJy98"
      },
      "source": [
        "The **mode** is least impacted by skew, but is typically only applicable to discrete distributions. For continuous distributions with skew (e.g., salary data), median is typically the choice measure of central tendency:"
      ]
    },
    {
      "cell_type": "code",
      "execution_count": 22,
      "metadata": {
        "colab": {
          "base_uri": "https://localhost:8080/",
          "height": 430
        },
        "id": "OzX0e9HLJy98",
        "outputId": "e5d2c737-e5a4-4ace-c683-69b42b13fe9f"
      },
      "outputs": [
        {
          "output_type": "display_data",
          "data": {
            "text/plain": [
              "<Figure size 640x480 with 1 Axes>"
            ],
            "image/png": "[encoded data removed]"
          },
          "metadata": {}
        }
      ],
      "source": [
        "fig, ax = plt.subplots()\n",
        "plt.axvline(x = np.mean(x), color='red')\n",
        "plt.axvline(x = np.median(x), color='green')\n",
        "_ = plt.hist(x, color = 'lightblue')"
      ]
    },
    {
      "cell_type": "markdown",
      "metadata": {
        "id": "1m-KJ5kPJy99"
      },
      "source": [
        "### Measures of Dispersion"
      ]
    },
    {
      "cell_type": "markdown",
      "metadata": {
        "id": "PKJQU3eNJy99"
      },
      "source": [
        "#### Variance"
      ]
    },
    {
      "cell_type": "markdown",
      "metadata": {
        "id": "ZtkXiVFVJy99"
      },
      "source": [
        "$$ \\sigma^2 = \\frac{\\sum_{i=1}^n (x_i-\\bar{x})^2}{n} $$"
      ]
    },
    {
      "cell_type": "code",
      "execution_count": 23,
      "metadata": {
        "colab": {
          "base_uri": "https://localhost:8080/"
        },
        "id": "FlC38ygXJy99",
        "outputId": "45045199-b7be-4cc8-bc63-e3fde6d89379"
      },
      "outputs": [
        {
          "output_type": "execute_result",
          "data": {
            "text/plain": [
              "0.3602328139990391"
            ]
          },
          "metadata": {},
          "execution_count": 23
        }
      ],
      "source": [
        "x.var()"
      ]
    },
    {
      "cell_type": "markdown",
      "metadata": {
        "id": "g07LUlduJy99"
      },
      "source": [
        "#### Standard Deviation"
      ]
    },
    {
      "cell_type": "markdown",
      "metadata": {
        "id": "I1VTosKFJy99"
      },
      "source": [
        "A straightforward derivative of variance is **standard deviation** (denoted with $\\sigma$), which is convenient because its units are on the same scale as the values in the distribution: \n",
        "$$ \\sigma = \\sqrt{\\sigma^2} $$"
      ]
    },
    {
      "cell_type": "code",
      "execution_count": 24,
      "metadata": {
        "colab": {
          "base_uri": "https://localhost:8080/"
        },
        "id": "stPfptc7Jy9-",
        "outputId": "d193b72a-923e-4fb2-9aa8-467e83211eac"
      },
      "outputs": [
        {
          "output_type": "execute_result",
          "data": {
            "text/plain": [
              "0.600193980308899"
            ]
          },
          "metadata": {},
          "execution_count": 24
        }
      ],
      "source": [
        "x.var()**(1/2)"
      ]
    },
    {
      "cell_type": "code",
      "execution_count": 25,
      "metadata": {
        "colab": {
          "base_uri": "https://localhost:8080/"
        },
        "id": "JLCQyWcjJy9-",
        "outputId": "a89b76a7-d4e2-4a65-87ad-dcebcf2ac07e"
      },
      "outputs": [
        {
          "output_type": "execute_result",
          "data": {
            "text/plain": [
              "0.600193980308899"
            ]
          },
          "metadata": {},
          "execution_count": 25
        }
      ],
      "source": [
        "sigma = x.std()\n",
        "sigma"
      ]
    },
    {
      "cell_type": "code",
      "execution_count": 28,
      "metadata": {
        "colab": {
          "base_uri": "https://localhost:8080/",
          "height": 430
        },
        "id": "PO_q9fL7Jy9-",
        "outputId": "88ba71e0-05c3-4fa1-be22-a800048ab13a"
      },
      "outputs": [
        {
          "output_type": "display_data",
          "data": {
            "text/plain": [
              "<Figure size 640x480 with 1 Axes>"
            ],
            "image/png": "[encoded data removed]"
          },
          "metadata": {}
        }
      ],
      "source": [
        "fig, ax = plt.subplots()\n",
        "plt.axvline(x = xbar, color='orange')\n",
        "plt.axvline(x = xbar+sigma, color='olivedrab')\n",
        "plt.axvline(x = xbar+(sigma/2), color='purple')\n",
        "plt.axvline(x = xbar-sigma, color='red')\n",
        "_ = plt.hist(x, color = 'lightgreen')"
      ]
    },
    {
      "cell_type": "markdown",
      "metadata": {
        "id": "MtQ3n34PJy9-"
      },
      "source": [
        "#### Standard Error"
      ]
    },
    {
      "cell_type": "markdown",
      "metadata": {
        "id": "waS0PbnYJy9-"
      },
      "source": [
        "A further derivation of standard deviation is **standard error**, which is denoted with $\\sigma_\\bar{x}$:\n",
        "$$ \\sigma_\\bar{x} = \\frac{\\sigma}{\\sqrt{n}} $$"
      ]
    },
    {
      "cell_type": "code",
      "execution_count": 29,
      "metadata": {
        "colab": {
          "base_uri": "https://localhost:8080/"
        },
        "id": "W9f9__wlJy9_",
        "outputId": "7bebcb70-fb13-44ba-9e84-5a4f918079bb"
      },
      "outputs": [
        {
          "output_type": "execute_result",
          "data": {
            "text/plain": [
              "0.002684149079313737"
            ]
          },
          "metadata": {},
          "execution_count": 29
        }
      ],
      "source": [
        "sigma/(x.size)**(1/2)"
      ]
    },
    {
      "cell_type": "code",
      "execution_count": 30,
      "metadata": {
        "colab": {
          "base_uri": "https://localhost:8080/"
        },
        "id": "toH48k6TJy9_",
        "outputId": "af60113f-13dc-44b4-e90a-e7066ddd607c"
      },
      "outputs": [
        {
          "output_type": "execute_result",
          "data": {
            "text/plain": [
              "0.002684175921207159"
            ]
          },
          "metadata": {},
          "execution_count": 30
        }
      ],
      "source": [
        "st.sem(x) "
      ]
    },
    {
      "cell_type": "code",
      "execution_count": 35,
      "metadata": {
        "colab": {
          "base_uri": "https://localhost:8080/"
        },
        "id": "OeYF2Zh2Jy9_",
        "outputId": "c2013120-ec90-4e9b-d6e6-e35657e81f37"
      },
      "outputs": [
        {
          "output_type": "execute_result",
          "data": {
            "text/plain": [
              "0.0026844175344906164"
            ]
          },
          "metadata": {},
          "execution_count": 35
        }
      ],
      "source": [
        "st.sem(x, ddof=10)"
      ]
    },
    {
      "cell_type": "markdown",
      "metadata": {
        "id": "18G3AEvTJy9_"
      },
      "source": [
        "Standard error enables us to compare whether the means of two distributions differ *significantly*, a focus of *Intro to Stats*."
      ]
    },
    {
      "cell_type": "markdown",
      "metadata": {
        "id": "W8d9xMvcJy9_"
      },
      "source": [
        "### Gaussian Distribution"
      ]
    },
    {
      "cell_type": "markdown",
      "metadata": {
        "id": "LG3mP9v-Jy9_"
      },
      "source": [
        "After Carl Friedrich Gauss. Also known as **normal distribution**: "
      ]
    },
    {
      "cell_type": "code",
      "execution_count": 36,
      "metadata": {
        "id": "3SsBbCQ1Jy-A"
      },
      "outputs": [],
      "source": [
        "x = np.random.normal(size=10000)"
      ]
    },
    {
      "cell_type": "code",
      "execution_count": 37,
      "metadata": {
        "id": "aWlsZ80_Jy-A"
      },
      "outputs": [],
      "source": [
        "sns.set_style('ticks')"
      ]
    },
    {
      "cell_type": "code",
      "execution_count": 38,
      "metadata": {
        "colab": {
          "base_uri": "https://localhost:8080/",
          "height": 506
        },
        "id": "EYkD9BQsJy-A",
        "outputId": "afe26d5f-6834-477d-bac8-a7b57ad527d0"
      },
      "outputs": [
        {
          "output_type": "display_data",
          "data": {
            "text/plain": [
              "<Figure size 500x500 with 1 Axes>"
            ],
            "image/png": "[encoded data removed]"
          },
          "metadata": {}
        }
      ],
      "source": [
        "_ = sns.displot(x, kde=True)"
      ]
    },
    {
      "cell_type": "markdown",
      "metadata": {
        "id": "bQULpJasJy-A"
      },
      "source": [
        "When the normal distribution has a mean ($\\mu$) of zero and standard deviation ($\\sigma$) of one, as it does by default with the NumPy `normal()` method..."
      ]
    },
    {
      "cell_type": "code",
      "execution_count": 40,
      "metadata": {
        "colab": {
          "base_uri": "https://localhost:8080/"
        },
        "id": "kF2vyBE5Jy-A",
        "outputId": "3a08874f-2399-422b-f102-e9edcdf3ab35"
      },
      "outputs": [
        {
          "output_type": "execute_result",
          "data": {
            "text/plain": [
              "0.01888491716601116"
            ]
          },
          "metadata": {},
          "execution_count": 40
        }
      ],
      "source": [
        "x.mean()\n"
      ]
    },
    {
      "cell_type": "code",
      "execution_count": 41,
      "metadata": {
        "colab": {
          "base_uri": "https://localhost:8080/"
        },
        "id": "BBfTSFSLJy-A",
        "outputId": "74c0cb33-8458-44be-c828-497b7205922b",
        "scrolled": true
      },
      "outputs": [
        {
          "output_type": "execute_result",
          "data": {
            "text/plain": [
              "1.0066097477858547"
            ]
          },
          "metadata": {},
          "execution_count": 41
        }
      ],
      "source": [
        "x.std()"
      ]
    },
    {
      "cell_type": "markdown",
      "metadata": {
        "id": "b36uZPgYJy-B"
      },
      "source": [
        "...it is a **standard normal distribution** (a.k.a., standard Gaussian distribution or ***z*-distribution**), which can be denoted as $\\mathcal{N}(\\mu, \\sigma^2) = \\mathcal{N}(0, 1)$ (noting that $\\sigma^2 = \\sigma$ here because $1^2 = 1$)."
      ]
    },
    {
      "cell_type": "markdown",
      "metadata": {
        "id": "yghrt7snJy-B"
      },
      "source": [
        "Normal distributions are by far the most common distribution in statistics and machine learning. They are typically the default option, particularly if you have limited information about the random process you're modeling, because: \n",
        "\n",
        "1. Normal distributions assume the greatest possible uncertainty about the random variable they represent (relative to any other distribution of equivalent variance). Details of this are beyond the scope of this tutorial. \n",
        "2. Simple and very complex random processes alike are, under all common conditions, normally distributed when we sample values from the process. Since we sample data for statistical and machine learning models alike, this so-called **central limit theorem** (covered next) is a critically important concept. "
      ]
    },
    {
      "cell_type": "markdown",
      "metadata": {
        "id": "i_o6lW48Jy-B"
      },
      "source": [
        "### The Central Limit Theorem"
      ]
    },
    {
      "cell_type": "markdown",
      "metadata": {
        "id": "eGcUitnfJy-B"
      },
      "source": [
        "To develop a functional understanding of the CLT, let's sample some values from our normal distribution:"
      ]
    },
    {
      "cell_type": "code",
      "execution_count": 43,
      "metadata": {
        "colab": {
          "base_uri": "https://localhost:8080/"
        },
        "id": "Zde5lo4oJy-B",
        "outputId": "7cc626c0-9b60-4377-bcbd-a887bf9020fa"
      },
      "outputs": [
        {
          "output_type": "execute_result",
          "data": {
            "text/plain": [
              "array([ 0.72942826,  0.24050563, -0.74747981,  1.04430824, -0.14114677])"
            ]
          },
          "metadata": {},
          "execution_count": 43
        }
      ],
      "source": [
        "x_sample = np.random.choice(x, size=5, replace=True)\n",
        "x_sample"
      ]
    },
    {
      "cell_type": "markdown",
      "metadata": {
        "id": "AHPHlFhHJy-B"
      },
      "source": [
        "The mean of a sample isn't always going to be close to zero with such a small sample:"
      ]
    },
    {
      "cell_type": "code",
      "execution_count": 44,
      "metadata": {
        "colab": {
          "base_uri": "https://localhost:8080/"
        },
        "id": "JlQhC9RrJy-C",
        "outputId": "bdc41f91-7d16-470c-aaed-e3510a1091ff"
      },
      "outputs": [
        {
          "output_type": "execute_result",
          "data": {
            "text/plain": [
              "0.22512311028375484"
            ]
          },
          "metadata": {},
          "execution_count": 44
        }
      ],
      "source": [
        "x_sample.mean()"
      ]
    },
    {
      "cell_type": "markdown",
      "metadata": {
        "id": "Z5CMNU_MJy-C"
      },
      "source": [
        "Let's define a function for generating **sampling distributions** of the mean of a given input distribution:"
      ]
    },
    {
      "cell_type": "code",
      "execution_count": 45,
      "metadata": {
        "id": "RSUYBNRlJy-C"
      },
      "outputs": [],
      "source": [
        "def sample_mean_calculator(input_dist, sample_size, n_samples):\n",
        "    sample_means = []\n",
        "    for i in range(n_samples):\n",
        "        sample = np.random.choice(input_dist, size=sample_size, replace=False)\n",
        "        sample_means.append(sample.mean())\n",
        "    return sample_means"
      ]
    },
    {
      "cell_type": "code",
      "execution_count": 46,
      "metadata": {
        "id": "AwW1d39vLJff"
      },
      "outputs": [],
      "source": [
        "xc = sample_mean_calculator(x, 30, 10)"
      ]
    },
    {
      "cell_type": "code",
      "execution_count": 47,
      "metadata": {
        "colab": {
          "base_uri": "https://localhost:8080/"
        },
        "id": "6QOiVR1tLJfg",
        "outputId": "b631e475-65a1-40d7-ff41-ed3992b33b66"
      },
      "outputs": [
        {
          "output_type": "execute_result",
          "data": {
            "text/plain": [
              "[-0.010030824662881728,\n",
              " -0.01954073333154856,\n",
              " 0.09478128407044487,\n",
              " 0.2832473453060673,\n",
              " 0.27276593191125426,\n",
              " 0.01099053882749366,\n",
              " 0.17653919361946482,\n",
              " -0.1616534094579612,\n",
              " -0.15431198216274894,\n",
              " 0.3712254502254072]"
            ]
          },
          "metadata": {},
          "execution_count": 47
        }
      ],
      "source": [
        "xc"
      ]
    },
    {
      "cell_type": "code",
      "execution_count": 49,
      "metadata": {
        "colab": {
          "base_uri": "https://localhost:8080/",
          "height": 506
        },
        "id": "oI18ruGRJy-C",
        "outputId": "744ca097-9a03-4033-822f-0ecf29471f93"
      },
      "outputs": [
        {
          "output_type": "display_data",
          "data": {
            "text/plain": [
              "<Figure size 500x500 with 1 Axes>"
            ],
            "image/png": "[encoded data removed]"
          },
          "metadata": {}
        }
      ],
      "source": [
        "sns.displot(sample_mean_calculator(x, 25, 70), color='green', kde=True)\n",
        "_ = plt.xlim(-1.5, 1.5)"
      ]
    },
    {
      "cell_type": "markdown",
      "metadata": {
        "id": "xHGa07YxJy-C"
      },
      "source": [
        "The more samples we take, the more likely that the sampling distribution of the means will be normally distributed: "
      ]
    },
    {
      "cell_type": "code",
      "execution_count": 50,
      "metadata": {
        "colab": {
          "base_uri": "https://localhost:8080/",
          "height": 506
        },
        "id": "OPT9azuTJy-C",
        "outputId": "466ba24e-fe53-47f2-8fa8-fb765ca73d85"
      },
      "outputs": [
        {
          "output_type": "display_data",
          "data": {
            "text/plain": [
              "<Figure size 500x500 with 1 Axes>"
            ],
            "image/png": "[encoded data removed]"
          },
          "metadata": {}
        }
      ],
      "source": [
        "sns.displot(sample_mean_calculator(x, 10, 1000), color='green', kde=True)\n",
        "_ = plt.xlim(-1.5, 1.5)"
      ]
    },
    {
      "cell_type": "markdown",
      "metadata": {
        "id": "JhYHcSXSJy-C"
      },
      "source": [
        "The larger the sample, the tighter the sample means will tend to be around the population mean:"
      ]
    },
    {
      "cell_type": "code",
      "execution_count": 52,
      "metadata": {
        "colab": {
          "base_uri": "https://localhost:8080/",
          "height": 506
        },
        "id": "Bx3AvY5GJy-D",
        "outputId": "26a576c2-1b0d-460a-c0e4-c10ba9e9c00a"
      },
      "outputs": [
        {
          "output_type": "display_data",
          "data": {
            "text/plain": [
              "<Figure size 500x500 with 1 Axes>"
            ],
            "image/png": "[encoded data removed]"
          },
          "metadata": {}
        }
      ],
      "source": [
        "sns.displot(sample_mean_calculator(x, 100, 1000), color='green', kde=True)\n",
        "_ = plt.xlim(-1.5, 1.5)"
      ]
    },
    {
      "cell_type": "code",
      "execution_count": 53,
      "metadata": {
        "colab": {
          "base_uri": "https://localhost:8080/",
          "height": 506
        },
        "id": "EhsVc9EUJy-D",
        "outputId": "a5803c77-adcc-4566-b550-cb882885adec"
      },
      "outputs": [
        {
          "output_type": "display_data",
          "data": {
            "text/plain": [
              "<Figure size 500x500 with 1 Axes>"
            ],
            "image/png": "[encoded data removed]"
          },
          "metadata": {}
        }
      ],
      "source": [
        "sns.displot(sample_mean_calculator(x, 1000, 1000), color='green', kde=True)\n",
        "_ = plt.xlim(-1.5, 1.5)"
      ]
    },
    {
      "cell_type": "markdown",
      "metadata": {
        "id": "uwW98i_MJy-E"
      },
      "source": [
        "#### Sampling from a skewed distribution"
      ]
    },
    {
      "cell_type": "code",
      "execution_count": 54,
      "metadata": {
        "id": "ZcAhyVlfJy-E"
      },
      "outputs": [],
      "source": [
        "s = st.skewnorm.rvs(10, size=10000)"
      ]
    },
    {
      "cell_type": "code",
      "execution_count": 55,
      "metadata": {
        "colab": {
          "base_uri": "https://localhost:8080/",
          "height": 506
        },
        "id": "5agwbQu-Jy-E",
        "outputId": "df00f53d-a838-4198-83e0-478b9f0eedd9"
      },
      "outputs": [
        {
          "output_type": "display_data",
          "data": {
            "text/plain": [
              "<Figure size 500x500 with 1 Axes>"
            ],
            "image/png": "[encoded data removed]"
          },
          "metadata": {}
        }
      ],
      "source": [
        "_ = sns.displot(s, kde=True)"
      ]
    },
    {
      "cell_type": "code",
      "execution_count": 56,
      "metadata": {
        "colab": {
          "base_uri": "https://localhost:8080/",
          "height": 506
        },
        "id": "1rU7N_XIJy-F",
        "outputId": "459f6c81-6091-4b78-9c51-cec9ecc26e1d"
      },
      "outputs": [
        {
          "output_type": "display_data",
          "data": {
            "text/plain": [
              "<Figure size 500x500 with 1 Axes>"
            ],
            "image/png": "[encoded data removed]"
          },
          "metadata": {}
        }
      ],
      "source": [
        "_ = sns.displot(sample_mean_calculator(s, 10, 1000), color='green', kde=True)"
      ]
    },
    {
      "cell_type": "code",
      "execution_count": 57,
      "metadata": {
        "colab": {
          "base_uri": "https://localhost:8080/",
          "height": 506
        },
        "id": "Gf8z-zWnJy-F",
        "outputId": "9f63e1e0-44c5-4301-8eac-bf6983d1ac05"
      },
      "outputs": [
        {
          "output_type": "display_data",
          "data": {
            "text/plain": [
              "<Figure size 500x500 with 1 Axes>"
            ],
            "image/png": "[encoded data removed]"
          },
          "metadata": {}
        }
      ],
      "source": [
        "_ = sns.displot(sample_mean_calculator(s, 1000, 1000), color='green', kde=True)"
      ]
    },
    {
      "cell_type": "markdown",
      "metadata": {
        "id": "khgxd4kKJy-F"
      },
      "source": [
        "#### Sampling from a multimodal distribution"
      ]
    },
    {
      "cell_type": "code",
      "execution_count": 58,
      "metadata": {
        "id": "BwddoyHZJy-F"
      },
      "outputs": [],
      "source": [
        "m = np.concatenate((np.random.normal(size=5000), np.random.normal(loc = 7.0, size=5000)))"
      ]
    },
    {
      "cell_type": "code",
      "execution_count": 59,
      "metadata": {
        "colab": {
          "base_uri": "https://localhost:8080/",
          "height": 506
        },
        "id": "b7-jIOsKJy-F",
        "outputId": "b4166703-b6ed-4c93-df0a-f73a4cf246ae"
      },
      "outputs": [
        {
          "output_type": "display_data",
          "data": {
            "text/plain": [
              "<Figure size 500x500 with 1 Axes>"
            ],
            "image/png": "[encoded data removed]"
          },
          "metadata": {}
        }
      ],
      "source": [
        "_ = sns.displot(m, kde=True)"
      ]
    },
    {
      "cell_type": "code",
      "execution_count": 60,
      "metadata": {
        "colab": {
          "base_uri": "https://localhost:8080/",
          "height": 506
        },
        "id": "FgDJbhHNJy-G",
        "outputId": "6f4eca04-769a-4183-b490-d71e02659953"
      },
      "outputs": [
        {
          "output_type": "display_data",
          "data": {
            "text/plain": [
              "<Figure size 500x500 with 1 Axes>"
            ],
            "image/png": "[encoded data removed]"
          },
          "metadata": {}
        }
      ],
      "source": [
        "_ = sns.displot(sample_mean_calculator(m, 1000, 1000), color='green', kde=True)"
      ]
    },
    {
      "cell_type": "markdown",
      "metadata": {
        "id": "O1xAAvNsJy-G"
      },
      "source": [
        "#### Sampling from uniform"
      ]
    },
    {
      "cell_type": "markdown",
      "metadata": {
        "id": "GPGNikM2Jy-G"
      },
      "source": [
        "Even sampling from the highly non-normal uniform distribution, the sampling distribution comes out normal: "
      ]
    },
    {
      "cell_type": "code",
      "execution_count": 61,
      "metadata": {
        "id": "P72RDUP_Jy-G"
      },
      "outputs": [],
      "source": [
        "u = np.random.uniform(size=10000)"
      ]
    },
    {
      "cell_type": "code",
      "execution_count": 62,
      "metadata": {
        "colab": {
          "base_uri": "https://localhost:8080/",
          "height": 506
        },
        "id": "NnSaVMzzJy-G",
        "outputId": "60e46e60-6f09-4556-932e-79e9e580f990"
      },
      "outputs": [
        {
          "output_type": "display_data",
          "data": {
            "text/plain": [
              "<Figure size 500x500 with 1 Axes>"
            ],
            "image/png": "[encoded data removed]"
          },
          "metadata": {}
        }
      ],
      "source": [
        "_ = sns.displot(u)"
      ]
    },
    {
      "cell_type": "code",
      "execution_count": 63,
      "metadata": {
        "colab": {
          "base_uri": "https://localhost:8080/",
          "height": 506
        },
        "id": "6ofAl-bXJy-G",
        "outputId": "675a89e3-e583-47d3-82d2-5fcf4b916fa2"
      },
      "outputs": [
        {
          "output_type": "display_data",
          "data": {
            "text/plain": [
              "<Figure size 500x500 with 1 Axes>"
            ],
            "image/png": "[encoded data removed]"
          },
          "metadata": {}
        }
      ],
      "source": [
        "_ = sns.displot(sample_mean_calculator(u, 1000, 1000), color='green', kde=True)"
      ]
    },
    {
      "cell_type": "markdown",
      "metadata": {
        "id": "CzsGWDvgJy-G"
      },
      "source": [
        "Therefore, with large enough sample sizes, we can assume the sampling distribution of the means will be normally distributed, allowing us to apply statistical and ML models that are configured for normally distributed noise, which is often the default assumption.\n",
        "\n",
        "As an example, the \"*t*-test\" (covered shortly in *Intro to Stats*) allows us to infer whether two samples come from different populations (say, an experimental group that receives a treatment and a control group that receives a placebo). Thanks to the CLT, we can use this test even if we have no idea what the underlying distributions of the populations being tested are, which may be the case more frequently than not. "
      ]
    },
    {
      "cell_type": "markdown",
      "metadata": {
        "id": "qdoH1h1cJy-H"
      },
      "source": [
        "### z-scores"
      ]
    },
    {
      "cell_type": "markdown",
      "metadata": {
        "id": "amWbtyvMJy-H"
      },
      "source": [
        "Assuming normally-distributed data, a z-score indicates how many standard deviations away from the mean a data point (say, $x_i$) is: \n",
        "$$ z = \\frac{x_i-\\mu}{\\sigma} $$"
      ]
    },
    {
      "cell_type": "markdown",
      "metadata": {
        "id": "MR7WaPXEJy-H"
      },
      "source": [
        "That is, the formula *standardizes* a given score $x_i$ to the (standard normal) *z*-distribution. (As we covered in *Probability & Information Theory*, you could standardize any normal distribution to a mean of zero and standard deviation of one by subtracting its original mean and then dividing by its original standard deviation.)"
      ]
    },
    {
      "cell_type": "markdown",
      "metadata": {
        "id": "hTAg32LLJy-H"
      },
      "source": [
        "For example, let's say you get 85% on a CS101 exam. Sounds like a pretty good score and you did extremely well relative to your peers if the mean was 60% with a standard deviation of 10%:"
      ]
    },
    {
      "cell_type": "code",
      "execution_count": 65,
      "metadata": {
        "id": "nCN9Lrc5Jy-H"
      },
      "outputs": [],
      "source": [
        "x_i = 95\n",
        "mu = 60\n",
        "sigma = 10"
      ]
    },
    {
      "cell_type": "code",
      "execution_count": 66,
      "metadata": {
        "id": "oTVMKmYwJy-H"
      },
      "outputs": [],
      "source": [
        "x = np.random.normal(mu, sigma, 10000)"
      ]
    },
    {
      "cell_type": "code",
      "execution_count": 67,
      "metadata": {
        "colab": {
          "base_uri": "https://localhost:8080/",
          "height": 506
        },
        "id": "JiCkR-4YJy-H",
        "outputId": "0c08d679-7138-4815-9420-7842ed964894"
      },
      "outputs": [
        {
          "output_type": "display_data",
          "data": {
            "text/plain": [
              "<Figure size 500x500 with 1 Axes>"
            ],
            "image/png": "[encoded data removed]"
          },
          "metadata": {}
        }
      ],
      "source": [
        "sns.displot(x, color='gray')\n",
        "ax.set_xlim(50, 100)\n",
        "plt.axvline(mu, color='orange')\n",
        "for v in [-3, -2, -1, 1, 2, 3]:\n",
        "    plt.axvline(mu+v*sigma, color='olivedrab')\n",
        "_ = plt.axvline(x_i, color='black')"
      ]
    },
    {
      "cell_type": "raw",
      "metadata": {
        "id": "xWcxcmDlJy-I"
      },
      "source": [
        "Your z-score is 2.5 standard deviations above the mean: "
      ]
    },
    {
      "cell_type": "code",
      "execution_count": 68,
      "metadata": {
        "colab": {
          "base_uri": "https://localhost:8080/"
        },
        "id": "63mlk5oEJy-I",
        "outputId": "616062f4-0770-4138-b13a-e6fb3a7f96a5"
      },
      "outputs": [
        {
          "output_type": "execute_result",
          "data": {
            "text/plain": [
              "3.5"
            ]
          },
          "metadata": {},
          "execution_count": 68
        }
      ],
      "source": [
        "z = (x_i - mu)/sigma\n",
        "z"
      ]
    },
    {
      "cell_type": "markdown",
      "metadata": {
        "id": "zh2fhCRDJy-I"
      },
      "source": [
        "Or using our simulated class of 10k CS101 students: "
      ]
    },
    {
      "cell_type": "code",
      "execution_count": 69,
      "metadata": {
        "id": "3YKq1tI3Uwbb"
      },
      "outputs": [],
      "source": [
        "x_i = 50\n",
        "mu = 60\n",
        "sigma = 10"
      ]
    },
    {
      "cell_type": "code",
      "execution_count": 70,
      "metadata": {
        "colab": {
          "base_uri": "https://localhost:8080/"
        },
        "id": "XwbcdpwYJy-I",
        "outputId": "2c58490d-2b07-4f31-95f0-2e78ace0d367"
      },
      "outputs": [
        {
          "output_type": "execute_result",
          "data": {
            "text/plain": [
              "-1.003452557756451"
            ]
          },
          "metadata": {},
          "execution_count": 70
        }
      ],
      "source": [
        "z = (x_i - np.mean(x))/np.std(x)\n",
        "z"
      ]
    },
    {
      "cell_type": "markdown",
      "metadata": {
        "id": "Iw7tDGYCJy-J"
      },
      "source": [
        "Less than one percent of the class outperformed you: "
      ]
    },
    {
      "cell_type": "code",
      "execution_count": 71,
      "metadata": {
        "colab": {
          "base_uri": "https://localhost:8080/"
        },
        "id": "EeVjREfhJy-J",
        "outputId": "4ae51a03-74b7-43d4-a2f6-47b848943c9b"
      },
      "outputs": [
        {
          "output_type": "execute_result",
          "data": {
            "text/plain": [
              "23"
            ]
          },
          "metadata": {},
          "execution_count": 71
        }
      ],
      "source": [
        "len(np.where(x > 88)[0])"
      ]
    },
    {
      "cell_type": "code",
      "execution_count": 72,
      "metadata": {
        "colab": {
          "base_uri": "https://localhost:8080/"
        },
        "id": "q1lRwyV8Uwbb",
        "outputId": "07f6dfd0-d35d-4421-b6b9-8bf307f8890e"
      },
      "outputs": [
        {
          "output_type": "execute_result",
          "data": {
            "text/plain": [
              "9991"
            ]
          },
          "metadata": {},
          "execution_count": 72
        }
      ],
      "source": [
        "len(np.where(x < 94)[0])"
      ]
    },
    {
      "cell_type": "code",
      "execution_count": 73,
      "metadata": {
        "colab": {
          "base_uri": "https://localhost:8080/"
        },
        "id": "pcJS3YIRJy-J",
        "outputId": "d3ba0ee7-8a1c-42e2-b093-9e163ca029f7"
      },
      "outputs": [
        {
          "output_type": "execute_result",
          "data": {
            "text/plain": [
              "0.29"
            ]
          },
          "metadata": {},
          "execution_count": 73
        }
      ],
      "source": [
        "100*29/10000"
      ]
    },
    {
      "cell_type": "code",
      "execution_count": 74,
      "metadata": {
        "colab": {
          "base_uri": "https://localhost:8080/"
        },
        "id": "MJTyVlTtUwbc",
        "outputId": "8460be63-aee3-4b55-bbcd-7b59797fdfdf"
      },
      "outputs": [
        {
          "output_type": "execute_result",
          "data": {
            "text/plain": [
              "0.94"
            ]
          },
          "metadata": {},
          "execution_count": 74
        }
      ],
      "source": [
        "100*94/10000"
      ]
    },
    {
      "cell_type": "code",
      "execution_count": 75,
      "metadata": {
        "colab": {
          "base_uri": "https://localhost:8080/"
        },
        "id": "biFn-h76Jy-J",
        "outputId": "73b85169-e70e-4792-8353-f199d9f919c7"
      },
      "outputs": [
        {
          "output_type": "execute_result",
          "data": {
            "text/plain": [
              "85.48131062522806"
            ]
          },
          "metadata": {},
          "execution_count": 75
        }
      ],
      "source": [
        "np.percentile(x, 99.5)"
      ]
    },
    {
      "cell_type": "markdown",
      "metadata": {
        "id": "cAZhJMenJy-J"
      },
      "source": [
        "In contrast, if the mean score of your peers is 90 and the standard deviation is 2: "
      ]
    },
    {
      "cell_type": "code",
      "execution_count": 76,
      "metadata": {
        "id": "fZj22bDfJy-J"
      },
      "outputs": [],
      "source": [
        "mu = 90\n",
        "sigma = 2"
      ]
    },
    {
      "cell_type": "code",
      "execution_count": 77,
      "metadata": {
        "id": "6M0zc3PKJy-K"
      },
      "outputs": [],
      "source": [
        "y = np.random.normal(mu, sigma, 10000)"
      ]
    },
    {
      "cell_type": "code",
      "execution_count": 78,
      "metadata": {
        "colab": {
          "base_uri": "https://localhost:8080/",
          "height": 506
        },
        "id": "dj2CWs5kJy-K",
        "outputId": "fdf1b0f6-3b60-40f5-d149-c80ad129ae4d"
      },
      "outputs": [
        {
          "output_type": "display_data",
          "data": {
            "text/plain": [
              "<Figure size 500x500 with 1 Axes>"
            ],
            "image/png": "[encoded data removed]"
          },
          "metadata": {}
        }
      ],
      "source": [
        "sns.displot(y, color='gray')\n",
        "plt.axvline(mu, color='orange')\n",
        "for v in [-3, -2, -1, 1, 2, 3]:\n",
        "    plt.axvline(mu+v*sigma, color='olivedrab')\n",
        "_ = plt.axvline(x_i, color='purple')"
      ]
    },
    {
      "cell_type": "code",
      "execution_count": 79,
      "metadata": {
        "id": "9zQXXfwYUwbc"
      },
      "outputs": [],
      "source": [
        "z=0.05\n",
        "mu = 90\n",
        "sigma = 2"
      ]
    },
    {
      "cell_type": "markdown",
      "metadata": {
        "id": "z1b5fEFZJy-K"
      },
      "source": [
        "Your z-score is 2.5 standard deviations *below* the mean (!): "
      ]
    },
    {
      "cell_type": "code",
      "execution_count": 80,
      "metadata": {
        "colab": {
          "base_uri": "https://localhost:8080/"
        },
        "id": "tnDjdaP2Jy-L",
        "outputId": "7f708851-7b68-4f67-e4d4-c165381a93e4"
      },
      "outputs": [
        {
          "output_type": "execute_result",
          "data": {
            "text/plain": [
              "90.1"
            ]
          },
          "metadata": {},
          "execution_count": 80
        }
      ],
      "source": [
        "x_i=z*sigma+mu \n",
        "x_i"
      ]
    },
    {
      "cell_type": "code",
      "execution_count": 81,
      "metadata": {
        "id": "nwl2l6cZUwbc"
      },
      "outputs": [],
      "source": [
        "z=0.05\n",
        "mu = 90\n",
        "sigma = 2"
      ]
    },
    {
      "cell_type": "code",
      "execution_count": 82,
      "metadata": {
        "colab": {
          "base_uri": "https://localhost:8080/"
        },
        "id": "hugv4s0eUwbd",
        "outputId": "c27b6f93-1a2e-430f-b793-5cdf2fd6c599"
      },
      "outputs": [
        {
          "output_type": "execute_result",
          "data": {
            "text/plain": [
              "90.1"
            ]
          },
          "metadata": {},
          "execution_count": 82
        }
      ],
      "source": [
        "x_i=z*sigma+mu \n",
        "x_i"
      ]
    },
    {
      "cell_type": "code",
      "execution_count": 82,
      "metadata": {
        "id": "Fg8rNZ7RUwbd"
      },
      "outputs": [],
      "source": []
    },
    {
      "cell_type": "markdown",
      "metadata": {
        "id": "VWZ7yvTZJy-L"
      },
      "source": [
        "Or using our simulated class of 10k CS101 students: "
      ]
    },
    {
      "cell_type": "code",
      "execution_count": 83,
      "metadata": {
        "colab": {
          "base_uri": "https://localhost:8080/"
        },
        "id": "TgBIWccvJy-L",
        "outputId": "fb86ae62-316c-4ab9-f13e-b60cfb1aa76f"
      },
      "outputs": [
        {
          "output_type": "execute_result",
          "data": {
            "text/plain": [
              "0.043396017336288305"
            ]
          },
          "metadata": {},
          "execution_count": 83
        }
      ],
      "source": [
        "z = (x_i - np.mean(y))/np.std(y)\n",
        "z"
      ]
    },
    {
      "cell_type": "markdown",
      "metadata": {
        "id": "VR6cZOCVJy-L"
      },
      "source": [
        "In which case, over 99% of the class outperformed you: "
      ]
    },
    {
      "cell_type": "code",
      "execution_count": 84,
      "metadata": {
        "colab": {
          "base_uri": "https://localhost:8080/"
        },
        "id": "7y4fP6U-Jy-L",
        "outputId": "eac196f3-ff39-4111-f7ce-c3ac11890e6c"
      },
      "outputs": [
        {
          "output_type": "execute_result",
          "data": {
            "text/plain": [
              "9942"
            ]
          },
          "metadata": {},
          "execution_count": 84
        }
      ],
      "source": [
        "len(np.where(y > 85)[0])"
      ]
    },
    {
      "cell_type": "code",
      "execution_count": 85,
      "metadata": {
        "colab": {
          "base_uri": "https://localhost:8080/"
        },
        "id": "KLH3RI-yJy-L",
        "outputId": "27f19fa0-f432-4915-a9ac-0a9972bd1ea9"
      },
      "outputs": [
        {
          "output_type": "execute_result",
          "data": {
            "text/plain": [
              "99.33"
            ]
          },
          "metadata": {},
          "execution_count": 85
        }
      ],
      "source": [
        "100*9933/10000"
      ]
    },
    {
      "cell_type": "markdown",
      "metadata": {
        "id": "bFacTGGvJy-M"
      },
      "source": [
        "A mere 67 folks attained worse: "
      ]
    },
    {
      "cell_type": "code",
      "execution_count": 86,
      "metadata": {
        "colab": {
          "base_uri": "https://localhost:8080/"
        },
        "id": "cgc7QrXxJy-M",
        "outputId": "4a0096e9-4163-4a63-9ab3-dafe99787741"
      },
      "outputs": [
        {
          "output_type": "execute_result",
          "data": {
            "text/plain": [
              "67"
            ]
          },
          "metadata": {},
          "execution_count": 86
        }
      ],
      "source": [
        "10000-9933"
      ]
    },
    {
      "cell_type": "code",
      "execution_count": 87,
      "metadata": {
        "colab": {
          "base_uri": "https://localhost:8080/"
        },
        "id": "aY7HDwhkJy-M",
        "outputId": "51805b47-04df-4d95-93b8-33f6769ab496"
      },
      "outputs": [
        {
          "output_type": "execute_result",
          "data": {
            "text/plain": [
              "85.34510026550551"
            ]
          },
          "metadata": {},
          "execution_count": 87
        }
      ],
      "source": [
        "np.percentile(y, 1)"
      ]
    },
    {
      "cell_type": "markdown",
      "metadata": {
        "id": "aoqKrAPOJy-M"
      },
      "source": [
        "A frequentist convention is to consider a data point that lies further than three standard deviations from the mean to be an **outlier**. \n",
        "\n",
        "It's a good idea to individually investigate outliers in your data as they may represent an erroneous data point (e.g., some data by accident, a data-entry error, or a failed experiment) that perhaps should be removed from further analysis (especially, as outliers can have an outsized impact on statistics including mean and correlation). It may even tip you off to a major issue with your data-collection methodology or your ML model that can be resolved or that you could have a unit test for."
      ]
    },
    {
      "cell_type": "markdown",
      "metadata": {
        "id": "PNB9TnHgJy-P"
      },
      "source": [
        "### *p*-values"
      ]
    },
    {
      "cell_type": "markdown",
      "metadata": {
        "id": "JFpWDfhPJy-P"
      },
      "source": [
        "These quantify the *p*robability that a given observation would occur by chance alone. \n",
        "\n",
        "For example, we saw above that with our simulated 10k exam results, only 69 folks attained a *z*-score above 2.5 and only 67 (=10000-9993) attained a *z*-score below -2.5. Thus, if we were to randomly sample one of the 10k CS101 exam results, we would expect it to be outside of 2.5 (i.e., +/- 2.5) standard deviations only 1.36% of the time: \n",
        "$$ \\frac{69+67}{10000} = 0.0136 = 1.36\\% $$"
      ]
    },
    {
      "cell_type": "markdown",
      "metadata": {
        "id": "uZGJqELvJy-Q"
      },
      "source": [
        "Equivalent to increasing our CS101 class size from 10k toward infinity, the probability of a score being further than 2.5 standard deviations from the mean of a normal distribution can be determined with the distribution's *cumulative distribution function* (CDF): "
      ]
    },
    {
      "cell_type": "code",
      "execution_count": 88,
      "metadata": {
        "colab": {
          "base_uri": "https://localhost:8080/"
        },
        "id": "5s-ySScTJy-Q",
        "outputId": "9eb46b64-8f33-46c7-afd9-1d35dbbed522"
      },
      "outputs": [
        {
          "output_type": "execute_result",
          "data": {
            "text/plain": [
              "0.006209665325776132"
            ]
          },
          "metadata": {},
          "execution_count": 88
        }
      ],
      "source": [
        "p_below = st.norm.cdf(-2.5)\n",
        "p_below"
      ]
    },
    {
      "cell_type": "code",
      "execution_count": 89,
      "metadata": {
        "colab": {
          "base_uri": "https://localhost:8080/"
        },
        "id": "u62I9OjtJy-Q",
        "outputId": "1ce95d7f-e2a8-4dbf-b154-3b2e2b8688d0"
      },
      "outputs": [
        {
          "output_type": "execute_result",
          "data": {
            "text/plain": [
              "62.096653257761325"
            ]
          },
          "metadata": {},
          "execution_count": 89
        }
      ],
      "source": [
        "p_below*10000"
      ]
    },
    {
      "cell_type": "code",
      "execution_count": 90,
      "metadata": {
        "colab": {
          "base_uri": "https://localhost:8080/",
          "height": 506
        },
        "id": "0-AGIPvRJy-Q",
        "outputId": "3e99cba7-4145-4241-bd87-3c6b0a0b0a4c"
      },
      "outputs": [
        {
          "output_type": "display_data",
          "data": {
            "text/plain": [
              "<Figure size 500x500 with 1 Axes>"
            ],
            "image/png": "[encoded data removed]"
          },
          "metadata": {}
        }
      ],
      "source": [
        "sns.displot(y, color='gray')\n",
        "_ = plt.axvline(mu-2.5*sigma, color='blue')"
      ]
    },
    {
      "cell_type": "code",
      "execution_count": 91,
      "metadata": {
        "colab": {
          "base_uri": "https://localhost:8080/"
        },
        "id": "nI18Ajo-Jy-Q",
        "outputId": "5268fdf8-dd62-4d48-b224-4c1e27824aa9"
      },
      "outputs": [
        {
          "output_type": "execute_result",
          "data": {
            "text/plain": [
              "0.9937903346742238"
            ]
          },
          "metadata": {},
          "execution_count": 91
        }
      ],
      "source": [
        "st.norm.cdf(2.5)"
      ]
    },
    {
      "cell_type": "code",
      "execution_count": 92,
      "metadata": {
        "colab": {
          "base_uri": "https://localhost:8080/"
        },
        "id": "XeX3OfokJy-Q",
        "outputId": "45e13589-e45d-4628-f0cf-8447ce1b587a"
      },
      "outputs": [
        {
          "output_type": "execute_result",
          "data": {
            "text/plain": [
              "0.006209665325776159"
            ]
          },
          "metadata": {},
          "execution_count": 92
        }
      ],
      "source": [
        "p_above = 1-st.norm.cdf(2.5)\n",
        "p_above"
      ]
    },
    {
      "cell_type": "code",
      "execution_count": 93,
      "metadata": {
        "colab": {
          "base_uri": "https://localhost:8080/"
        },
        "id": "GQ4fjiJZJy-Q",
        "outputId": "06a8a2bc-d77a-4261-e7d2-4fa624bbb855"
      },
      "outputs": [
        {
          "output_type": "execute_result",
          "data": {
            "text/plain": [
              "62.09665325776159"
            ]
          },
          "metadata": {},
          "execution_count": 93
        }
      ],
      "source": [
        "p_above*10000"
      ]
    },
    {
      "cell_type": "code",
      "execution_count": 94,
      "metadata": {
        "colab": {
          "base_uri": "https://localhost:8080/",
          "height": 506
        },
        "id": "e8-QvwuNJy-R",
        "outputId": "38328581-b3e2-4c4a-b043-99ed85dd0b32"
      },
      "outputs": [
        {
          "output_type": "display_data",
          "data": {
            "text/plain": [
              "<Figure size 500x500 with 1 Axes>"
            ],
            "image/png": "[encoded data removed]"
          },
          "metadata": {}
        }
      ],
      "source": [
        "sns.displot(y, color='gray')\n",
        "_ = plt.axvline(mu+2.5*sigma, color='blue')"
      ]
    },
    {
      "cell_type": "code",
      "execution_count": 95,
      "metadata": {
        "colab": {
          "base_uri": "https://localhost:8080/"
        },
        "id": "GYllm_UaJy-R",
        "outputId": "85483cae-0110-414e-c2dc-f5f35d8e8cd5"
      },
      "outputs": [
        {
          "output_type": "execute_result",
          "data": {
            "text/plain": [
              "0.01241933065155229"
            ]
          },
          "metadata": {},
          "execution_count": 95
        }
      ],
      "source": [
        "p_outside = p_below + p_above\n",
        "p_outside"
      ]
    },
    {
      "cell_type": "code",
      "execution_count": 96,
      "metadata": {
        "colab": {
          "base_uri": "https://localhost:8080/"
        },
        "id": "44Cq4EtKJy-R",
        "outputId": "d5fda952-b7db-4b5b-fcd0-ab0d9b6fb5d2"
      },
      "outputs": [
        {
          "output_type": "execute_result",
          "data": {
            "text/plain": [
              "124.1933065155229"
            ]
          },
          "metadata": {},
          "execution_count": 96
        }
      ],
      "source": [
        "p_outside*10000"
      ]
    },
    {
      "cell_type": "code",
      "execution_count": 97,
      "metadata": {
        "colab": {
          "base_uri": "https://localhost:8080/",
          "height": 506
        },
        "id": "6zdZEbPmJy-R",
        "outputId": "88dd46f2-67c6-48b4-b31b-fa47852c21fc"
      },
      "outputs": [
        {
          "output_type": "display_data",
          "data": {
            "text/plain": [
              "<Figure size 500x500 with 1 Axes>"
            ],
            "image/png": "[encoded data removed]"
          },
          "metadata": {}
        }
      ],
      "source": [
        "sns.displot(y, color='gray')\n",
        "plt.axvline(mu+2.5*sigma, color='blue')\n",
        "_ = plt.axvline(mu-2.5*sigma, color='blue')"
      ]
    },
    {
      "cell_type": "markdown",
      "metadata": {
        "id": "I0TSl17uJy-R"
      },
      "source": [
        "In other words, assuming a normal distribution, the probability (the *p*-value) of a sampled value being at least 2.5 standard deviations away from the mean by ** chance alone ** is $p \\approx .0124$."
      ]
    },
    {
      "cell_type": "markdown",
      "metadata": {
        "id": "KMt6x7BQJy-S"
      },
      "source": [
        "The *z*-scores corresponding to $\\alpha = .05$ can be obtained from the normal distribution's *percent point function* (PPF), which facilitates the inverse of the CDF. To capture 95% of the values around the mean, we leave 2.5% at the bottom of the distribution and 2.5% at the top: "
      ]
    },
    {
      "cell_type": "code",
      "execution_count": 98,
      "metadata": {
        "colab": {
          "base_uri": "https://localhost:8080/"
        },
        "id": "y3ZqdV9WJy-S",
        "outputId": "6bdf7af9-690f-445d-e0c8-b296b491f9f1"
      },
      "outputs": [
        {
          "output_type": "execute_result",
          "data": {
            "text/plain": [
              "-1.9599639845400545"
            ]
          },
          "metadata": {},
          "execution_count": 98
        }
      ],
      "source": [
        "st.norm.ppf(.025)"
      ]
    },
    {
      "cell_type": "code",
      "execution_count": 99,
      "metadata": {
        "colab": {
          "base_uri": "https://localhost:8080/"
        },
        "id": "VJGV5em-Jy-S",
        "outputId": "f08ae78c-65a7-4302-d40e-28c8b021a994"
      },
      "outputs": [
        {
          "output_type": "execute_result",
          "data": {
            "text/plain": [
              "1.959963984540054"
            ]
          },
          "metadata": {},
          "execution_count": 99
        }
      ],
      "source": [
        "st.norm.ppf(.975)"
      ]
    },
    {
      "cell_type": "markdown",
      "metadata": {
        "id": "RObWUObeJy-S"
      },
      "source": [
        "Thus, at the traditional $\\alpha = .05$, a sampled value with *z*-score less than -1.96 or greater than 1.96 would be considered statistically significant."
      ]
    },
    {
      "cell_type": "code",
      "execution_count": 100,
      "metadata": {
        "colab": {
          "base_uri": "https://localhost:8080/",
          "height": 506
        },
        "id": "a7yRDzN-Jy-S",
        "outputId": "6f84522d-ab65-4d4e-bc7f-42ec452181fe"
      },
      "outputs": [
        {
          "output_type": "display_data",
          "data": {
            "text/plain": [
              "<Figure size 500x500 with 1 Axes>"
            ],
            "image/png": "[encoded data removed]"
          },
          "metadata": {}
        }
      ],
      "source": [
        "sns.displot(y, color='gray')\n",
        "plt.axvline(mu+1.96*sigma, color='darkred')\n",
        "_ = plt.axvline(mu-1.96*sigma, color='darkred')"
      ]
    },
    {
      "cell_type": "markdown",
      "metadata": {
        "id": "esOQED5oqLSL"
      },
      "source": [
        "With a stricter threshold, say $\\alpha = .01$:"
      ]
    },
    {
      "cell_type": "code",
      "execution_count": 101,
      "metadata": {
        "colab": {
          "base_uri": "https://localhost:8080/"
        },
        "id": "2J1meOTUqIcG",
        "outputId": "f74c3282-eb43-40ed-e8c4-88f605571728"
      },
      "outputs": [
        {
          "output_type": "execute_result",
          "data": {
            "text/plain": [
              "-2.575829303548901"
            ]
          },
          "metadata": {},
          "execution_count": 101
        }
      ],
      "source": [
        "st.norm.ppf(.005)"
      ]
    },
    {
      "cell_type": "code",
      "execution_count": 102,
      "metadata": {
        "colab": {
          "base_uri": "https://localhost:8080/"
        },
        "id": "DYqpw9SpqQNc",
        "outputId": "db3717a0-6dc2-4177-ffa3-9b5ade81d0a0"
      },
      "outputs": [
        {
          "output_type": "execute_result",
          "data": {
            "text/plain": [
              "2.5758293035489004"
            ]
          },
          "metadata": {},
          "execution_count": 102
        }
      ],
      "source": [
        "st.norm.ppf(.995)"
      ]
    },
    {
      "cell_type": "code",
      "execution_count": 103,
      "metadata": {
        "colab": {
          "base_uri": "https://localhost:8080/",
          "height": 506
        },
        "id": "H5JqPoSdqSlp",
        "outputId": "9f29f157-acf7-426e-abf2-508a2e316635"
      },
      "outputs": [
        {
          "output_type": "display_data",
          "data": {
            "text/plain": [
              "<Figure size 500x500 with 1 Axes>"
            ],
            "image/png": "[encoded data removed]"
          },
          "metadata": {}
        }
      ],
      "source": [
        "sns.displot(y, color='gray')\n",
        "\n",
        "plt.axvline(mu+1.96*sigma, color='darkred')\n",
        "plt.axvline(mu-1.96*sigma, color='darkred')\n",
        "\n",
        "plt.axvline(mu+2.56*sigma, color='black')\n",
        "_ = plt.axvline(mu-2.56*sigma, color='black')"
      ]
    },
    {
      "cell_type": "markdown",
      "metadata": {
        "id": "jOK4j775Jy-S"
      },
      "source": [
        "(Time-permitting, a discussion of two-tailed vs one-tailed *p*-value tests would be informative here.)"
      ]
    },
    {
      "cell_type": "code",
      "execution_count": 104,
      "metadata": {
        "colab": {
          "base_uri": "https://localhost:8080/"
        },
        "id": "ZQKATPPkJy-T",
        "outputId": "42b5e819-ddd3-4e86-fb35-bd6bc8ed4df3"
      },
      "outputs": [
        {
          "output_type": "execute_result",
          "data": {
            "text/plain": [
              "0.5"
            ]
          },
          "metadata": {},
          "execution_count": 104
        }
      ],
      "source": [
        "p_below = st.norm.cdf(0)\n",
        "p_below"
      ]
    },
    {
      "cell_type": "code",
      "execution_count": 106,
      "metadata": {
        "colab": {
          "base_uri": "https://localhost:8080/"
        },
        "id": "dmqPNWSqJy-U",
        "outputId": "f8c9376b-f4ef-436b-eb70-bd4bff2b6897"
      },
      "outputs": [
        {
          "output_type": "execute_result",
          "data": {
            "text/plain": [
              "0.5"
            ]
          },
          "metadata": {},
          "execution_count": 106
        }
      ],
      "source": [
        "p_above = 1-st.norm.cdf(0)\n",
        "p_above"
      ]
    },
    {
      "cell_type": "code",
      "execution_count": 107,
      "metadata": {
        "colab": {
          "base_uri": "https://localhost:8080/"
        },
        "id": "Fn6BF8RbJy-U",
        "outputId": "c9b03842-a66f-48df-841a-9b4a28999a78"
      },
      "outputs": [
        {
          "output_type": "execute_result",
          "data": {
            "text/plain": [
              "1.0"
            ]
          },
          "metadata": {},
          "execution_count": 107
        }
      ],
      "source": [
        "p_below + p_above"
      ]
    },
    {
      "cell_type": "markdown",
      "metadata": {
        "id": "RWdGMzQ0Jy-U"
      },
      "source": [
        "More generally: "
      ]
    },
    {
      "cell_type": "code",
      "execution_count": 108,
      "metadata": {
        "id": "BlWSYNYEJy-U"
      },
      "outputs": [],
      "source": [
        "def p_from_z(my_z):\n",
        "    return 2 * st.norm.cdf(-abs(my_z))"
      ]
    },
    {
      "cell_type": "code",
      "execution_count": 109,
      "metadata": {
        "colab": {
          "base_uri": "https://localhost:8080/"
        },
        "id": "V-wR64UTJy-V",
        "outputId": "e575a591-fc56-4f2b-b315-ad149d295920"
      },
      "outputs": [
        {
          "output_type": "execute_result",
          "data": {
            "text/plain": [
              "1.0"
            ]
          },
          "metadata": {},
          "execution_count": 109
        }
      ],
      "source": [
        "p_from_z(0)"
      ]
    },
    {
      "cell_type": "markdown",
      "metadata": {
        "id": "jXZzO-nUJy-V"
      },
      "source": [
        "1b. The probability of a value being below $z = -2$ is:"
      ]
    },
    {
      "cell_type": "code",
      "execution_count": 110,
      "metadata": {
        "colab": {
          "base_uri": "https://localhost:8080/"
        },
        "id": "kmVVA_Z-Jy-V",
        "outputId": "e93955fc-dbc5-4300-9c42-95b910fc678d"
      },
      "outputs": [
        {
          "output_type": "execute_result",
          "data": {
            "text/plain": [
              "0.022750131948179195"
            ]
          },
          "metadata": {},
          "execution_count": 110
        }
      ],
      "source": [
        "p_below = st.norm.cdf(-2)\n",
        "p_below"
      ]
    },
    {
      "cell_type": "markdown",
      "metadata": {
        "id": "uqHYBMw9Jy-V"
      },
      "source": [
        "...and the probability of a value being above $z=2$ is the same: "
      ]
    },
    {
      "cell_type": "code",
      "execution_count": 111,
      "metadata": {
        "colab": {
          "base_uri": "https://localhost:8080/"
        },
        "id": "UFk8qbOYJy-V",
        "outputId": "e88d7687-bcb0-49b8-b21b-876a74c9ccb4"
      },
      "outputs": [
        {
          "output_type": "execute_result",
          "data": {
            "text/plain": [
              "0.02275013194817921"
            ]
          },
          "metadata": {},
          "execution_count": 111
        }
      ],
      "source": [
        "p_above = 1-st.norm.cdf(2)\n",
        "p_above"
      ]
    },
    {
      "cell_type": "markdown",
      "metadata": {
        "id": "LYa0XOgUJy-V"
      },
      "source": [
        "Therefore, the *p*-value -- the probability that a value is below $z=-2$ or above $z=2$ -- is:"
      ]
    },
    {
      "cell_type": "code",
      "execution_count": 112,
      "metadata": {
        "colab": {
          "base_uri": "https://localhost:8080/"
        },
        "id": "qur84VgxJy-W",
        "outputId": "440173bf-1be4-437e-a4de-ba374769f8ed"
      },
      "outputs": [
        {
          "output_type": "execute_result",
          "data": {
            "text/plain": [
              "0.0455002638963584"
            ]
          },
          "metadata": {},
          "execution_count": 112
        }
      ],
      "source": [
        "p_below + p_above"
      ]
    },
    {
      "cell_type": "code",
      "execution_count": 113,
      "metadata": {
        "colab": {
          "base_uri": "https://localhost:8080/"
        },
        "id": "3RJV4nIJJy-W",
        "outputId": "b41ab0a6-3c8c-4a36-810b-21159226341b"
      },
      "outputs": [
        {
          "output_type": "execute_result",
          "data": {
            "text/plain": [
              "0.04550026389635839"
            ]
          },
          "metadata": {},
          "execution_count": 113
        }
      ],
      "source": [
        "p_from_z(2)"
      ]
    },
    {
      "cell_type": "markdown",
      "metadata": {
        "id": "xwimaURKJy-W"
      },
      "source": [
        "1c. Following the same calculations as we did for 1b, the *p*-value for an observation 4 standard deviations away from the mean is: "
      ]
    },
    {
      "cell_type": "code",
      "execution_count": 114,
      "metadata": {
        "colab": {
          "base_uri": "https://localhost:8080/"
        },
        "id": "S8NL5ziVJy-W",
        "outputId": "f9a25890-16dd-4f88-eaef-dedfc90c568f"
      },
      "outputs": [
        {
          "output_type": "execute_result",
          "data": {
            "text/plain": [
              "6.334248366623973e-05"
            ]
          },
          "metadata": {},
          "execution_count": 114
        }
      ],
      "source": [
        "p_from_z(4)"
      ]
    },
    {
      "cell_type": "code",
      "execution_count": 115,
      "metadata": {
        "colab": {
          "base_uri": "https://localhost:8080/"
        },
        "id": "blFPCwJLJy-W",
        "outputId": "429f1bf3-ca3f-446b-fc2e-afaf9865bdfe"
      },
      "outputs": [
        {
          "output_type": "execute_result",
          "data": {
            "text/plain": [
              "6.33e-05"
            ]
          },
          "metadata": {},
          "execution_count": 115
        }
      ],
      "source": [
        "0.0000633"
      ]
    },
    {
      "cell_type": "markdown",
      "metadata": {
        "id": "5DcLWbVQJy-X"
      },
      "source": [
        "(Incidentally, very small *p* values are often reported as **negative log *P*** values as these are much easier to read...)"
      ]
    },
    {
      "cell_type": "code",
      "execution_count": 116,
      "metadata": {
        "colab": {
          "base_uri": "https://localhost:8080/"
        },
        "id": "vpmwsw5OJy-X",
        "outputId": "e932b830-ca6a-416d-e9f5-07158bb044b0"
      },
      "outputs": [
        {
          "output_type": "execute_result",
          "data": {
            "text/plain": [
              "4.198596289982645"
            ]
          },
          "metadata": {},
          "execution_count": 116
        }
      ],
      "source": [
        "-np.log10(6.33e-05)"
      ]
    },
    {
      "cell_type": "markdown",
      "metadata": {
        "id": "xzmOYl6xJy-X"
      },
      "source": [
        "2. The absolute value of the *z*-score for your snatch as well as your combined score is greater than 1.96 so they're both \"statistically significant\". Your performance on the clean and jerk could not have been less significant! "
      ]
    },
    {
      "cell_type": "markdown",
      "metadata": {
        "id": "HA3mbmo4Jy-X"
      },
      "source": [
        "### Comparing Means with *t*-tests"
      ]
    },
    {
      "cell_type": "markdown",
      "metadata": {
        "id": "OBARGrHjJy-X"
      },
      "source": [
        "Where *z*-scores apply to *individual values* only, *t*-tests enables us to compare (the mean of) a sample of *multiple values* to a reference mean."
      ]
    },
    {
      "cell_type": "markdown",
      "metadata": {
        "id": "FFS2GmrxJy-X"
      },
      "source": [
        "#### Student's Single-Sample *t*-test"
      ]
    },
    {
      "cell_type": "markdown",
      "metadata": {
        "id": "OEkXJ94nJy-X"
      },
      "source": [
        "Named after William Sealy Gosset, an Oxford-trained scientist and mathematician, who became a stout yield statistician for Guinness in Dublin (from 1899 to his fatal heart attack in 1937 shortly after being promoted to head brewer). Alongside sabbaticals in Karl Pearson's UCL Biometric Laboratory, Gosset published under the pseudonym Student (including on the *t*-test, starting in 1908) as it was against Guinness policy to publish."
      ]
    },
    {
      "cell_type": "markdown",
      "metadata": {
        "id": "ShlPrRtVJy-X"
      },
      "source": [
        "Recalling the formula for calculating a *z*-score: \n",
        "$$ z = \\frac{x_i-\\mu}{\\sigma} $$"
      ]
    },
    {
      "cell_type": "markdown",
      "metadata": {
        "id": "BoXBaK4WJy-Y"
      },
      "source": [
        "The **single-sample *t*-test** is a variation on the theme and is defined by: \n",
        "$$ t = \\frac{\\bar{x} - \\mu_0}{s_{\\bar{x}}} $$\n",
        "Where: \n",
        "* $\\bar{x}$ is the sample mean\n",
        "* $\\mu_0$ is a reference mean, e.g., known population mean or \"null hypothesis\" mean\n",
        "* $s_{\\bar{x}}$ is the sample standard error"
      ]
    },
    {
      "cell_type": "markdown",
      "metadata": {
        "id": "lqnCyHq6Jy-Y"
      },
      "source": [
        "Let's say you're the head brewer at Guinness. Your baseline brewing process yields 50L of stout. Using a new genetically-modified yeast, you obtain the following yields (all in liters) in four separate experiments: "
      ]
    },
    {
      "cell_type": "code",
      "execution_count": 117,
      "metadata": {
        "id": "2Lo8ozG5Jy-Y"
      },
      "outputs": [],
      "source": [
        "x = [48, 50, 54, 60]"
      ]
    },
    {
      "cell_type": "markdown",
      "metadata": {
        "id": "oov4H2IvJy-Y"
      },
      "source": [
        "We can obtain the *t*-statistic for this sample as follows: "
      ]
    },
    {
      "cell_type": "code",
      "execution_count": 118,
      "metadata": {
        "colab": {
          "base_uri": "https://localhost:8080/"
        },
        "id": "JR_0S3KyJy-Y",
        "outputId": "bfe997c1-495f-4a22-85a8-c9f8d5179d5d"
      },
      "outputs": [
        {
          "output_type": "execute_result",
          "data": {
            "text/plain": [
              "53.0"
            ]
          },
          "metadata": {},
          "execution_count": 118
        }
      ],
      "source": [
        "xbar = np.mean(x)\n",
        "xbar"
      ]
    },
    {
      "cell_type": "code",
      "execution_count": 120,
      "metadata": {
        "colab": {
          "base_uri": "https://localhost:8080/"
        },
        "id": "2OFpbkOlJy-Y",
        "outputId": "4c435a05-9d26-4e31-b3b6-60184d3408b5"
      },
      "outputs": [
        {
          "output_type": "execute_result",
          "data": {
            "text/plain": [
              "2.6457513110645907"
            ]
          },
          "metadata": {},
          "execution_count": 120
        }
      ],
      "source": [
        "sx = st.sem(x)\n",
        "sx"
      ]
    },
    {
      "cell_type": "code",
      "execution_count": 121,
      "metadata": {
        "colab": {
          "base_uri": "https://localhost:8080/"
        },
        "id": "YSX1KZ2nJy-Y",
        "outputId": "229fefa5-81aa-4f4e-8dd4-240cac3439b0"
      },
      "outputs": [
        {
          "output_type": "execute_result",
          "data": {
            "text/plain": [
              "1.1338934190276817"
            ]
          },
          "metadata": {},
          "execution_count": 121
        }
      ],
      "source": [
        "t = (xbar-50)/sx\n",
        "t"
      ]
    },
    {
      "cell_type": "code",
      "execution_count": 123,
      "metadata": {
        "id": "yqled1DnJy-Z"
      },
      "outputs": [],
      "source": [
        "def p_from_t(my_t, my_n):\n",
        "    return 2 * st.t.cdf(-abs(my_t), my_n-1) "
      ]
    },
    {
      "cell_type": "code",
      "execution_count": 124,
      "metadata": {
        "colab": {
          "base_uri": "https://localhost:8080/"
        },
        "id": "b_l4p5YwJy-Z",
        "outputId": "cebf6945-7b5e-4c62-832c-5f21a588e210"
      },
      "outputs": [
        {
          "output_type": "execute_result",
          "data": {
            "text/plain": [
              "0.3392540508564543"
            ]
          },
          "metadata": {},
          "execution_count": 124
        }
      ],
      "source": [
        "p_from_t(t, len(x))"
      ]
    },
    {
      "cell_type": "markdown",
      "metadata": {
        "id": "x0BPjLnwJy-Z"
      },
      "source": [
        "(An illustration of **degrees of freedom**: If we know the mean of the array `x`, three of its four values can vary freely. That is, if we know three of the values in the array, the fourth has no \"freedom\"; it must be a specific value. Thus, the most common situation with statistical tests is that we have *n*-1 degrees of freedom.)"
      ]
    },
    {
      "cell_type": "markdown",
      "metadata": {
        "id": "z4-b2kfJJy-Z"
      },
      "source": [
        "For everyday usage, however, we can rely on the SciPy `ttest_1samp()` method: "
      ]
    },
    {
      "cell_type": "code",
      "execution_count": 125,
      "metadata": {
        "colab": {
          "base_uri": "https://localhost:8080/"
        },
        "id": "ZhHgjupDJy-Z",
        "outputId": "030e3f14-71f9-4945-d9b4-3ff6310e6605"
      },
      "outputs": [
        {
          "output_type": "execute_result",
          "data": {
            "text/plain": [
              "TtestResult(statistic=1.1338934190276817, pvalue=0.3392540508564543, df=3)"
            ]
          },
          "metadata": {},
          "execution_count": 125
        }
      ],
      "source": [
        "st.ttest_1samp(x, 50)"
      ]
    },
    {
      "cell_type": "markdown",
      "metadata": {
        "id": "7yB8zKkOJy-a"
      },
      "source": [
        "#### Welch's Independent *t*-test"
      ]
    },
    {
      "cell_type": "markdown",
      "metadata": {
        "id": "LHhP5rBJJy-a"
      },
      "source": [
        "In ordinary circumstances, if we have two samples whose means we'd like to compare, we use an **independent *t*-test**. "
      ]
    },
    {
      "cell_type": "code",
      "execution_count": 127,
      "metadata": {
        "id": "43W0pLTKJy-a"
      },
      "outputs": [],
      "source": [
        "penguins = sns.load_dataset('penguins').dropna() "
      ]
    },
    {
      "cell_type": "code",
      "execution_count": 128,
      "metadata": {
        "colab": {
          "base_uri": "https://localhost:8080/",
          "height": 423
        },
        "id": "uzhbtPXzJy-a",
        "outputId": "1db3aca0-ebc8-4b3f-df53-04f98148f043"
      },
      "outputs": [
        {
          "output_type": "execute_result",
          "data": {
            "text/plain": [
              "    species     island  bill_length_mm  bill_depth_mm  flipper_length_mm  \\\n",
              "0    Adelie  Torgersen            39.1           18.7              181.0   \n",
              "1    Adelie  Torgersen            39.5           17.4              186.0   \n",
              "2    Adelie  Torgersen            40.3           18.0              195.0   \n",
              "4    Adelie  Torgersen            36.7           19.3              193.0   \n",
              "5    Adelie  Torgersen            39.3           20.6              190.0   \n",
              "..      ...        ...             ...            ...                ...   \n",
              "338  Gentoo     Biscoe            47.2           13.7              214.0   \n",
              "340  Gentoo     Biscoe            46.8           14.3              215.0   \n",
              "341  Gentoo     Biscoe            50.4           15.7              222.0   \n",
              "342  Gentoo     Biscoe            45.2           14.8              212.0   \n",
              "343  Gentoo     Biscoe            49.9           16.1              213.0   \n",
              "\n",
              "     body_mass_g     sex  \n",
              "0         3750.0    Male  \n",
              "1         3800.0  Female  \n",
              "2         3250.0  Female  \n",
              "4         3450.0  Female  \n",
              "5         3650.0    Male  \n",
              "..           ...     ...  \n",
              "338       4925.0  Female  \n",
              "340       4850.0  Female  \n",
              "341       5750.0    Male  \n",
              "342       5200.0  Female  \n",
              "343       5400.0    Male  \n",
              "\n",
              "[333 rows x 7 columns]"
            ],
            "text/html": [
              "\n",
              "  <div id=\"df-3a8deed5-dc13-40ea-ba9e-883018252f37\">\n",
              "    <div class=\"colab-df-container\">\n",
              "      <div>\n",
              "<style scoped>\n",
              "    .dataframe tbody tr th:only-of-type {\n",
              "        vertical-align: middle;\n",
              "    }\n",
              "\n",
              "    .dataframe tbody tr th {\n",
              "        vertical-align: top;\n",
              "    }\n",
              "\n",
              "    .dataframe thead th {\n",
              "        text-align: right;\n",
              "    }\n",
              "</style>\n",
              "<table border=\"1\" class=\"dataframe\">\n",
              "  <thead>\n",
              "    <tr style=\"text-align: right;\">\n",
              "      <th></th>\n",
              "      <th>species</th>\n",
              "      <th>island</th>\n",
              "      <th>bill_length_mm</th>\n",
              "      <th>bill_depth_mm</th>\n",
              "      <th>flipper_length_mm</th>\n",
              "      <th>body_mass_g</th>\n",
              "      <th>sex</th>\n",
              "    </tr>\n",
              "  </thead>\n",
              "  <tbody>\n",
              "    <tr>\n",
              "      <th>0</th>\n",
              "      <td>Adelie</td>\n",
              "      <td>Torgersen</td>\n",
              "      <td>39.1</td>\n",
              "      <td>18.7</td>\n",
              "      <td>181.0</td>\n",
              "      <td>3750.0</td>\n",
              "      <td>Male</td>\n",
              "    </tr>\n",
              "    <tr>\n",
              "      <th>1</th>\n",
              "      <td>Adelie</td>\n",
              "      <td>Torgersen</td>\n",
              "      <td>39.5</td>\n",
              "      <td>17.4</td>\n",
              "      <td>186.0</td>\n",
              "      <td>3800.0</td>\n",
              "      <td>Female</td>\n",
              "    </tr>\n",
              "    <tr>\n",
              "      <th>2</th>\n",
              "      <td>Adelie</td>\n",
              "      <td>Torgersen</td>\n",
              "      <td>40.3</td>\n",
              "      <td>18.0</td>\n",
              "      <td>195.0</td>\n",
              "      <td>3250.0</td>\n",
              "      <td>Female</td>\n",
              "    </tr>\n",
              "    <tr>\n",
              "      <th>4</th>\n",
              "      <td>Adelie</td>\n",
              "      <td>Torgersen</td>\n",
              "      <td>36.7</td>\n",
              "      <td>19.3</td>\n",
              "      <td>193.0</td>\n",
              "      <td>3450.0</td>\n",
              "      <td>Female</td>\n",
              "    </tr>\n",
              "    <tr>\n",
              "      <th>5</th>\n",
              "      <td>Adelie</td>\n",
              "      <td>Torgersen</td>\n",
              "      <td>39.3</td>\n",
              "      <td>20.6</td>\n",
              "      <td>190.0</td>\n",
              "      <td>3650.0</td>\n",
              "      <td>Male</td>\n",
              "    </tr>\n",
              "    <tr>\n",
              "      <th>...</th>\n",
              "      <td>...</td>\n",
              "      <td>...</td>\n",
              "      <td>...</td>\n",
              "      <td>...</td>\n",
              "      <td>...</td>\n",
              "      <td>...</td>\n",
              "      <td>...</td>\n",
              "    </tr>\n",
              "    <tr>\n",
              "      <th>338</th>\n",
              "      <td>Gentoo</td>\n",
              "      <td>Biscoe</td>\n",
              "      <td>47.2</td>\n",
              "      <td>13.7</td>\n",
              "      <td>214.0</td>\n",
              "      <td>4925.0</td>\n",
              "      <td>Female</td>\n",
              "    </tr>\n",
              "    <tr>\n",
              "      <th>340</th>\n",
              "      <td>Gentoo</td>\n",
              "      <td>Biscoe</td>\n",
              "      <td>46.8</td>\n",
              "      <td>14.3</td>\n",
              "      <td>215.0</td>\n",
              "      <td>4850.0</td>\n",
              "      <td>Female</td>\n",
              "    </tr>\n",
              "    <tr>\n",
              "      <th>341</th>\n",
              "      <td>Gentoo</td>\n",
              "      <td>Biscoe</td>\n",
              "      <td>50.4</td>\n",
              "      <td>15.7</td>\n",
              "      <td>222.0</td>\n",
              "      <td>5750.0</td>\n",
              "      <td>Male</td>\n",
              "    </tr>\n",
              "    <tr>\n",
              "      <th>342</th>\n",
              "      <td>Gentoo</td>\n",
              "      <td>Biscoe</td>\n",
              "      <td>45.2</td>\n",
              "      <td>14.8</td>\n",
              "      <td>212.0</td>\n",
              "      <td>5200.0</td>\n",
              "      <td>Female</td>\n",
              "    </tr>\n",
              "    <tr>\n",
              "      <th>343</th>\n",
              "      <td>Gentoo</td>\n",
              "      <td>Biscoe</td>\n",
              "      <td>49.9</td>\n",
              "      <td>16.1</td>\n",
              "      <td>213.0</td>\n",
              "      <td>5400.0</td>\n",
              "      <td>Male</td>\n",
              "    </tr>\n",
              "  </tbody>\n",
              "</table>\n",
              "<p>333 rows × 7 columns</p>\n",
              "</div>\n",
              "      <button class=\"colab-df-convert\" onclick=\"convertToInteractive('df-3a8deed5-dc13-40ea-ba9e-883018252f37')\"\n",
              "              title=\"Convert this dataframe to an interactive table.\"\n",
              "              style=\"display:none;\">\n",
              "        \n",
              "  <svg xmlns=\"http://www.w3.org/2000/svg\" height=\"24px\"viewBox=\"0 0 24 24\"\n",
              "       width=\"24px\">\n",
              "    <path d=\"M0 0h24v24H0V0z\" fill=\"none\"/>\n",
              "    <path d=\"M18.56 5.44l.94 2.06.94-2.06 2.06-.94-2.06-.94-.94-2.06-.94 2.06-2.06.94zm-11 1L8.5 8.5l.94-2.06 2.06-.94-2.06-.94L8.5 2.5l-.94 2.06-2.06.94zm10 10l.94 2.06.94-2.06 2.06-.94-2.06-.94-.94-2.06-.94 2.06-2.06.94z\"/><path d=\"M17.41 7.96l-1.37-1.37c-.4-.4-.92-.59-1.43-.59-.52 0-1.04.2-1.43.59L10.3 9.45l-7.72 7.72c-.78.78-.78 2.05 0 2.83L4 21.41c.39.39.9.59 1.41.59.51 0 1.02-.2 1.41-.59l7.78-7.78 2.81-2.81c.8-.78.8-2.07 0-2.86zM5.41 20L4 18.59l7.72-7.72 1.47 1.35L5.41 20z\"/>\n",
              "  </svg>\n",
              "      </button>\n",
              "      \n",
              "  <style>\n",
              "    .colab-df-container {\n",
              "      display:flex;\n",
              "      flex-wrap:wrap;\n",
              "      gap: 12px;\n",
              "    }\n",
              "\n",
              "    .colab-df-convert {\n",
              "      background-color: #E8F0FE;\n",
              "      border: none;\n",
              "      border-radius: 50%;\n",
              "      cursor: pointer;\n",
              "      display: none;\n",
              "      fill: #1967D2;\n",
              "      height: 32px;\n",
              "      padding: 0 0 0 0;\n",
              "      width: 32px;\n",
              "    }\n",
              "\n",
              "    .colab-df-convert:hover {\n",
              "      background-color: #E2EBFA;\n",
              "      box-shadow: 0px 1px 2px rgba(60, 64, 67, 0.3), 0px 1px 3px 1px rgba(60, 64, 67, 0.15);\n",
              "      fill: #174EA6;\n",
              "    }\n",
              "\n",
              "    [theme=dark] .colab-df-convert {\n",
              "      background-color: #3B4455;\n",
              "      fill: #D2E3FC;\n",
              "    }\n",
              "\n",
              "    [theme=dark] .colab-df-convert:hover {\n",
              "      background-color: #434B5C;\n",
              "      box-shadow: 0px 1px 3px 1px rgba(0, 0, 0, 0.15);\n",
              "      filter: drop-shadow(0px 1px 2px rgba(0, 0, 0, 0.3));\n",
              "      fill: #FFFFFF;\n",
              "    }\n",
              "  </style>\n",
              "\n",
              "      <script>\n",
              "        const buttonEl =\n",
              "          document.querySelector('#df-3a8deed5-dc13-40ea-ba9e-883018252f37 button.colab-df-convert');\n",
              "        buttonEl.style.display =\n",
              "          google.colab.kernel.accessAllowed ? 'block' : 'none';\n",
              "\n",
              "        async function convertToInteractive(key) {\n",
              "          const element = document.querySelector('#df-3a8deed5-dc13-40ea-ba9e-883018252f37');\n",
              "          const dataTable =\n",
              "            await google.colab.kernel.invokeFunction('convertToInteractive',\n",
              "                                                     [key], {});\n",
              "          if (!dataTable) return;\n",
              "\n",
              "          const docLinkHtml = 'Like what you see? Visit the ' +\n",
              "            '<a target=\"_blank\" href=https://colab.research.google.com/notebooks/data_table.ipynb>data table notebook</a>'\n",
              "            + ' to learn more about interactive tables.';\n",
              "          element.innerHTML = '';\n",
              "          dataTable['output_type'] = 'display_data';\n",
              "          await google.colab.output.renderOutput(dataTable, element);\n",
              "          const docLink = document.createElement('div');\n",
              "          docLink.innerHTML = docLinkHtml;\n",
              "          element.appendChild(docLink);\n",
              "        }\n",
              "      </script>\n",
              "    </div>\n",
              "  </div>\n",
              "  "
            ]
          },
          "metadata": {},
          "execution_count": 128
        }
      ],
      "source": [
        "penguins"
      ]
    },
    {
      "cell_type": "code",
      "execution_count": 129,
      "metadata": {
        "colab": {
          "base_uri": "https://localhost:8080/"
        },
        "id": "QiN2SlJPJy-a",
        "outputId": "fb78d82f-2840-427f-bf0b-3987c7b6354b"
      },
      "outputs": [
        {
          "output_type": "execute_result",
          "data": {
            "text/plain": [
              "(array(['Adelie', 'Chinstrap', 'Gentoo'], dtype=object),\n",
              " array([146,  68, 119]))"
            ]
          },
          "metadata": {},
          "execution_count": 129
        }
      ],
      "source": [
        "np.unique(penguins.species, return_counts=True)"
      ]
    },
    {
      "cell_type": "code",
      "execution_count": 130,
      "metadata": {
        "id": "oYNbPQ6aJy-a"
      },
      "outputs": [],
      "source": [
        "adelie = penguins[penguins.species == 'Adelie']"
      ]
    },
    {
      "cell_type": "code",
      "execution_count": 132,
      "metadata": {
        "colab": {
          "base_uri": "https://localhost:8080/",
          "height": 423
        },
        "id": "izX0Q8CXJy-b",
        "outputId": "fe826813-df4a-4f72-fcb7-da0fb9f5d317"
      },
      "outputs": [
        {
          "output_type": "execute_result",
          "data": {
            "text/plain": [
              "    species     island  bill_length_mm  bill_depth_mm  flipper_length_mm  \\\n",
              "0    Adelie  Torgersen            39.1           18.7              181.0   \n",
              "1    Adelie  Torgersen            39.5           17.4              186.0   \n",
              "2    Adelie  Torgersen            40.3           18.0              195.0   \n",
              "4    Adelie  Torgersen            36.7           19.3              193.0   \n",
              "5    Adelie  Torgersen            39.3           20.6              190.0   \n",
              "..      ...        ...             ...            ...                ...   \n",
              "147  Adelie      Dream            36.6           18.4              184.0   \n",
              "148  Adelie      Dream            36.0           17.8              195.0   \n",
              "149  Adelie      Dream            37.8           18.1              193.0   \n",
              "150  Adelie      Dream            36.0           17.1              187.0   \n",
              "151  Adelie      Dream            41.5           18.5              201.0   \n",
              "\n",
              "     body_mass_g     sex  \n",
              "0         3750.0    Male  \n",
              "1         3800.0  Female  \n",
              "2         3250.0  Female  \n",
              "4         3450.0  Female  \n",
              "5         3650.0    Male  \n",
              "..           ...     ...  \n",
              "147       3475.0  Female  \n",
              "148       3450.0  Female  \n",
              "149       3750.0    Male  \n",
              "150       3700.0  Female  \n",
              "151       4000.0    Male  \n",
              "\n",
              "[146 rows x 7 columns]"
            ],
            "text/html": [
              "\n",
              "  <div id=\"df-1554c531-f854-4a5f-9277-2524f140a07a\">\n",
              "    <div class=\"colab-df-container\">\n",
              "      <div>\n",
              "<style scoped>\n",
              "    .dataframe tbody tr th:only-of-type {\n",
              "        vertical-align: middle;\n",
              "    }\n",
              "\n",
              "    .dataframe tbody tr th {\n",
              "        vertical-align: top;\n",
              "    }\n",
              "\n",
              "    .dataframe thead th {\n",
              "        text-align: right;\n",
              "    }\n",
              "</style>\n",
              "<table border=\"1\" class=\"dataframe\">\n",
              "  <thead>\n",
              "    <tr style=\"text-align: right;\">\n",
              "      <th></th>\n",
              "      <th>species</th>\n",
              "      <th>island</th>\n",
              "      <th>bill_length_mm</th>\n",
              "      <th>bill_depth_mm</th>\n",
              "      <th>flipper_length_mm</th>\n",
              "      <th>body_mass_g</th>\n",
              "      <th>sex</th>\n",
              "    </tr>\n",
              "  </thead>\n",
              "  <tbody>\n",
              "    <tr>\n",
              "      <th>0</th>\n",
              "      <td>Adelie</td>\n",
              "      <td>Torgersen</td>\n",
              "      <td>39.1</td>\n",
              "      <td>18.7</td>\n",
              "      <td>181.0</td>\n",
              "      <td>3750.0</td>\n",
              "      <td>Male</td>\n",
              "    </tr>\n",
              "    <tr>\n",
              "      <th>1</th>\n",
              "      <td>Adelie</td>\n",
              "      <td>Torgersen</td>\n",
              "      <td>39.5</td>\n",
              "      <td>17.4</td>\n",
              "      <td>186.0</td>\n",
              "      <td>3800.0</td>\n",
              "      <td>Female</td>\n",
              "    </tr>\n",
              "    <tr>\n",
              "      <th>2</th>\n",
              "      <td>Adelie</td>\n",
              "      <td>Torgersen</td>\n",
              "      <td>40.3</td>\n",
              "      <td>18.0</td>\n",
              "      <td>195.0</td>\n",
              "      <td>3250.0</td>\n",
              "      <td>Female</td>\n",
              "    </tr>\n",
              "    <tr>\n",
              "      <th>4</th>\n",
              "      <td>Adelie</td>\n",
              "      <td>Torgersen</td>\n",
              "      <td>36.7</td>\n",
              "      <td>19.3</td>\n",
              "      <td>193.0</td>\n",
              "      <td>3450.0</td>\n",
              "      <td>Female</td>\n",
              "    </tr>\n",
              "    <tr>\n",
              "      <th>5</th>\n",
              "      <td>Adelie</td>\n",
              "      <td>Torgersen</td>\n",
              "      <td>39.3</td>\n",
              "      <td>20.6</td>\n",
              "      <td>190.0</td>\n",
              "      <td>3650.0</td>\n",
              "      <td>Male</td>\n",
              "    </tr>\n",
              "    <tr>\n",
              "      <th>...</th>\n",
              "      <td>...</td>\n",
              "      <td>...</td>\n",
              "      <td>...</td>\n",
              "      <td>...</td>\n",
              "      <td>...</td>\n",
              "      <td>...</td>\n",
              "      <td>...</td>\n",
              "    </tr>\n",
              "    <tr>\n",
              "      <th>147</th>\n",
              "      <td>Adelie</td>\n",
              "      <td>Dream</td>\n",
              "      <td>36.6</td>\n",
              "      <td>18.4</td>\n",
              "      <td>184.0</td>\n",
              "      <td>3475.0</td>\n",
              "      <td>Female</td>\n",
              "    </tr>\n",
              "    <tr>\n",
              "      <th>148</th>\n",
              "      <td>Adelie</td>\n",
              "      <td>Dream</td>\n",
              "      <td>36.0</td>\n",
              "      <td>17.8</td>\n",
              "      <td>195.0</td>\n",
              "      <td>3450.0</td>\n",
              "      <td>Female</td>\n",
              "    </tr>\n",
              "    <tr>\n",
              "      <th>149</th>\n",
              "      <td>Adelie</td>\n",
              "      <td>Dream</td>\n",
              "      <td>37.8</td>\n",
              "      <td>18.1</td>\n",
              "      <td>193.0</td>\n",
              "      <td>3750.0</td>\n",
              "      <td>Male</td>\n",
              "    </tr>\n",
              "    <tr>\n",
              "      <th>150</th>\n",
              "      <td>Adelie</td>\n",
              "      <td>Dream</td>\n",
              "      <td>36.0</td>\n",
              "      <td>17.1</td>\n",
              "      <td>187.0</td>\n",
              "      <td>3700.0</td>\n",
              "      <td>Female</td>\n",
              "    </tr>\n",
              "    <tr>\n",
              "      <th>151</th>\n",
              "      <td>Adelie</td>\n",
              "      <td>Dream</td>\n",
              "      <td>41.5</td>\n",
              "      <td>18.5</td>\n",
              "      <td>201.0</td>\n",
              "      <td>4000.0</td>\n",
              "      <td>Male</td>\n",
              "    </tr>\n",
              "  </tbody>\n",
              "</table>\n",
              "<p>146 rows × 7 columns</p>\n",
              "</div>\n",
              "      <button class=\"colab-df-convert\" onclick=\"convertToInteractive('df-1554c531-f854-4a5f-9277-2524f140a07a')\"\n",
              "              title=\"Convert this dataframe to an interactive table.\"\n",
              "              style=\"display:none;\">\n",
              "        \n",
              "  <svg xmlns=\"http://www.w3.org/2000/svg\" height=\"24px\"viewBox=\"0 0 24 24\"\n",
              "       width=\"24px\">\n",
              "    <path d=\"M0 0h24v24H0V0z\" fill=\"none\"/>\n",
              "    <path d=\"M18.56 5.44l.94 2.06.94-2.06 2.06-.94-2.06-.94-.94-2.06-.94 2.06-2.06.94zm-11 1L8.5 8.5l.94-2.06 2.06-.94-2.06-.94L8.5 2.5l-.94 2.06-2.06.94zm10 10l.94 2.06.94-2.06 2.06-.94-2.06-.94-.94-2.06-.94 2.06-2.06.94z\"/><path d=\"M17.41 7.96l-1.37-1.37c-.4-.4-.92-.59-1.43-.59-.52 0-1.04.2-1.43.59L10.3 9.45l-7.72 7.72c-.78.78-.78 2.05 0 2.83L4 21.41c.39.39.9.59 1.41.59.51 0 1.02-.2 1.41-.59l7.78-7.78 2.81-2.81c.8-.78.8-2.07 0-2.86zM5.41 20L4 18.59l7.72-7.72 1.47 1.35L5.41 20z\"/>\n",
              "  </svg>\n",
              "      </button>\n",
              "      \n",
              "  <style>\n",
              "    .colab-df-container {\n",
              "      display:flex;\n",
              "      flex-wrap:wrap;\n",
              "      gap: 12px;\n",
              "    }\n",
              "\n",
              "    .colab-df-convert {\n",
              "      background-color: #E8F0FE;\n",
              "      border: none;\n",
              "      border-radius: 50%;\n",
              "      cursor: pointer;\n",
              "      display: none;\n",
              "      fill: #1967D2;\n",
              "      height: 32px;\n",
              "      padding: 0 0 0 0;\n",
              "      width: 32px;\n",
              "    }\n",
              "\n",
              "    .colab-df-convert:hover {\n",
              "      background-color: #E2EBFA;\n",
              "      box-shadow: 0px 1px 2px rgba(60, 64, 67, 0.3), 0px 1px 3px 1px rgba(60, 64, 67, 0.15);\n",
              "      fill: #174EA6;\n",
              "    }\n",
              "\n",
              "    [theme=dark] .colab-df-convert {\n",
              "      background-color: #3B4455;\n",
              "      fill: #D2E3FC;\n",
              "    }\n",
              "\n",
              "    [theme=dark] .colab-df-convert:hover {\n",
              "      background-color: #434B5C;\n",
              "      box-shadow: 0px 1px 3px 1px rgba(0, 0, 0, 0.15);\n",
              "      filter: drop-shadow(0px 1px 2px rgba(0, 0, 0, 0.3));\n",
              "      fill: #FFFFFF;\n",
              "    }\n",
              "  </style>\n",
              "\n",
              "      <script>\n",
              "        const buttonEl =\n",
              "          document.querySelector('#df-1554c531-f854-4a5f-9277-2524f140a07a button.colab-df-convert');\n",
              "        buttonEl.style.display =\n",
              "          google.colab.kernel.accessAllowed ? 'block' : 'none';\n",
              "\n",
              "        async function convertToInteractive(key) {\n",
              "          const element = document.querySelector('#df-1554c531-f854-4a5f-9277-2524f140a07a');\n",
              "          const dataTable =\n",
              "            await google.colab.kernel.invokeFunction('convertToInteractive',\n",
              "                                                     [key], {});\n",
              "          if (!dataTable) return;\n",
              "\n",
              "          const docLinkHtml = 'Like what you see? Visit the ' +\n",
              "            '<a target=\"_blank\" href=https://colab.research.google.com/notebooks/data_table.ipynb>data table notebook</a>'\n",
              "            + ' to learn more about interactive tables.';\n",
              "          element.innerHTML = '';\n",
              "          dataTable['output_type'] = 'display_data';\n",
              "          await google.colab.output.renderOutput(dataTable, element);\n",
              "          const docLink = document.createElement('div');\n",
              "          docLink.innerHTML = docLinkHtml;\n",
              "          element.appendChild(docLink);\n",
              "        }\n",
              "      </script>\n",
              "    </div>\n",
              "  </div>\n",
              "  "
            ]
          },
          "metadata": {},
          "execution_count": 132
        }
      ],
      "source": [
        "adelie"
      ]
    },
    {
      "cell_type": "code",
      "execution_count": 133,
      "metadata": {
        "colab": {
          "base_uri": "https://localhost:8080/"
        },
        "id": "nO8GBeloJy-b",
        "outputId": "189f90cb-4e22-422b-cbc7-33f48f549205"
      },
      "outputs": [
        {
          "output_type": "execute_result",
          "data": {
            "text/plain": [
              "(array(['Biscoe', 'Dream', 'Torgersen'], dtype=object), array([44, 55, 47]))"
            ]
          },
          "metadata": {},
          "execution_count": 133
        }
      ],
      "source": [
        "np.unique(adelie.island, return_counts=True)"
      ]
    },
    {
      "cell_type": "code",
      "execution_count": 134,
      "metadata": {
        "colab": {
          "base_uri": "https://localhost:8080/"
        },
        "id": "7OYSleCKJy-b",
        "outputId": "c5e43fc8-eecf-4744-e606-34597c68c82f"
      },
      "outputs": [
        {
          "output_type": "execute_result",
          "data": {
            "text/plain": [
              "(array(['Female', 'Male'], dtype=object), array([73, 73]))"
            ]
          },
          "metadata": {},
          "execution_count": 134
        }
      ],
      "source": [
        "np.unique(adelie.sex, return_counts=True)"
      ]
    },
    {
      "cell_type": "code",
      "execution_count": 135,
      "metadata": {
        "colab": {
          "base_uri": "https://localhost:8080/",
          "height": 449
        },
        "id": "lsOZu9s9Jy-b",
        "outputId": "e1e601cf-a414-4d0c-c6ef-f89677e55e49"
      },
      "outputs": [
        {
          "output_type": "display_data",
          "data": {
            "text/plain": [
              "<Figure size 640x480 with 1 Axes>"
            ],
            "image/png": "[encoded data removed]"
          },
          "metadata": {}
        }
      ],
      "source": [
        "_ = sns.boxplot(x='island', y='body_mass_g', hue='sex', data=adelie)"
      ]
    },
    {
      "cell_type": "markdown",
      "metadata": {
        "id": "2VaIivkrJy-b"
      },
      "source": [
        "Mass doesn't appear to vary by island, so we can feel comfortable grouping the data together by island. Weight does, however, appear to vary by sex so let's take a closer look: "
      ]
    },
    {
      "cell_type": "code",
      "execution_count": 136,
      "metadata": {
        "colab": {
          "base_uri": "https://localhost:8080/"
        },
        "id": "kx904jk5Jy-b",
        "outputId": "1966d233-84fe-4059-a6ce-0ebf446354ea"
      },
      "outputs": [
        {
          "output_type": "execute_result",
          "data": {
            "text/plain": [
              "array([3.8  , 3.25 , 3.45 , 3.625, 3.2  , 3.7  , 3.45 , 3.325, 3.4  ,\n",
              "       3.8  , 3.8  , 3.2  , 3.15 , 3.25 , 3.3  , 3.325, 3.55 , 3.3  ,\n",
              "       3.15 , 3.1  , 3.   , 3.45 , 3.5  , 3.45 , 2.9  , 3.55 , 2.85 ,\n",
              "       3.15 , 3.6  , 2.85 , 3.35 , 3.05 , 3.6  , 3.55 , 3.7  , 3.7  ,\n",
              "       3.55 , 3.2  , 3.8  , 3.35 , 3.5  , 3.6  , 3.55 , 3.4  , 3.3  ,\n",
              "       3.7  , 2.9  , 3.725, 3.075, 2.925, 3.75 , 3.175, 3.825, 3.2  ,\n",
              "       3.9  , 2.9  , 3.35 , 3.15 , 3.45 , 3.05 , 3.275, 3.05 , 3.325,\n",
              "       3.5  , 3.425, 3.175, 3.4  , 3.4  , 3.05 , 3.   , 3.475, 3.45 ,\n",
              "       3.7  ])"
            ]
          },
          "metadata": {},
          "execution_count": 136
        }
      ],
      "source": [
        "f = adelie[adelie.sex == 'Female']['body_mass_g'].to_numpy()/1000\n",
        "f"
      ]
    },
    {
      "cell_type": "code",
      "execution_count": 137,
      "metadata": {
        "colab": {
          "base_uri": "https://localhost:8080/"
        },
        "id": "s_geKklTJy-c",
        "outputId": "1b6856f1-0a86-435e-d4f5-520021460c8e"
      },
      "outputs": [
        {
          "output_type": "execute_result",
          "data": {
            "text/plain": [
              "array([3.75 , 3.65 , 4.675, 3.8  , 4.4  , 4.5  , 4.2  , 3.6  , 3.95 ,\n",
              "       3.8  , 3.55 , 3.95 , 3.9  , 3.9  , 4.15 , 3.95 , 4.65 , 3.9  ,\n",
              "       4.4  , 4.6  , 3.425, 4.15 , 4.3  , 4.05 , 3.7  , 3.8  , 3.75 ,\n",
              "       4.4  , 4.05 , 3.95 , 4.1  , 4.45 , 3.9  , 4.15 , 4.25 , 3.9  ,\n",
              "       4.   , 4.7  , 4.2  , 3.55 , 3.8  , 3.95 , 4.3  , 4.45 , 4.3  ,\n",
              "       4.35 , 4.1  , 4.725, 4.25 , 3.55 , 3.9  , 4.775, 4.6  , 4.275,\n",
              "       4.075, 3.775, 3.325, 3.5  , 3.875, 4.   , 4.3  , 4.   , 3.5  ,\n",
              "       4.475, 3.9  , 3.975, 4.25 , 3.475, 3.725, 3.65 , 4.25 , 3.75 ,\n",
              "       4.   ])"
            ]
          },
          "metadata": {},
          "execution_count": 137
        }
      ],
      "source": [
        "m = adelie[adelie.sex == 'Male']['body_mass_g'].to_numpy()/1000\n",
        "m"
      ]
    },
    {
      "cell_type": "code",
      "execution_count": 138,
      "metadata": {
        "colab": {
          "base_uri": "https://localhost:8080/"
        },
        "id": "XfpowzzfJy-c",
        "outputId": "31e301b7-f359-4d82-8c28-fd9018b65ede"
      },
      "outputs": [
        {
          "output_type": "execute_result",
          "data": {
            "text/plain": [
              "3.368835616438356"
            ]
          },
          "metadata": {},
          "execution_count": 138
        }
      ],
      "source": [
        "fbar = f.mean()\n",
        "fbar"
      ]
    },
    {
      "cell_type": "code",
      "execution_count": 139,
      "metadata": {
        "colab": {
          "base_uri": "https://localhost:8080/"
        },
        "id": "tMzJ6hpTJy-c",
        "outputId": "021a021d-58f3-4773-bae2-f496c4352372"
      },
      "outputs": [
        {
          "output_type": "execute_result",
          "data": {
            "text/plain": [
              "4.043493150684932"
            ]
          },
          "metadata": {},
          "execution_count": 139
        }
      ],
      "source": [
        "mbar = m.mean()\n",
        "mbar"
      ]
    },
    {
      "cell_type": "markdown",
      "metadata": {
        "id": "8y2BYap9Jy-c"
      },
      "source": [
        "To quantify whether males weigh significantly more than females, we can use the **Welch *t*-test**, devised by the 20th c. British statistician Bernard Lewis Welch:\n",
        "$$ t = \\frac{\\bar{x} - \\bar{y}}{\\sqrt{\\frac{s^2_x}{n_x} + \\frac{s^2_y}{n_y}}} $$\n",
        "Where: \n",
        "* $\\bar{x}$ and $\\bar{y}$ are the sample means\n",
        "* $s^2_x$ and $s^2_y$ are the sample variances\n",
        "* $n_x$ and $n_y$ are the sample sizes"
      ]
    },
    {
      "cell_type": "markdown",
      "metadata": {
        "id": "8W_RnYsCJy-d"
      },
      "source": [
        "**N.B.**: Student's independent *t*-test is markedly more popular than Welch's, but Student's assumes equal population variances (i.e., $\\sigma^2_x \\approx \\sigma^2_y$), making it less robust. In case you're curious, Student's formula is the same as Welch's, except that it uses a pooled variance $s^2_p$ in place of individual sample variances ($s^2_x$ and $s^2_y$). You can read more about it [here](https://en.wikipedia.org/wiki/Student%27s_t-test#Independent_two-sample_t-test)."
      ]
    },
    {
      "cell_type": "code",
      "execution_count": 140,
      "metadata": {
        "id": "cl3g6CmrJy-d"
      },
      "outputs": [],
      "source": [
        "sf = f.var(ddof=1)\n",
        "sm = m.var(ddof=1)"
      ]
    },
    {
      "cell_type": "code",
      "execution_count": 141,
      "metadata": {
        "id": "qCThyw6ZJy-d"
      },
      "outputs": [],
      "source": [
        "nf = f.size\n",
        "nm = m.size"
      ]
    },
    {
      "cell_type": "code",
      "execution_count": 142,
      "metadata": {
        "colab": {
          "base_uri": "https://localhost:8080/"
        },
        "id": "7oApFUC_Jy-d",
        "outputId": "3bbf5270-3af3-4fa1-add8-5d20afa0e4b3"
      },
      "outputs": [
        {
          "output_type": "execute_result",
          "data": {
            "text/plain": [
              "-13.126285923485879"
            ]
          },
          "metadata": {},
          "execution_count": 142
        }
      ],
      "source": [
        "t = (fbar-mbar)/(sf/nf + sm/nm)**(1/2)\n",
        "t"
      ]
    },
    {
      "cell_type": "markdown",
      "metadata": {
        "id": "04QiVOYcJy-d"
      },
      "source": [
        "Degrees of freedom for calculating the *p*-value are estimated using the [Welch–Satterthwaite equation](https://en.wikipedia.org/wiki/Welch–Satterthwaite_equation), which we won't detail but is defined as: "
      ]
    },
    {
      "cell_type": "code",
      "execution_count": 143,
      "metadata": {
        "id": "GXyapE2pJy-d"
      },
      "outputs": [],
      "source": [
        "def ws_eqn(sx, sy, nx, ny):\n",
        "    return (sx / nx + sy / ny)**2 / (sx**2 / (nx**2 * (nx - 1)) + sy**2 / (ny**2 * (ny - 1)))"
      ]
    },
    {
      "cell_type": "code",
      "execution_count": 144,
      "metadata": {
        "colab": {
          "base_uri": "https://localhost:8080/"
        },
        "id": "bhiKHnxXJy-d",
        "outputId": "d822f0dd-7db1-4e40-d9f7-d248e7ca353d"
      },
      "outputs": [
        {
          "output_type": "execute_result",
          "data": {
            "text/plain": [
              "135.69357893530386"
            ]
          },
          "metadata": {},
          "execution_count": 144
        }
      ],
      "source": [
        "df = ws_eqn(sf, sm, nf, nm)\n",
        "df"
      ]
    },
    {
      "cell_type": "code",
      "execution_count": 145,
      "metadata": {
        "colab": {
          "base_uri": "https://localhost:8080/"
        },
        "id": "uA-751AVJy-e",
        "outputId": "a9ac4eb3-1ed7-41b1-900f-ecd065f6c6d9"
      },
      "outputs": [
        {
          "output_type": "execute_result",
          "data": {
            "text/plain": [
              "6.402319748031518e-26"
            ]
          },
          "metadata": {},
          "execution_count": 145
        }
      ],
      "source": [
        "p = 2 * st.t.cdf(-abs(t), df) # or p_from_t(t, df+1)\n",
        "p"
      ]
    },
    {
      "cell_type": "code",
      "execution_count": 146,
      "metadata": {
        "colab": {
          "base_uri": "https://localhost:8080/"
        },
        "id": "yKrUZU9oSylp",
        "outputId": "791cc824-a2d2-403d-9116-8676e9094ba6"
      },
      "outputs": [
        {
          "output_type": "execute_result",
          "data": {
            "text/plain": [
              "6.402319748031518e-26"
            ]
          },
          "metadata": {},
          "execution_count": 146
        }
      ],
      "source": [
        "p_from_t(t, df+1)"
      ]
    },
    {
      "cell_type": "code",
      "execution_count": 147,
      "metadata": {
        "colab": {
          "base_uri": "https://localhost:8080/"
        },
        "id": "3Ug3l4vNJy-e",
        "outputId": "e2ce7684-22f5-4232-b676-62e1689d63f3"
      },
      "outputs": [
        {
          "output_type": "execute_result",
          "data": {
            "text/plain": [
              "25.193662639886046"
            ]
          },
          "metadata": {},
          "execution_count": 147
        }
      ],
      "source": [
        "-np.log10(p)"
      ]
    },
    {
      "cell_type": "code",
      "execution_count": 148,
      "metadata": {
        "colab": {
          "base_uri": "https://localhost:8080/"
        },
        "id": "Fj1klL8RJy-e",
        "outputId": "7fbbc2e5-e99f-4716-d819-076824d3a38c"
      },
      "outputs": [
        {
          "output_type": "execute_result",
          "data": {
            "text/plain": [
              "Ttest_indResult(statistic=-13.126285923485879, pvalue=6.402319748031518e-26)"
            ]
          },
          "metadata": {},
          "execution_count": 148
        }
      ],
      "source": [
        "st.ttest_ind(f, m, equal_var=False) "
      ]
    },
    {
      "cell_type": "markdown",
      "metadata": {
        "id": "mz_5pa7WJy-e"
      },
      "source": [
        "#### Student's Paired *t*-test"
      ]
    },
    {
      "cell_type": "markdown",
      "metadata": {
        "id": "kaomPLqyJy-e"
      },
      "source": [
        "Occasionally, we have two vectors where each element in vector *x* has a corresponding element in vector *y*. \n",
        "\n",
        "For example, we could run an experiment where Alzheimer's disease patients receive a drug on one day (experimental condition) and a sugar pill placebo (control condition) on another day. We can then measure the patients' forgetfulness on both days to test whether the drug has a significant impact on memory.\n",
        "\n",
        "For a given sample size, such a paired *t*-test is more powerful relative to an unpaired (independent) *t*-test because the variance of *x* is directly related to the variance in *y*: A severe Alzheimer's patient will tend to be relatively forgetful on both days, while a mild Alzheimer's patient will tend to be relatively unforgetful on both days. With paired samples, we capture this power by comparing the *difference* between *x* and *y*, e.g., the difference in forgetfulness for a given patient when given the drug relative to when given the sugar pill.\n",
        "\n",
        "In contrast, consider the penguin dataset, wherein we wouldn't be able to obviously pair a given male penguin with a correponding female penguin. Or consider a situation where we provide a drug to one set of Alzheimer's patients while we provide a placebo to an entire different (an independent) group of patients. Indeed, with an independent *t*-test we could even have different sample sizes in the two groups whereas this is impossible with a paired *t*-test. "
      ]
    },
    {
      "cell_type": "markdown",
      "metadata": {
        "id": "mRknH0rPJy-e"
      },
      "source": [
        "Here's an example: "
      ]
    },
    {
      "cell_type": "code",
      "execution_count": 149,
      "metadata": {
        "colab": {
          "base_uri": "https://localhost:8080/",
          "height": 423
        },
        "id": "I5OLpqPvJy-f",
        "outputId": "2121d9e7-eef9-45e8-99ca-64ae0a679597"
      },
      "outputs": [
        {
          "output_type": "execute_result",
          "data": {
            "text/plain": [
              "    Unnamed: 0  id     diet  pulse    time     kind\n",
              "0            0   1  low fat     85   1 min     rest\n",
              "1            1   1  low fat     85  15 min     rest\n",
              "2            2   1  low fat     88  30 min     rest\n",
              "3            3   2  low fat     90   1 min     rest\n",
              "4            4   2  low fat     92  15 min     rest\n",
              "..         ...  ..      ...    ...     ...      ...\n",
              "85          85  29   no fat    135  15 min  running\n",
              "86          86  29   no fat    130  30 min  running\n",
              "87          87  30   no fat     99   1 min  running\n",
              "88          88  30   no fat    111  15 min  running\n",
              "89          89  30   no fat    150  30 min  running\n",
              "\n",
              "[90 rows x 6 columns]"
            ],
            "text/html": [
              "\n",
              "  <div id=\"df-b3f06240-9a55-4a28-9dfb-98031ce95159\">\n",
              "    <div class=\"colab-df-container\">\n",
              "      <div>\n",
              "<style scoped>\n",
              "    .dataframe tbody tr th:only-of-type {\n",
              "        vertical-align: middle;\n",
              "    }\n",
              "\n",
              "    .dataframe tbody tr th {\n",
              "        vertical-align: top;\n",
              "    }\n",
              "\n",
              "    .dataframe thead th {\n",
              "        text-align: right;\n",
              "    }\n",
              "</style>\n",
              "<table border=\"1\" class=\"dataframe\">\n",
              "  <thead>\n",
              "    <tr style=\"text-align: right;\">\n",
              "      <th></th>\n",
              "      <th>Unnamed: 0</th>\n",
              "      <th>id</th>\n",
              "      <th>diet</th>\n",
              "      <th>pulse</th>\n",
              "      <th>time</th>\n",
              "      <th>kind</th>\n",
              "    </tr>\n",
              "  </thead>\n",
              "  <tbody>\n",
              "    <tr>\n",
              "      <th>0</th>\n",
              "      <td>0</td>\n",
              "      <td>1</td>\n",
              "      <td>low fat</td>\n",
              "      <td>85</td>\n",
              "      <td>1 min</td>\n",
              "      <td>rest</td>\n",
              "    </tr>\n",
              "    <tr>\n",
              "      <th>1</th>\n",
              "      <td>1</td>\n",
              "      <td>1</td>\n",
              "      <td>low fat</td>\n",
              "      <td>85</td>\n",
              "      <td>15 min</td>\n",
              "      <td>rest</td>\n",
              "    </tr>\n",
              "    <tr>\n",
              "      <th>2</th>\n",
              "      <td>2</td>\n",
              "      <td>1</td>\n",
              "      <td>low fat</td>\n",
              "      <td>88</td>\n",
              "      <td>30 min</td>\n",
              "      <td>rest</td>\n",
              "    </tr>\n",
              "    <tr>\n",
              "      <th>3</th>\n",
              "      <td>3</td>\n",
              "      <td>2</td>\n",
              "      <td>low fat</td>\n",
              "      <td>90</td>\n",
              "      <td>1 min</td>\n",
              "      <td>rest</td>\n",
              "    </tr>\n",
              "    <tr>\n",
              "      <th>4</th>\n",
              "      <td>4</td>\n",
              "      <td>2</td>\n",
              "      <td>low fat</td>\n",
              "      <td>92</td>\n",
              "      <td>15 min</td>\n",
              "      <td>rest</td>\n",
              "    </tr>\n",
              "    <tr>\n",
              "      <th>...</th>\n",
              "      <td>...</td>\n",
              "      <td>...</td>\n",
              "      <td>...</td>\n",
              "      <td>...</td>\n",
              "      <td>...</td>\n",
              "      <td>...</td>\n",
              "    </tr>\n",
              "    <tr>\n",
              "      <th>85</th>\n",
              "      <td>85</td>\n",
              "      <td>29</td>\n",
              "      <td>no fat</td>\n",
              "      <td>135</td>\n",
              "      <td>15 min</td>\n",
              "      <td>running</td>\n",
              "    </tr>\n",
              "    <tr>\n",
              "      <th>86</th>\n",
              "      <td>86</td>\n",
              "      <td>29</td>\n",
              "      <td>no fat</td>\n",
              "      <td>130</td>\n",
              "      <td>30 min</td>\n",
              "      <td>running</td>\n",
              "    </tr>\n",
              "    <tr>\n",
              "      <th>87</th>\n",
              "      <td>87</td>\n",
              "      <td>30</td>\n",
              "      <td>no fat</td>\n",
              "      <td>99</td>\n",
              "      <td>1 min</td>\n",
              "      <td>running</td>\n",
              "    </tr>\n",
              "    <tr>\n",
              "      <th>88</th>\n",
              "      <td>88</td>\n",
              "      <td>30</td>\n",
              "      <td>no fat</td>\n",
              "      <td>111</td>\n",
              "      <td>15 min</td>\n",
              "      <td>running</td>\n",
              "    </tr>\n",
              "    <tr>\n",
              "      <th>89</th>\n",
              "      <td>89</td>\n",
              "      <td>30</td>\n",
              "      <td>no fat</td>\n",
              "      <td>150</td>\n",
              "      <td>30 min</td>\n",
              "      <td>running</td>\n",
              "    </tr>\n",
              "  </tbody>\n",
              "</table>\n",
              "<p>90 rows × 6 columns</p>\n",
              "</div>\n",
              "      <button class=\"colab-df-convert\" onclick=\"convertToInteractive('df-b3f06240-9a55-4a28-9dfb-98031ce95159')\"\n",
              "              title=\"Convert this dataframe to an interactive table.\"\n",
              "              style=\"display:none;\">\n",
              "        \n",
              "  <svg xmlns=\"http://www.w3.org/2000/svg\" height=\"24px\"viewBox=\"0 0 24 24\"\n",
              "       width=\"24px\">\n",
              "    <path d=\"M0 0h24v24H0V0z\" fill=\"none\"/>\n",
              "    <path d=\"M18.56 5.44l.94 2.06.94-2.06 2.06-.94-2.06-.94-.94-2.06-.94 2.06-2.06.94zm-11 1L8.5 8.5l.94-2.06 2.06-.94-2.06-.94L8.5 2.5l-.94 2.06-2.06.94zm10 10l.94 2.06.94-2.06 2.06-.94-2.06-.94-.94-2.06-.94 2.06-2.06.94z\"/><path d=\"M17.41 7.96l-1.37-1.37c-.4-.4-.92-.59-1.43-.59-.52 0-1.04.2-1.43.59L10.3 9.45l-7.72 7.72c-.78.78-.78 2.05 0 2.83L4 21.41c.39.39.9.59 1.41.59.51 0 1.02-.2 1.41-.59l7.78-7.78 2.81-2.81c.8-.78.8-2.07 0-2.86zM5.41 20L4 18.59l7.72-7.72 1.47 1.35L5.41 20z\"/>\n",
              "  </svg>\n",
              "      </button>\n",
              "      \n",
              "  <style>\n",
              "    .colab-df-container {\n",
              "      display:flex;\n",
              "      flex-wrap:wrap;\n",
              "      gap: 12px;\n",
              "    }\n",
              "\n",
              "    .colab-df-convert {\n",
              "      background-color: #E8F0FE;\n",
              "      border: none;\n",
              "      border-radius: 50%;\n",
              "      cursor: pointer;\n",
              "      display: none;\n",
              "      fill: #1967D2;\n",
              "      height: 32px;\n",
              "      padding: 0 0 0 0;\n",
              "      width: 32px;\n",
              "    }\n",
              "\n",
              "    .colab-df-convert:hover {\n",
              "      background-color: #E2EBFA;\n",
              "      box-shadow: 0px 1px 2px rgba(60, 64, 67, 0.3), 0px 1px 3px 1px rgba(60, 64, 67, 0.15);\n",
              "      fill: #174EA6;\n",
              "    }\n",
              "\n",
              "    [theme=dark] .colab-df-convert {\n",
              "      background-color: #3B4455;\n",
              "      fill: #D2E3FC;\n",
              "    }\n",
              "\n",
              "    [theme=dark] .colab-df-convert:hover {\n",
              "      background-color: #434B5C;\n",
              "      box-shadow: 0px 1px 3px 1px rgba(0, 0, 0, 0.15);\n",
              "      filter: drop-shadow(0px 1px 2px rgba(0, 0, 0, 0.3));\n",
              "      fill: #FFFFFF;\n",
              "    }\n",
              "  </style>\n",
              "\n",
              "      <script>\n",
              "        const buttonEl =\n",
              "          document.querySelector('#df-b3f06240-9a55-4a28-9dfb-98031ce95159 button.colab-df-convert');\n",
              "        buttonEl.style.display =\n",
              "          google.colab.kernel.accessAllowed ? 'block' : 'none';\n",
              "\n",
              "        async function convertToInteractive(key) {\n",
              "          const element = document.querySelector('#df-b3f06240-9a55-4a28-9dfb-98031ce95159');\n",
              "          const dataTable =\n",
              "            await google.colab.kernel.invokeFunction('convertToInteractive',\n",
              "                                                     [key], {});\n",
              "          if (!dataTable) return;\n",
              "\n",
              "          const docLinkHtml = 'Like what you see? Visit the ' +\n",
              "            '<a target=\"_blank\" href=https://colab.research.google.com/notebooks/data_table.ipynb>data table notebook</a>'\n",
              "            + ' to learn more about interactive tables.';\n",
              "          element.innerHTML = '';\n",
              "          dataTable['output_type'] = 'display_data';\n",
              "          await google.colab.output.renderOutput(dataTable, element);\n",
              "          const docLink = document.createElement('div');\n",
              "          docLink.innerHTML = docLinkHtml;\n",
              "          element.appendChild(docLink);\n",
              "        }\n",
              "      </script>\n",
              "    </div>\n",
              "  </div>\n",
              "  "
            ]
          },
          "metadata": {},
          "execution_count": 149
        }
      ],
      "source": [
        "exercise = sns.load_dataset('exercise')\n",
        "exercise"
      ]
    },
    {
      "cell_type": "markdown",
      "metadata": {
        "id": "NYi9P-nIJy-f"
      },
      "source": [
        "There are 30 people in the dataset, with their pulse taken at three different time points in an experiment (i.e, after one, 15, and 30 minutes). Ten people were assigned to each of three activity groups: "
      ]
    },
    {
      "cell_type": "code",
      "execution_count": 150,
      "metadata": {
        "colab": {
          "base_uri": "https://localhost:8080/"
        },
        "id": "8ZmmIMPEJy-f",
        "outputId": "2887fb1a-a829-46ad-dfac-2db1a702e7e4"
      },
      "outputs": [
        {
          "output_type": "execute_result",
          "data": {
            "text/plain": [
              "(array(['rest', 'running', 'walking'], dtype=object), array([30, 30, 30]))"
            ]
          },
          "metadata": {},
          "execution_count": 150
        }
      ],
      "source": [
        "np.unique(exercise.kind, return_counts=True)"
      ]
    },
    {
      "cell_type": "markdown",
      "metadata": {
        "id": "49PjJ7U2Jy-g"
      },
      "source": [
        "Within each of those activity groups, half of the participants are on a low-fat diet while the other half are on a no-fat diet: "
      ]
    },
    {
      "cell_type": "code",
      "execution_count": 151,
      "metadata": {
        "colab": {
          "base_uri": "https://localhost:8080/"
        },
        "id": "0L3Ez96QJy-g",
        "outputId": "6d63053f-0e3d-47ad-d024-f19174b02220"
      },
      "outputs": [
        {
          "output_type": "execute_result",
          "data": {
            "text/plain": [
              "(array(['low fat', 'no fat'], dtype=object), array([45, 45]))"
            ]
          },
          "metadata": {},
          "execution_count": 151
        }
      ],
      "source": [
        "np.unique(exercise.diet, return_counts=True)"
      ]
    },
    {
      "cell_type": "markdown",
      "metadata": {
        "id": "CLMGo8KNJy-g"
      },
      "source": [
        "For simplicity, let's only consider one of the six experimental groups, say the walking, no-fat dieters: "
      ]
    },
    {
      "cell_type": "code",
      "execution_count": 152,
      "metadata": {
        "colab": {
          "base_uri": "https://localhost:8080/",
          "height": 519
        },
        "id": "i6a8K8bwJy-g",
        "outputId": "14060503-f40d-4361-de8c-fac5282953c4"
      },
      "outputs": [
        {
          "output_type": "execute_result",
          "data": {
            "text/plain": [
              "    Unnamed: 0  id    diet  pulse    time     kind\n",
              "45          45  16  no fat     84   1 min  walking\n",
              "46          46  16  no fat     86  15 min  walking\n",
              "47          47  16  no fat     89  30 min  walking\n",
              "48          48  17  no fat    103   1 min  walking\n",
              "49          49  17  no fat    109  15 min  walking\n",
              "50          50  17  no fat     90  30 min  walking\n",
              "51          51  18  no fat     92   1 min  walking\n",
              "52          52  18  no fat     96  15 min  walking\n",
              "53          53  18  no fat    101  30 min  walking\n",
              "54          54  19  no fat     97   1 min  walking\n",
              "55          55  19  no fat     98  15 min  walking\n",
              "56          56  19  no fat    100  30 min  walking\n",
              "57          57  20  no fat    102   1 min  walking\n",
              "58          58  20  no fat    104  15 min  walking\n",
              "59          59  20  no fat    103  30 min  walking"
            ],
            "text/html": [
              "\n",
              "  <div id=\"df-310f697a-89bc-4e4f-8951-e43820faecc5\">\n",
              "    <div class=\"colab-df-container\">\n",
              "      <div>\n",
              "<style scoped>\n",
              "    .dataframe tbody tr th:only-of-type {\n",
              "        vertical-align: middle;\n",
              "    }\n",
              "\n",
              "    .dataframe tbody tr th {\n",
              "        vertical-align: top;\n",
              "    }\n",
              "\n",
              "    .dataframe thead th {\n",
              "        text-align: right;\n",
              "    }\n",
              "</style>\n",
              "<table border=\"1\" class=\"dataframe\">\n",
              "  <thead>\n",
              "    <tr style=\"text-align: right;\">\n",
              "      <th></th>\n",
              "      <th>Unnamed: 0</th>\n",
              "      <th>id</th>\n",
              "      <th>diet</th>\n",
              "      <th>pulse</th>\n",
              "      <th>time</th>\n",
              "      <th>kind</th>\n",
              "    </tr>\n",
              "  </thead>\n",
              "  <tbody>\n",
              "    <tr>\n",
              "      <th>45</th>\n",
              "      <td>45</td>\n",
              "      <td>16</td>\n",
              "      <td>no fat</td>\n",
              "      <td>84</td>\n",
              "      <td>1 min</td>\n",
              "      <td>walking</td>\n",
              "    </tr>\n",
              "    <tr>\n",
              "      <th>46</th>\n",
              "      <td>46</td>\n",
              "      <td>16</td>\n",
              "      <td>no fat</td>\n",
              "      <td>86</td>\n",
              "      <td>15 min</td>\n",
              "      <td>walking</td>\n",
              "    </tr>\n",
              "    <tr>\n",
              "      <th>47</th>\n",
              "      <td>47</td>\n",
              "      <td>16</td>\n",
              "      <td>no fat</td>\n",
              "      <td>89</td>\n",
              "      <td>30 min</td>\n",
              "      <td>walking</td>\n",
              "    </tr>\n",
              "    <tr>\n",
              "      <th>48</th>\n",
              "      <td>48</td>\n",
              "      <td>17</td>\n",
              "      <td>no fat</td>\n",
              "      <td>103</td>\n",
              "      <td>1 min</td>\n",
              "      <td>walking</td>\n",
              "    </tr>\n",
              "    <tr>\n",
              "      <th>49</th>\n",
              "      <td>49</td>\n",
              "      <td>17</td>\n",
              "      <td>no fat</td>\n",
              "      <td>109</td>\n",
              "      <td>15 min</td>\n",
              "      <td>walking</td>\n",
              "    </tr>\n",
              "    <tr>\n",
              "      <th>50</th>\n",
              "      <td>50</td>\n",
              "      <td>17</td>\n",
              "      <td>no fat</td>\n",
              "      <td>90</td>\n",
              "      <td>30 min</td>\n",
              "      <td>walking</td>\n",
              "    </tr>\n",
              "    <tr>\n",
              "      <th>51</th>\n",
              "      <td>51</td>\n",
              "      <td>18</td>\n",
              "      <td>no fat</td>\n",
              "      <td>92</td>\n",
              "      <td>1 min</td>\n",
              "      <td>walking</td>\n",
              "    </tr>\n",
              "    <tr>\n",
              "      <th>52</th>\n",
              "      <td>52</td>\n",
              "      <td>18</td>\n",
              "      <td>no fat</td>\n",
              "      <td>96</td>\n",
              "      <td>15 min</td>\n",
              "      <td>walking</td>\n",
              "    </tr>\n",
              "    <tr>\n",
              "      <th>53</th>\n",
              "      <td>53</td>\n",
              "      <td>18</td>\n",
              "      <td>no fat</td>\n",
              "      <td>101</td>\n",
              "      <td>30 min</td>\n",
              "      <td>walking</td>\n",
              "    </tr>\n",
              "    <tr>\n",
              "      <th>54</th>\n",
              "      <td>54</td>\n",
              "      <td>19</td>\n",
              "      <td>no fat</td>\n",
              "      <td>97</td>\n",
              "      <td>1 min</td>\n",
              "      <td>walking</td>\n",
              "    </tr>\n",
              "    <tr>\n",
              "      <th>55</th>\n",
              "      <td>55</td>\n",
              "      <td>19</td>\n",
              "      <td>no fat</td>\n",
              "      <td>98</td>\n",
              "      <td>15 min</td>\n",
              "      <td>walking</td>\n",
              "    </tr>\n",
              "    <tr>\n",
              "      <th>56</th>\n",
              "      <td>56</td>\n",
              "      <td>19</td>\n",
              "      <td>no fat</td>\n",
              "      <td>100</td>\n",
              "      <td>30 min</td>\n",
              "      <td>walking</td>\n",
              "    </tr>\n",
              "    <tr>\n",
              "      <th>57</th>\n",
              "      <td>57</td>\n",
              "      <td>20</td>\n",
              "      <td>no fat</td>\n",
              "      <td>102</td>\n",
              "      <td>1 min</td>\n",
              "      <td>walking</td>\n",
              "    </tr>\n",
              "    <tr>\n",
              "      <th>58</th>\n",
              "      <td>58</td>\n",
              "      <td>20</td>\n",
              "      <td>no fat</td>\n",
              "      <td>104</td>\n",
              "      <td>15 min</td>\n",
              "      <td>walking</td>\n",
              "    </tr>\n",
              "    <tr>\n",
              "      <th>59</th>\n",
              "      <td>59</td>\n",
              "      <td>20</td>\n",
              "      <td>no fat</td>\n",
              "      <td>103</td>\n",
              "      <td>30 min</td>\n",
              "      <td>walking</td>\n",
              "    </tr>\n",
              "  </tbody>\n",
              "</table>\n",
              "</div>\n",
              "      <button class=\"colab-df-convert\" onclick=\"convertToInteractive('df-310f697a-89bc-4e4f-8951-e43820faecc5')\"\n",
              "              title=\"Convert this dataframe to an interactive table.\"\n",
              "              style=\"display:none;\">\n",
              "        \n",
              "  <svg xmlns=\"http://www.w3.org/2000/svg\" height=\"24px\"viewBox=\"0 0 24 24\"\n",
              "       width=\"24px\">\n",
              "    <path d=\"M0 0h24v24H0V0z\" fill=\"none\"/>\n",
              "    <path d=\"M18.56 5.44l.94 2.06.94-2.06 2.06-.94-2.06-.94-.94-2.06-.94 2.06-2.06.94zm-11 1L8.5 8.5l.94-2.06 2.06-.94-2.06-.94L8.5 2.5l-.94 2.06-2.06.94zm10 10l.94 2.06.94-2.06 2.06-.94-2.06-.94-.94-2.06-.94 2.06-2.06.94z\"/><path d=\"M17.41 7.96l-1.37-1.37c-.4-.4-.92-.59-1.43-.59-.52 0-1.04.2-1.43.59L10.3 9.45l-7.72 7.72c-.78.78-.78 2.05 0 2.83L4 21.41c.39.39.9.59 1.41.59.51 0 1.02-.2 1.41-.59l7.78-7.78 2.81-2.81c.8-.78.8-2.07 0-2.86zM5.41 20L4 18.59l7.72-7.72 1.47 1.35L5.41 20z\"/>\n",
              "  </svg>\n",
              "      </button>\n",
              "      \n",
              "  <style>\n",
              "    .colab-df-container {\n",
              "      display:flex;\n",
              "      flex-wrap:wrap;\n",
              "      gap: 12px;\n",
              "    }\n",
              "\n",
              "    .colab-df-convert {\n",
              "      background-color: #E8F0FE;\n",
              "      border: none;\n",
              "      border-radius: 50%;\n",
              "      cursor: pointer;\n",
              "      display: none;\n",
              "      fill: #1967D2;\n",
              "      height: 32px;\n",
              "      padding: 0 0 0 0;\n",
              "      width: 32px;\n",
              "    }\n",
              "\n",
              "    .colab-df-convert:hover {\n",
              "      background-color: #E2EBFA;\n",
              "      box-shadow: 0px 1px 2px rgba(60, 64, 67, 0.3), 0px 1px 3px 1px rgba(60, 64, 67, 0.15);\n",
              "      fill: #174EA6;\n",
              "    }\n",
              "\n",
              "    [theme=dark] .colab-df-convert {\n",
              "      background-color: #3B4455;\n",
              "      fill: #D2E3FC;\n",
              "    }\n",
              "\n",
              "    [theme=dark] .colab-df-convert:hover {\n",
              "      background-color: #434B5C;\n",
              "      box-shadow: 0px 1px 3px 1px rgba(0, 0, 0, 0.15);\n",
              "      filter: drop-shadow(0px 1px 2px rgba(0, 0, 0, 0.3));\n",
              "      fill: #FFFFFF;\n",
              "    }\n",
              "  </style>\n",
              "\n",
              "      <script>\n",
              "        const buttonEl =\n",
              "          document.querySelector('#df-310f697a-89bc-4e4f-8951-e43820faecc5 button.colab-df-convert');\n",
              "        buttonEl.style.display =\n",
              "          google.colab.kernel.accessAllowed ? 'block' : 'none';\n",
              "\n",
              "        async function convertToInteractive(key) {\n",
              "          const element = document.querySelector('#df-310f697a-89bc-4e4f-8951-e43820faecc5');\n",
              "          const dataTable =\n",
              "            await google.colab.kernel.invokeFunction('convertToInteractive',\n",
              "                                                     [key], {});\n",
              "          if (!dataTable) return;\n",
              "\n",
              "          const docLinkHtml = 'Like what you see? Visit the ' +\n",
              "            '<a target=\"_blank\" href=https://colab.research.google.com/notebooks/data_table.ipynb>data table notebook</a>'\n",
              "            + ' to learn more about interactive tables.';\n",
              "          element.innerHTML = '';\n",
              "          dataTable['output_type'] = 'display_data';\n",
              "          await google.colab.output.renderOutput(dataTable, element);\n",
              "          const docLink = document.createElement('div');\n",
              "          docLink.innerHTML = docLinkHtml;\n",
              "          element.appendChild(docLink);\n",
              "        }\n",
              "      </script>\n",
              "    </div>\n",
              "  </div>\n",
              "  "
            ]
          },
          "metadata": {},
          "execution_count": 152
        }
      ],
      "source": [
        "walk_no = exercise[(exercise.diet == 'no fat') & (exercise.kind == 'walking')]\n",
        "walk_no"
      ]
    },
    {
      "cell_type": "markdown",
      "metadata": {
        "id": "wkNKuo-UJy-g"
      },
      "source": [
        "(Note how participant 16 has a relatively low heart rate at all three timepoints, whereas participant 20 has a relatively high heart rate at all three timepoints.)"
      ]
    },
    {
      "cell_type": "code",
      "execution_count": 153,
      "metadata": {
        "colab": {
          "base_uri": "https://localhost:8080/",
          "height": 452
        },
        "id": "8mJ_Bzz5Jy-g",
        "outputId": "bdc67024-0e06-4933-ea40-57ec8f6d6fb5"
      },
      "outputs": [
        {
          "output_type": "display_data",
          "data": {
            "text/plain": [
              "<Figure size 640x480 with 1 Axes>"
            ],
            "image/png": "[encoded data removed]"
          },
          "metadata": {}
        }
      ],
      "source": [
        "_ = sns.boxplot(x='time', y='pulse', data=walk_no)"
      ]
    },
    {
      "cell_type": "code",
      "execution_count": 154,
      "metadata": {
        "colab": {
          "base_uri": "https://localhost:8080/"
        },
        "id": "u8IgFK6KJy-h",
        "outputId": "6764318b-8e39-4896-a78a-456c6d41bfb0"
      },
      "outputs": [
        {
          "output_type": "execute_result",
          "data": {
            "text/plain": [
              "array([ 84, 103,  92,  97, 102])"
            ]
          },
          "metadata": {},
          "execution_count": 154
        }
      ],
      "source": [
        "min1 = walk_no[walk_no.time == '1 min']['pulse'].to_numpy()\n",
        "min1"
      ]
    },
    {
      "cell_type": "code",
      "execution_count": 155,
      "metadata": {
        "colab": {
          "base_uri": "https://localhost:8080/"
        },
        "id": "o_LOW8VFJy-h",
        "outputId": "079569d7-d670-476c-b6c9-b9e4918ed8fe"
      },
      "outputs": [
        {
          "output_type": "execute_result",
          "data": {
            "text/plain": [
              "95.6"
            ]
          },
          "metadata": {},
          "execution_count": 155
        }
      ],
      "source": [
        "min1.mean()"
      ]
    },
    {
      "cell_type": "code",
      "execution_count": 156,
      "metadata": {
        "colab": {
          "base_uri": "https://localhost:8080/"
        },
        "id": "9H8GdBZoJy-h",
        "outputId": "19b3e10f-c20a-4a6d-cd18-033db0ab4ed9"
      },
      "outputs": [
        {
          "output_type": "execute_result",
          "data": {
            "text/plain": [
              "array([ 86, 109,  96,  98, 104])"
            ]
          },
          "metadata": {},
          "execution_count": 156
        }
      ],
      "source": [
        "min15 = walk_no[walk_no.time == '15 min']['pulse'].to_numpy()\n",
        "min15"
      ]
    },
    {
      "cell_type": "code",
      "execution_count": 157,
      "metadata": {
        "colab": {
          "base_uri": "https://localhost:8080/"
        },
        "id": "D0QZlQl8Jy-h",
        "outputId": "e545a74d-4e01-4464-bbd4-0366470e4069"
      },
      "outputs": [
        {
          "output_type": "execute_result",
          "data": {
            "text/plain": [
              "98.6"
            ]
          },
          "metadata": {},
          "execution_count": 157
        }
      ],
      "source": [
        "min15.mean()"
      ]
    },
    {
      "cell_type": "code",
      "execution_count": 158,
      "metadata": {
        "colab": {
          "base_uri": "https://localhost:8080/"
        },
        "id": "rkCzRQnwJy-h",
        "outputId": "19117370-6a3c-47a6-d72d-85d1960a7f67"
      },
      "outputs": [
        {
          "output_type": "execute_result",
          "data": {
            "text/plain": [
              "array([ 89,  90, 101, 100, 103])"
            ]
          },
          "metadata": {},
          "execution_count": 158
        }
      ],
      "source": [
        "min30 = walk_no[walk_no.time == '30 min']['pulse'].to_numpy()\n",
        "min30"
      ]
    },
    {
      "cell_type": "code",
      "execution_count": null,
      "metadata": {
        "id": "yWmnohV5Jy-h"
      },
      "outputs": [],
      "source": [
        "min30.mean()"
      ]
    },
    {
      "cell_type": "markdown",
      "metadata": {
        "id": "2IPyQq9iJy-i"
      },
      "source": [
        "(With paired samples, we can plot the values in a scatterplot, which wouldn't make any sense for independent samples, e.g.:)"
      ]
    },
    {
      "cell_type": "code",
      "execution_count": 159,
      "metadata": {
        "colab": {
          "base_uri": "https://localhost:8080/",
          "height": 472
        },
        "id": "rNPRuNaDJy-i",
        "outputId": "76c6ff28-2063-4db3-feb9-db139e623ca3"
      },
      "outputs": [
        {
          "output_type": "display_data",
          "data": {
            "text/plain": [
              "<Figure size 640x480 with 1 Axes>"
            ],
            "image/png": "[encoded data removed]"
          },
          "metadata": {}
        }
      ],
      "source": [
        "sns.scatterplot(x=min1, y=min15)\n",
        "plt.title('Heart rate of no-fat dieters (beats per minute)')\n",
        "plt.xlabel('After 1 minute walking')\n",
        "_ = plt.ylabel('After 15 minutes walking')"
      ]
    },
    {
      "cell_type": "markdown",
      "metadata": {
        "id": "7ah_p_eVJy-i"
      },
      "source": [
        "To assess whether the mean heart rate varies significantly after one minute of walking relative to after 15 minutes, we can use Student's **paired-sample** (a.k.a., **dependent**) *t*-test: \n",
        "$$ t = \\frac{\\bar{d} - \\mu_0}{s_\\bar{d}} $$ \n",
        "Where: \n",
        "* $d$ is a vector of the differences between paired samples $x$ and $y$\n",
        "* $\\bar{d}$ is the mean of the differences\n",
        "* $\\mu_0$ will typically be zero, meaning the null hypothesis is that there is no difference between $x$ and $y$\n",
        "* $s_\\bar{d}$ is the standard error of the differences"
      ]
    },
    {
      "cell_type": "markdown",
      "metadata": {
        "id": "5w618u07Jy-i"
      },
      "source": [
        "(Note how similar to single-sample *t*-test formula.)"
      ]
    },
    {
      "cell_type": "code",
      "execution_count": 160,
      "metadata": {
        "colab": {
          "base_uri": "https://localhost:8080/"
        },
        "id": "GSaoJW5IJy-i",
        "outputId": "9e1bc28b-7d35-49b8-dc6e-e35630bc4270"
      },
      "outputs": [
        {
          "output_type": "execute_result",
          "data": {
            "text/plain": [
              "array([2, 6, 4, 1, 2])"
            ]
          },
          "metadata": {},
          "execution_count": 160
        }
      ],
      "source": [
        "d = min15 - min1\n",
        "d"
      ]
    },
    {
      "cell_type": "code",
      "execution_count": 161,
      "metadata": {
        "colab": {
          "base_uri": "https://localhost:8080/"
        },
        "id": "elsBVr9AJy-i",
        "outputId": "2bf1efc6-b216-49cb-947b-427071e74a70"
      },
      "outputs": [
        {
          "output_type": "execute_result",
          "data": {
            "text/plain": [
              "3.0"
            ]
          },
          "metadata": {},
          "execution_count": 161
        }
      ],
      "source": [
        "dbar = d.mean()\n",
        "dbar"
      ]
    },
    {
      "cell_type": "code",
      "execution_count": 162,
      "metadata": {
        "colab": {
          "base_uri": "https://localhost:8080/"
        },
        "id": "yD8KOL3EJy-j",
        "outputId": "75d2269d-6bef-4158-f37f-29842e27a6f1"
      },
      "outputs": [
        {
          "output_type": "execute_result",
          "data": {
            "text/plain": [
              "0.8944271909999159"
            ]
          },
          "metadata": {},
          "execution_count": 162
        }
      ],
      "source": [
        "sd = st.sem(d)\n",
        "sd"
      ]
    },
    {
      "cell_type": "code",
      "execution_count": 163,
      "metadata": {
        "colab": {
          "base_uri": "https://localhost:8080/"
        },
        "id": "uJglNA37Jy-j",
        "outputId": "26828644-3d0c-49a3-873f-474582bd61a7"
      },
      "outputs": [
        {
          "output_type": "execute_result",
          "data": {
            "text/plain": [
              "3.3541019662496847"
            ]
          },
          "metadata": {},
          "execution_count": 163
        }
      ],
      "source": [
        "t = (dbar-0)/sd\n",
        "t"
      ]
    },
    {
      "cell_type": "code",
      "execution_count": 164,
      "metadata": {
        "colab": {
          "base_uri": "https://localhost:8080/"
        },
        "id": "6Mcq9LALJy-j",
        "outputId": "41a035de-aa7d-4796-cfad-01a1c281937f"
      },
      "outputs": [
        {
          "output_type": "execute_result",
          "data": {
            "text/plain": [
              "0.02846020325433834"
            ]
          },
          "metadata": {},
          "execution_count": 164
        }
      ],
      "source": [
        "p_from_t(t, d.size)"
      ]
    },
    {
      "cell_type": "code",
      "execution_count": 165,
      "metadata": {
        "colab": {
          "base_uri": "https://localhost:8080/"
        },
        "id": "7SZqWeDSJy-j",
        "outputId": "5cce6fc3-b541-4271-a5d7-88dd7ebf164a"
      },
      "outputs": [
        {
          "output_type": "execute_result",
          "data": {
            "text/plain": [
              "TtestResult(statistic=3.3541019662496847, pvalue=0.02846020325433834, df=4)"
            ]
          },
          "metadata": {},
          "execution_count": 165
        }
      ],
      "source": [
        "st.ttest_rel(min15, min1)"
      ]
    },
    {
      "cell_type": "markdown",
      "metadata": {
        "id": "oZy5OPUcJy-j"
      },
      "source": [
        "In contrast, if we were to put the same values into an independent *t*-test..."
      ]
    },
    {
      "cell_type": "code",
      "execution_count": 166,
      "metadata": {
        "colab": {
          "base_uri": "https://localhost:8080/"
        },
        "id": "-Zxlb9MjJy-j",
        "outputId": "a51097eb-64c3-4d85-f502-93aae64a335e"
      },
      "outputs": [
        {
          "output_type": "execute_result",
          "data": {
            "text/plain": [
              "Ttest_indResult(statistic=0.5729114862838532, pvalue=0.5826164805627767)"
            ]
          },
          "metadata": {},
          "execution_count": 166
        }
      ],
      "source": [
        "st.ttest_ind(min15, min1, equal_var=False)"
      ]
    },
    {
      "cell_type": "markdown",
      "metadata": {
        "id": "3Qq6CwH2Jy-k"
      },
      "source": [
        "#### Machine Learning Examples"
      ]
    },
    {
      "cell_type": "markdown",
      "metadata": {
        "id": "QKsOq0Q2Jy-k"
      },
      "source": [
        "* Single-sample: Does my stochastic model tend to be more accurate than an established benchmark? \n",
        "* Independent samples: Does my model have unwanted bias in it, e.g., do white men score higher than other demographic groups with HR model? \n",
        "* Paired samples: Is new TensorFlow.js model significantly faster? (paired by browser / device)"
      ]
    },
    {
      "cell_type": "code",
      "execution_count": 167,
      "metadata": {
        "colab": {
          "base_uri": "https://localhost:8080/"
        },
        "id": "h8K4hhf0Jy-l",
        "outputId": "76e2e7c5-b3db-4eac-bdf5-4bf1ae08cf2b"
      },
      "outputs": [
        {
          "output_type": "execute_result",
          "data": {
            "text/plain": [
              "TtestResult(statistic=2.448085108904054, pvalue=0.0442312968303811, df=7)"
            ]
          },
          "metadata": {},
          "execution_count": 167
        }
      ],
      "source": [
        "st.ttest_1samp([48, 50, 54, 60, 49, 55, 59, 62], 50)"
      ]
    },
    {
      "cell_type": "markdown",
      "metadata": {
        "id": "2uSTVC7PJy-l"
      },
      "source": [
        "2. On Dream island, the flippers of male Adélie penguins (191.9 mm) are significantly longer than those of females (187.9 mm), *t* = 2.4, *p* < .05."
      ]
    },
    {
      "cell_type": "code",
      "execution_count": 168,
      "metadata": {
        "colab": {
          "base_uri": "https://localhost:8080/",
          "height": 449
        },
        "id": "wVvnWp-nJy-l",
        "outputId": "3d021c78-3fde-4455-f2e9-1c00027a2b9b"
      },
      "outputs": [
        {
          "output_type": "display_data",
          "data": {
            "text/plain": [
              "<Figure size 640x480 with 1 Axes>"
            ],
            "image/png": "[encoded data removed]"
          },
          "metadata": {}
        }
      ],
      "source": [
        "_ = sns.boxplot(x='island', y='flipper_length_mm', hue='sex', data=adelie)"
      ]
    },
    {
      "cell_type": "code",
      "execution_count": 169,
      "metadata": {
        "id": "6NQmdBuxJy-l"
      },
      "outputs": [],
      "source": [
        "f = adelie[(adelie.sex == 'Female') & (adelie.island == 'Dream')]['flipper_length_mm'].to_numpy()\n",
        "m = adelie[(adelie.sex == 'Male') & (adelie.island == 'Dream')]['flipper_length_mm'].to_numpy()"
      ]
    },
    {
      "cell_type": "code",
      "execution_count": 170,
      "metadata": {
        "colab": {
          "base_uri": "https://localhost:8080/"
        },
        "id": "087RkPOgJy-l",
        "outputId": "69ee7676-89e2-4a53-e0c7-25b7ca704541"
      },
      "outputs": [
        {
          "output_type": "execute_result",
          "data": {
            "text/plain": [
              "187.85185185185185"
            ]
          },
          "metadata": {},
          "execution_count": 170
        }
      ],
      "source": [
        "f.mean()"
      ]
    },
    {
      "cell_type": "code",
      "execution_count": 171,
      "metadata": {
        "colab": {
          "base_uri": "https://localhost:8080/"
        },
        "id": "bTpJdjU-Jy-m",
        "outputId": "28376ae9-8789-4ed3-cace-faf875291296"
      },
      "outputs": [
        {
          "output_type": "execute_result",
          "data": {
            "text/plain": [
              "191.92857142857142"
            ]
          },
          "metadata": {},
          "execution_count": 171
        }
      ],
      "source": [
        "m.mean()"
      ]
    },
    {
      "cell_type": "code",
      "execution_count": 172,
      "metadata": {
        "colab": {
          "base_uri": "https://localhost:8080/"
        },
        "id": "gDK9V7pTJy-m",
        "outputId": "5b1c0cd2-c5be-40c9-cb16-560129ea6033"
      },
      "outputs": [
        {
          "output_type": "execute_result",
          "data": {
            "text/plain": [
              "Ttest_indResult(statistic=-2.446038619999187, pvalue=0.01789859961302418)"
            ]
          },
          "metadata": {},
          "execution_count": 172
        }
      ],
      "source": [
        "tp = st.ttest_ind(f, m, equal_var=False)\n",
        "tp"
      ]
    },
    {
      "cell_type": "code",
      "execution_count": 173,
      "metadata": {
        "colab": {
          "base_uri": "https://localhost:8080/"
        },
        "id": "3xPeCr7jJy-m",
        "outputId": "d39eb4e3-4b42-4a80-b633-9fd095e02ba7"
      },
      "outputs": [
        {
          "output_type": "execute_result",
          "data": {
            "text/plain": [
              "0.01789859961302418"
            ]
          },
          "metadata": {},
          "execution_count": 173
        }
      ],
      "source": [
        "tp.pvalue"
      ]
    },
    {
      "cell_type": "markdown",
      "metadata": {
        "id": "7sGchromJy-m"
      },
      "source": [
        "3. The heart rate of low-fat dieters did not change significantly after one minute of rest (88.6 bpm) relative to after 15 minutes of rest (89.6 bpm), *t*=2.2, *p* = .09."
      ]
    },
    {
      "cell_type": "code",
      "execution_count": 174,
      "metadata": {
        "id": "ZL0ZiOjaJy-n"
      },
      "outputs": [],
      "source": [
        "rest_lo = exercise[(exercise.diet == 'low fat') & (exercise.kind == 'rest')]"
      ]
    },
    {
      "cell_type": "code",
      "execution_count": 175,
      "metadata": {
        "colab": {
          "base_uri": "https://localhost:8080/",
          "height": 449
        },
        "id": "L6TswIXmcJjM",
        "outputId": "1b8da74c-907e-4d4a-b315-154e46b97cf3"
      },
      "outputs": [
        {
          "output_type": "display_data",
          "data": {
            "text/plain": [
              "<Figure size 640x480 with 1 Axes>"
            ],
            "image/png": "[encoded data removed]"
          },
          "metadata": {}
        }
      ],
      "source": [
        "_ = sns.boxplot(x='time', y='pulse', data=rest_lo)"
      ]
    },
    {
      "cell_type": "code",
      "execution_count": 177,
      "metadata": {
        "colab": {
          "base_uri": "https://localhost:8080/"
        },
        "id": "DrFCIU5oJy-n",
        "outputId": "7058b12a-58a4-4b5b-9678-304acfd48e1b"
      },
      "outputs": [
        {
          "output_type": "execute_result",
          "data": {
            "text/plain": [
              "88.6"
            ]
          },
          "metadata": {},
          "execution_count": 177
        }
      ],
      "source": [
        "min1 = rest_lo[rest_lo.time == '1 min']['pulse'].to_numpy()\n",
        "min1.mean()"
      ]
    },
    {
      "cell_type": "code",
      "execution_count": 178,
      "metadata": {
        "colab": {
          "base_uri": "https://localhost:8080/"
        },
        "id": "LKBkGXAeJy-n",
        "outputId": "563f1990-c8b2-4815-ced0-c9f808bd3c27"
      },
      "outputs": [
        {
          "output_type": "execute_result",
          "data": {
            "text/plain": [
              "89.6"
            ]
          },
          "metadata": {},
          "execution_count": 178
        }
      ],
      "source": [
        "min15 = rest_lo[rest_lo.time == '15 min']['pulse'].to_numpy()\n",
        "min15.mean()"
      ]
    },
    {
      "cell_type": "code",
      "execution_count": 179,
      "metadata": {
        "colab": {
          "base_uri": "https://localhost:8080/"
        },
        "id": "H0s2me3RJy-n",
        "outputId": "6cfbe0b8-a7b9-4ff8-c12f-adb86642efe5"
      },
      "outputs": [
        {
          "output_type": "execute_result",
          "data": {
            "text/plain": [
              "TtestResult(statistic=2.23606797749979, pvalue=0.08900934250008564, df=4)"
            ]
          },
          "metadata": {},
          "execution_count": 179
        }
      ],
      "source": [
        "st.ttest_rel(min15, min1)"
      ]
    },
    {
      "cell_type": "markdown",
      "metadata": {
        "id": "MkAeEk4PJy-n"
      },
      "source": [
        "### Confidence Intervals"
      ]
    },
    {
      "cell_type": "markdown",
      "metadata": {
        "id": "8IdBn7D6Jy-n"
      },
      "source": [
        "When examining sample means as we have been for the *t*-test, a useful statistical tool is the **confidence interval** (CI), which we for example often see associated with polling results when there's an upcoming election. CIs allow us to make statements such as \"there is a 95% chance that the population mean lies within this particular range of values\"."
      ]
    },
    {
      "cell_type": "markdown",
      "metadata": {
        "id": "Nk_XsypkJy-o"
      },
      "source": [
        "We can calculate a CI by rearranging the *z*-score formula: \n",
        "$$ \\text{C.I.} = \\bar{x} \\pm z \\frac{s}{\\sqrt{n}} $$\n",
        "Where: \n",
        "* $\\bar{x}$ is the sample mean\n",
        "* $s$ is the sample standard deviation\n",
        "* $n$ is the sample size\n",
        "* $z$ corresponds to a *z*-score threshold (e.g., the most common 95% CI is $z \\pm 1.960$; other popular ones are the 90% CI at $z \\pm 1.645$ and the 99% CI at $z \\pm 2.576$)"
      ]
    },
    {
      "cell_type": "markdown",
      "metadata": {
        "id": "0FZRFc_tJy-o"
      },
      "source": [
        "For example, to find the 95% confidence interval for the true mean yield of our GMO yeast: "
      ]
    },
    {
      "cell_type": "code",
      "execution_count": null,
      "metadata": {
        "id": "JoiW9cZmJy-o"
      },
      "outputs": [],
      "source": [
        "x = np.array([48, 50, 54, 60, 49, 55, 59, 62])"
      ]
    },
    {
      "cell_type": "code",
      "execution_count": null,
      "metadata": {
        "id": "sF4Oxn-KJy-o"
      },
      "outputs": [],
      "source": [
        "xbar = x.mean()\n",
        "s = x.std()\n",
        "n = x.size"
      ]
    },
    {
      "cell_type": "code",
      "execution_count": null,
      "metadata": {
        "id": "ZI7gS9CUJy-o"
      },
      "outputs": [],
      "source": [
        "z = 1.96"
      ]
    },
    {
      "cell_type": "code",
      "execution_count": null,
      "metadata": {
        "id": "ghR6ySR5Jy-o"
      },
      "outputs": [],
      "source": [
        "def CIerr_calc(my_z, my_s, my_n):\n",
        "    return my_z*(my_s/my_n**(1/2))"
      ]
    },
    {
      "cell_type": "code",
      "execution_count": null,
      "metadata": {
        "id": "zUnONG0FJy-o"
      },
      "outputs": [],
      "source": [
        "CIerr = CIerr_calc(z, s, n)"
      ]
    },
    {
      "cell_type": "code",
      "execution_count": null,
      "metadata": {
        "id": "wJy0oR0PhPe4"
      },
      "outputs": [],
      "source": [
        "CIerr"
      ]
    },
    {
      "cell_type": "code",
      "execution_count": null,
      "metadata": {
        "id": "eUgR-OumJy-o"
      },
      "outputs": [],
      "source": [
        "xbar + CIerr"
      ]
    },
    {
      "cell_type": "code",
      "execution_count": null,
      "metadata": {
        "id": "dcSAZBArJy-p"
      },
      "outputs": [],
      "source": [
        "xbar - CIerr"
      ]
    },
    {
      "cell_type": "markdown",
      "metadata": {
        "id": "9ILUj-4vJy-p"
      },
      "source": [
        "Therefore, there's a 95% chance that the true mean yield of our GMO yeast lies in the range of 51.2 to 58.1 liters. Since this CI doesn't overlap with the established baseline mean of 50L, this corresponds to stating that the GMO yield is significantly greater than the baseline where $\\alpha = .05$, as we already determined: "
      ]
    },
    {
      "cell_type": "code",
      "execution_count": null,
      "metadata": {
        "id": "XzL2woRiJy-p"
      },
      "outputs": [],
      "source": [
        "fig, ax = plt.subplots()\n",
        "plt.ylabel('Stout Yield (L)')\n",
        "plt.grid(axis='y')\n",
        "ax.errorbar(['GMO'], [xbar], [CIerr], fmt='o', color='green')\n",
        "_ = ax.axhline(50, color='orange')"
      ]
    },
    {
      "cell_type": "markdown",
      "metadata": {
        "id": "VNhOA10fJy-p"
      },
      "source": [
        "Similarly, we can compare several sample means with CIs. Using our penguins again: "
      ]
    },
    {
      "cell_type": "code",
      "execution_count": null,
      "metadata": {
        "id": "IRyeB9TQJy-p"
      },
      "outputs": [],
      "source": [
        "fCIerr = CIerr_calc(z, sf, nf)\n",
        "mCIerr = CIerr_calc(z, sm, nm)"
      ]
    },
    {
      "cell_type": "code",
      "execution_count": null,
      "metadata": {
        "id": "b_xJOcVYJy-p"
      },
      "outputs": [],
      "source": [
        "fig, ax = plt.subplots()\n",
        "plt.title('Adélie Penguins')\n",
        "plt.ylabel('Weight (kg)')\n",
        "plt.grid(axis='y')\n",
        "_ = ax.errorbar(['female', 'male'], [fbar, mbar], [fCIerr, mCIerr], \n",
        "                fmt='.', color='green')"
      ]
    },
    {
      "cell_type": "markdown",
      "metadata": {
        "id": "xNBdDo13Jy-p"
      },
      "source": [
        "The CIs are nowhere near overlapping, corresponding to the extremely significant (-log*P* $\\approx 25$) difference in penguin weight."
      ]
    },
    {
      "cell_type": "markdown",
      "metadata": {
        "id": "__UUzJKhJy-q"
      },
      "source": [
        "In contrast, the CIs for female penguins from the three islands..."
      ]
    },
    {
      "cell_type": "code",
      "execution_count": null,
      "metadata": {
        "id": "-I5QSiz1Jy-q"
      },
      "outputs": [],
      "source": [
        "t = adelie[(adelie.sex == 'Female') & (adelie.island == 'Torgersen')]['body_mass_g'].to_numpy()/1000\n",
        "b = adelie[(adelie.sex == 'Female') & (adelie.island == 'Biscoe')]['body_mass_g'].to_numpy()/1000\n",
        "d = adelie[(adelie.sex == 'Female') & (adelie.island == 'Dream')]['body_mass_g'].to_numpy()/1000"
      ]
    },
    {
      "cell_type": "code",
      "execution_count": null,
      "metadata": {
        "id": "bSl86d2CJy-q"
      },
      "outputs": [],
      "source": [
        "means = [t.mean(), b.mean(), d.mean()]"
      ]
    },
    {
      "cell_type": "code",
      "execution_count": null,
      "metadata": {
        "id": "oUW9l3FeJy-q"
      },
      "outputs": [],
      "source": [
        "s_t, sb, sd = t.var(ddof=1), b.var(ddof=1), d.var(ddof=1) # s_t to disambiguate stats package"
      ]
    },
    {
      "cell_type": "code",
      "execution_count": null,
      "metadata": {
        "id": "d6OLKRJGJy-q"
      },
      "outputs": [],
      "source": [
        "nt, nb, nd = t.size, b.size, d.size"
      ]
    },
    {
      "cell_type": "code",
      "execution_count": null,
      "metadata": {
        "id": "0JVMu-zmJy-q"
      },
      "outputs": [],
      "source": [
        "CIerrs = [CIerr_calc(z, s_t, nt), CIerr_calc(z, sb, nb), CIerr_calc(z, sd, nd)]"
      ]
    },
    {
      "cell_type": "code",
      "execution_count": null,
      "metadata": {
        "id": "s3-yrx0IJy-q"
      },
      "outputs": [],
      "source": [
        "fig, ax = plt.subplots()\n",
        "plt.title('Female Adélie Penguins')\n",
        "plt.ylabel('Weight (kg)')\n",
        "plt.grid(axis='y')\n",
        "_ = ax.errorbar(['Torgersen', 'Biscoe', 'Dream'], means, CIerrs, \n",
        "                fmt='o', color='green')"
      ]
    },
    {
      "cell_type": "markdown",
      "metadata": {
        "id": "c_mv-Q3oJy-q"
      },
      "source": [
        "### ANOVA: Analysis of Variance"
      ]
    },
    {
      "cell_type": "markdown",
      "metadata": {
        "id": "y5I-yTOAJy-r"
      },
      "source": [
        "**Analysis of variance** (ANOVA) enables us to compare more than two samples (e.g., all three islands in the case of penguin weight) in a single statistical test."
      ]
    },
    {
      "cell_type": "markdown",
      "metadata": {
        "id": "0jAvOMmwJy-r"
      },
      "source": [
        "To apply ANOVA, we must make three assumptions: \n",
        "1. Independent samples\n",
        "2. Normally-distributed populations\n",
        "3. *Homoscedasticity*: Population standard deviations are equal"
      ]
    },
    {
      "cell_type": "markdown",
      "metadata": {
        "id": "2MdpZtTcJy-r"
      },
      "source": [
        "While not especially complicated under the hood (you can dig into the formulae [here](https://en.wikipedia.org/wiki/Analysis_of_variance#Logic)), ANOVA might be the least widely-applicable topic within *Intro to Stats* to ML so in the interest of time, we'll skip straight to the Python code: "
      ]
    },
    {
      "cell_type": "code",
      "execution_count": null,
      "metadata": {
        "id": "rlCB3yAeJy-r"
      },
      "outputs": [],
      "source": [
        "st.f_oneway(t, b, d)"
      ]
    },
    {
      "cell_type": "markdown",
      "metadata": {
        "id": "1iiTah2uJy-r"
      },
      "source": [
        "### Pearson Correlation Coefficient"
      ]
    },
    {
      "cell_type": "markdown",
      "metadata": {
        "id": "Q-yMENfQJy-r"
      },
      "source": [
        "If we have two vectors of the same length, $x$ and $y$, where each element of $x$ is paired with the corresponding element of $y$, **covariance** provides a measure of how related the variables are to each other:\n",
        "$$ \\text{cov}(x, y) = \\frac{\\sum_{i=1}^n (x_i - \\bar{x})(y_i - \\bar{y}) }{n} $$"
      ]
    },
    {
      "cell_type": "markdown",
      "metadata": {
        "id": "K1OsRpDXJy-r"
      },
      "source": [
        "A drawback of covariance is that it confounds the relative scale of two variables with a measure of the variables' relatedness. **Correlation** builds on covariance and overcomes this drawback via rescaling, thereby measuring (linear) relatedness exclusively. Correlation is much more common because of this difference. \n",
        "\n",
        "The correlation coefficient (developed by Karl Pearson in the 20th c. though known in the 19th c.) is often denoted with $r$ or $\\rho$ and is defined by: \n",
        "$$ \\rho_{x,y} = \\frac{\\text{cov}(x,y)}{\\sigma_x \\sigma_y} $$"
      ]
    },
    {
      "cell_type": "code",
      "execution_count": null,
      "metadata": {
        "id": "YZvTV6dAJy-r"
      },
      "outputs": [],
      "source": [
        "iris = sns.load_dataset('iris')\n",
        "iris"
      ]
    },
    {
      "cell_type": "code",
      "execution_count": null,
      "metadata": {
        "id": "UnrJjhx0Jy-s"
      },
      "outputs": [],
      "source": [
        "x = iris.sepal_length\n",
        "y = iris.petal_length"
      ]
    },
    {
      "cell_type": "code",
      "execution_count": null,
      "metadata": {
        "id": "hPE0FcBTJy-s"
      },
      "outputs": [],
      "source": [
        "sns.set_style('darkgrid')"
      ]
    },
    {
      "cell_type": "code",
      "execution_count": null,
      "metadata": {
        "id": "VVEf2DoBJy-s"
      },
      "outputs": [],
      "source": [
        "_ = sns.scatterplot(x=x, y=y)"
      ]
    },
    {
      "cell_type": "code",
      "execution_count": null,
      "metadata": {
        "id": "-BMruFjYJy-s"
      },
      "outputs": [],
      "source": [
        "n = iris.sepal_width.size"
      ]
    },
    {
      "cell_type": "code",
      "execution_count": null,
      "metadata": {
        "id": "OWjlIrqxJy-s"
      },
      "outputs": [],
      "source": [
        "xbar, ybar = x.mean(), y.mean()"
      ]
    },
    {
      "cell_type": "code",
      "execution_count": null,
      "metadata": {
        "id": "J1K3jIeoJy-s"
      },
      "outputs": [],
      "source": [
        "product = []\n",
        "for i in range(n):\n",
        "    product.append((x[i]-xbar)*(y[i]-ybar))"
      ]
    },
    {
      "cell_type": "code",
      "execution_count": null,
      "metadata": {
        "id": "Z6o2_0xqJy-s"
      },
      "outputs": [],
      "source": [
        "cov = sum(product)/n\n",
        "cov"
      ]
    },
    {
      "cell_type": "code",
      "execution_count": null,
      "metadata": {
        "id": "sNrADHruJy-t"
      },
      "outputs": [],
      "source": [
        "r = cov/(np.std(x)*np.std(y))\n",
        "r"
      ]
    },
    {
      "cell_type": "markdown",
      "metadata": {
        "id": "TrfrcRSRJy-t"
      },
      "source": [
        "We reached this point in *Probability*. Now, as for how to determine a *p*-value, we first calculate the *t*-statistic...\n",
        "$$ t = r \\sqrt{\\frac{n-2}{1-r^2}} $$"
      ]
    },
    {
      "cell_type": "code",
      "execution_count": null,
      "metadata": {
        "id": "jriXvRsfJy-t"
      },
      "outputs": [],
      "source": [
        "t = r*((n-2)/(1-r**2))**(1/2)\n",
        "t"
      ]
    },
    {
      "cell_type": "markdown",
      "metadata": {
        "id": "0478RJCXJy-t"
      },
      "source": [
        "...which we can convert to a *p*-value as we've done several times above: "
      ]
    },
    {
      "cell_type": "code",
      "execution_count": null,
      "metadata": {
        "id": "ZyPsXHR3Jy-t"
      },
      "outputs": [],
      "source": [
        "p = p_from_t(t, n-1) \n",
        "p"
      ]
    },
    {
      "cell_type": "code",
      "execution_count": null,
      "metadata": {
        "id": "duzLjTGmJy-t"
      },
      "outputs": [],
      "source": [
        "-np.log10(p)"
      ]
    },
    {
      "cell_type": "markdown",
      "metadata": {
        "id": "MKrnu6iZJy-u"
      },
      "source": [
        "This confirms that iris sepal length is extremely positively correlated with petal length."
      ]
    },
    {
      "cell_type": "markdown",
      "metadata": {
        "id": "mBNh5oBPJy-u"
      },
      "source": [
        "All of the above can be done in a single line with SciPy's `pearsonr()` method: "
      ]
    },
    {
      "cell_type": "code",
      "execution_count": null,
      "metadata": {
        "id": "wsCA5H9zJy-u"
      },
      "outputs": [],
      "source": [
        "st.pearsonr(x, y)"
      ]
    },
    {
      "cell_type": "markdown",
      "metadata": {
        "id": "-_UNB98rJy-u"
      },
      "source": [
        "And, for reference, here's a correlation that is not significant ($r \\approx 0$): "
      ]
    },
    {
      "cell_type": "code",
      "execution_count": null,
      "metadata": {
        "id": "hM12XzeQJy-u"
      },
      "outputs": [],
      "source": [
        "_ = sns.scatterplot(x=iris.sepal_length, y=iris.sepal_width)"
      ]
    },
    {
      "cell_type": "code",
      "execution_count": null,
      "metadata": {
        "id": "G9ILTCGkJy-u"
      },
      "outputs": [],
      "source": [
        "st.pearsonr(iris.sepal_length, iris.sepal_width)"
      ]
    },
    {
      "cell_type": "markdown",
      "metadata": {
        "id": "RpgrOtddJy-u"
      },
      "source": [
        "### The Coefficient of Determination"
      ]
    },
    {
      "cell_type": "markdown",
      "metadata": {
        "id": "QpwA6dZIJy-v"
      },
      "source": [
        "...also known as $r^2$, this is the proportion of variance in one variable explained by another. \n",
        "\n",
        "It can range from 0 to 1 and it is simply the square of the Pearson $r$:"
      ]
    },
    {
      "cell_type": "code",
      "execution_count": null,
      "metadata": {
        "id": "1Dq-99gWJy-v"
      },
      "outputs": [],
      "source": [
        "rsq = r**2\n",
        "rsq"
      ]
    },
    {
      "cell_type": "markdown",
      "metadata": {
        "id": "2dsLJOK-Jy-v"
      },
      "source": [
        "In this case, it indicates that 76% of the variance in iris petal length can be explained by sepal length. (This is easier to understand where one variable could straightforwardly drive variation in the other; more on that in Segment 2.)"
      ]
    },
    {
      "cell_type": "markdown",
      "metadata": {
        "id": "Dyt_nWhZJy-v"
      },
      "source": [
        "For comparison, only 1.4% of the variance in sepal width can be explained by sepal length: "
      ]
    },
    {
      "cell_type": "code",
      "execution_count": null,
      "metadata": {
        "id": "jqoRP7sIJy-v"
      },
      "outputs": [],
      "source": [
        "st.pearsonr(iris.sepal_length, iris.sepal_width)[0]**2"
      ]
    },
    {
      "cell_type": "markdown",
      "metadata": {
        "id": "DAzNEPfMJy-v"
      },
      "source": [
        "### Correlation vs Causation"
      ]
    },
    {
      "cell_type": "markdown",
      "metadata": {
        "id": "1mQAauNGJy-v"
      },
      "source": [
        "Correlation doesn't imply **causation** on its own. E.g., sepal length and petal length are extremely highly correlated, but this doesn't imply that sepal length causes petal length or vice versa. "
      ]
    },
    {
      "cell_type": "markdown",
      "metadata": {
        "id": "eiRZEHl8Jy-v"
      },
      "source": [
        "There is a lot to causality and I recommend Judea Pearl's [*Causality*](http://bayes.cs.ucla.edu/BOOK-2K/), the classic technical text on the topic, if you're keen to explore this in depth. [*The Book of Why*](http://bayes.cs.ucla.edu/WHY/) is an exceptional lay alternative by the same author."
      ]
    },
    {
      "cell_type": "markdown",
      "metadata": {
        "id": "Wh7hRf-NJy-w"
      },
      "source": [
        "In brief, three criteria are required for inferring causal relationships: \n",
        "\n",
        "1. **Covariation**: Two variables vary together (this criterion is satisfied by sepal and petal length)\n",
        "2. **Temporal precedence**: The affected variable must vary *after* the causal variable is varied. \n",
        "3. **Elimination of extraneous variables**: We must be sure no third variable is causing the variation. This can be tricky for data we obtained through observation alone, but easier when we can control the causal variable, e.g., with (ideally double-blind) randomized control trials. "
      ]
    },
    {
      "cell_type": "markdown",
      "metadata": {
        "id": "PrZMto2nJy-w"
      },
      "source": [
        "Some examples of where we could infer causality from correlation in ML: \n",
        "* Additional neurons --> higher accuracy\n",
        "* Additional servers or RAM --> shorter inference time\n",
        "* Removal of pronouns --> less unwanted bias"
      ]
    },
    {
      "cell_type": "markdown",
      "metadata": {
        "id": "uuSMxo6uJy-w"
      },
      "source": [
        "### Correcting for Multiple Comparisons"
      ]
    },
    {
      "cell_type": "markdown",
      "metadata": {
        "id": "eVGXGnYTJy-w"
      },
      "source": [
        "A major issue with frequentist statistics is the issue of multiple comparisons:\n",
        "\n",
        "* If you perform 20 statistical tests where there is no real effect (i.e., the null hypothesis is true), then we would expect one of them to come up significant by chance alone (i.e., a *false positive* or *Type I error*).\n",
        "* If you perform a hundred tests in such a circumstance, then you should expect five false positives."
      ]
    },
    {
      "cell_type": "markdown",
      "metadata": {
        "id": "HjCTRjYWJy-w"
      },
      "source": [
        "The most straightforward, and indeed the most widely-used, solution is the **Bonferroni correction** (named after the 20th c. Italian mathematician Carlo Emilio Bonferroni). Assuming, we'd like an overall $\\alpha = .05$: \n",
        "\n",
        "* If we're planning on conducting ten tests ($m=10$), the significance threshold for each individual test is $\\frac{\\alpha}{m} = \\frac{.05}{10} = .005$\n",
        "* With 20 tests, it's $\\frac{\\alpha}{m} = \\frac{.05}{20} = .0025$\n",
        "* With 100 tests, it's $\\frac{\\alpha}{m} = \\frac{.05}{100} = .0005$"
      ]
    },
    {
      "cell_type": "markdown",
      "metadata": {
        "id": "yzexynOdJy-w"
      },
      "source": [
        "(Other, less straightforward, approaches for adjusting $\\alpha$ for multiple comparisons exist. They're beyond our scope, but the major ones are listed under the *General methods of alpha adjustment for multiple comparisons* heading [here](https://en.wikipedia.org/wiki/Multiple_comparisons_problem#See_also).)"
      ]
    },
    {
      "cell_type": "markdown",
      "metadata": {
        "id": "-x-fZ2_gJy-w"
      },
      "source": [
        "**Return to slides here.**"
      ]
    },
    {
      "cell_type": "markdown",
      "metadata": {
        "id": "eCf6c3OSJy-w"
      },
      "source": [
        "## Segment 2: Regression"
      ]
    },
    {
      "cell_type": "markdown",
      "metadata": {
        "id": "RxcUrV5EJy-w"
      },
      "source": [
        "### Linear Least Squares for Fitting a Line to Points on a Cartesian Plane"
      ]
    },
    {
      "cell_type": "code",
      "execution_count": null,
      "metadata": {
        "id": "xt2m2UdYJy-x"
      },
      "outputs": [],
      "source": [
        "_ = sns.scatterplot(x=x, y=y)"
      ]
    },
    {
      "cell_type": "markdown",
      "metadata": {
        "id": "_JFRDiSHJy-x"
      },
      "source": [
        "Consider fitting a line to points on a **Cartesian plane** (2-D surface, with $y$-axis perpendicular to horizontal $x$-axis). To fit such a line, the only parameters we require are a $y$-intercept (say, $\\beta_0$) and a slope (say, $\\beta_1$): \n",
        "\n",
        "$$ y = \\beta_0 + \\beta_1 x $$\n",
        "\n",
        "This corresponds to the case where we have a single feature (a single predictor variable, $x$) in a regression model: \n",
        "\n",
        "$$ y = \\beta_0 + \\beta_1 x + \\epsilon $$\n",
        "\n",
        "The $\\epsilon$ term denotes **error**. For a given instance $i$, $\\epsilon_i$ is a measure of the difference between the true $y_i$ and the model's estimate, $\\hat{y}_i$. If the model predicts $y_i$ perfectly, then $\\epsilon_i = 0$. \n",
        "\n",
        "Our objective is to find the parameters $\\beta_0$ and $\\beta_1$ that minimize $\\epsilon$ across all the available data points. \n",
        "\n",
        "(Note that sepal length may not be an ideal example of a predictor variable, but these iris data are conveniently available at this stage of the notebook.)"
      ]
    },
    {
      "cell_type": "markdown",
      "metadata": {
        "id": "9O_ZEib_Jy-x"
      },
      "source": [
        "In the case of a model with a single predictor $x$, there is a fairly straightforward **linear least squares** formula we can use to estimate $\\beta_1$: \n",
        "$$ \\hat{\\beta}_1 = \\frac{\\text{cov}(x,y)}{\\sigma^2_x} $$"
      ]
    },
    {
      "cell_type": "markdown",
      "metadata": {
        "id": "USupBWpjJy-x"
      },
      "source": [
        "(We'll dig further into the \"least squares\" concept in the next section, for now we can think of it as minimizing the squared error $(\\hat{y}_i - y_i)^2$, which we isolate from $\\text{cov}(x,y)$ via division by $\\sigma^2_x$)"
      ]
    },
    {
      "cell_type": "code",
      "execution_count": null,
      "metadata": {
        "id": "wE0qSO0LJy-x"
      },
      "outputs": [],
      "source": [
        "cov"
      ]
    },
    {
      "cell_type": "code",
      "execution_count": null,
      "metadata": {
        "id": "lkpIm5ZeJy-y"
      },
      "outputs": [],
      "source": [
        "beta1 = cov/np.var(x) \n",
        "beta1"
      ]
    },
    {
      "cell_type": "markdown",
      "metadata": {
        "id": "HiC4PvwPJy-y"
      },
      "source": [
        "With $\\hat{\\beta}_1$ in hand, we can then rearrange the line equation ($y = \\beta_0 + \\beta_1 x$) to estimate $\\beta_0$:\n",
        "$$ \\hat{\\beta}_0 = \\bar{y} - \\hat{\\beta}_1 \\bar{x} $$"
      ]
    },
    {
      "cell_type": "code",
      "execution_count": null,
      "metadata": {
        "id": "DMo0_f7DJy-y"
      },
      "outputs": [],
      "source": [
        "beta0 = ybar - beta1*xbar \n",
        "beta0"
      ]
    },
    {
      "cell_type": "code",
      "execution_count": null,
      "metadata": {
        "id": "3j9GFB4OJy-y"
      },
      "outputs": [],
      "source": [
        "xline = np.linspace(4, 8, 1000)\n",
        "yline = beta0 + beta1*xline"
      ]
    },
    {
      "cell_type": "code",
      "execution_count": null,
      "metadata": {
        "id": "1x-YTnpHJy-y"
      },
      "outputs": [],
      "source": [
        "sns.scatterplot(x=x, y=y)\n",
        "_ = plt.plot(xline, yline, color='orange')"
      ]
    },
    {
      "cell_type": "markdown",
      "metadata": {
        "id": "8XzKSflaJy-y"
      },
      "source": [
        "In regression model terms, if we were provided with an sepal length $x_i$ we could now use the parameter estimates $\\hat{\\beta}_0$ and $\\hat{\\beta}_1$ to predict the petal length of an iris:\n",
        "$$ \\hat{y}_i = \\hat{\\beta}_0 + \\hat{\\beta}_1 x_i $$"
      ]
    },
    {
      "cell_type": "markdown",
      "metadata": {
        "id": "lFOcI346Jy-z"
      },
      "source": [
        "For instance, our model predicts that an iris with a 5.5cm-long sepal would have 3.1cm-long petal: "
      ]
    },
    {
      "cell_type": "code",
      "execution_count": null,
      "metadata": {
        "id": "hnFtPTnHJy-z"
      },
      "outputs": [],
      "source": [
        "x_i = 5.5"
      ]
    },
    {
      "cell_type": "code",
      "execution_count": null,
      "metadata": {
        "id": "5eUHYRQnJy-z"
      },
      "outputs": [],
      "source": [
        "y_i = beta0 + beta1*x_i\n",
        "y_i"
      ]
    },
    {
      "cell_type": "code",
      "execution_count": null,
      "metadata": {
        "id": "7EdyXhVPJy-z"
      },
      "outputs": [],
      "source": [
        "sns.scatterplot(x=x, y=y)\n",
        "plt.plot(xline, yline, color='orange')\n",
        "_ = plt.scatter(x_i, y_i, marker='o', color='purple')"
      ]
    },
    {
      "cell_type": "markdown",
      "metadata": {
        "id": "HrSoRDT1Jy-z"
      },
      "source": [
        "As a second example, using the same simulated \"Alzheimer's drug\" data as the [*Regression in PyTorch* notebook](https://github.com/jonkrohn/ML-foundations/blob/master/notebooks/regression-in-pytorch.ipynb) and several others in the *ML Foundations* series: "
      ]
    },
    {
      "cell_type": "code",
      "execution_count": null,
      "metadata": {
        "id": "t6H35qYXJy-z"
      },
      "outputs": [],
      "source": [
        "x = np.array([0, 1, 2, 3, 4, 5, 6, 7.])\n",
        "y = np.array([1.86, 1.31, .62, .33, .09, -.67, -1.23, -1.37])"
      ]
    },
    {
      "cell_type": "code",
      "execution_count": null,
      "metadata": {
        "id": "uhPksXevJy-z"
      },
      "outputs": [],
      "source": [
        "sns.scatterplot(x=x, y=y)\n",
        "plt.title(\"Clinical Trial\")\n",
        "plt.xlabel(\"Drug dosage (mL)\")\n",
        "_ = plt.ylabel(\"Forgetfulness\")"
      ]
    },
    {
      "cell_type": "code",
      "execution_count": null,
      "metadata": {
        "id": "wlJ8-81iJy-z"
      },
      "outputs": [],
      "source": [
        "cov_mat = np.cov(x, y)\n",
        "cov_mat"
      ]
    },
    {
      "cell_type": "code",
      "execution_count": null,
      "metadata": {
        "id": "cVIviYSUJy-0"
      },
      "outputs": [],
      "source": [
        "beta1 = cov_mat[0,1]/cov_mat[0,0]\n",
        "beta1"
      ]
    },
    {
      "cell_type": "code",
      "execution_count": null,
      "metadata": {
        "id": "YrQUCrxkJy-0"
      },
      "outputs": [],
      "source": [
        "beta0 = y.mean() - beta1*x.mean()\n",
        "beta0"
      ]
    },
    {
      "cell_type": "code",
      "execution_count": null,
      "metadata": {
        "id": "h2WTwF-mJy-0"
      },
      "outputs": [],
      "source": [
        "xline = np.linspace(0, 7, 1000)\n",
        "yline = beta0 + beta1*xline"
      ]
    },
    {
      "cell_type": "markdown",
      "metadata": {
        "id": "XMx4vEgxJy-0"
      },
      "source": [
        "By administering 4.5mL of the drug, our model predicts a forgetfulness score of -0.35:"
      ]
    },
    {
      "cell_type": "code",
      "execution_count": null,
      "metadata": {
        "id": "_OoPnTyaJy-1"
      },
      "outputs": [],
      "source": [
        "x_i = 4.5"
      ]
    },
    {
      "cell_type": "code",
      "execution_count": null,
      "metadata": {
        "id": "DvFBImXcJy-1"
      },
      "outputs": [],
      "source": [
        "y_i = beta0 + beta1*x_i\n",
        "y_i"
      ]
    },
    {
      "cell_type": "code",
      "execution_count": null,
      "metadata": {
        "id": "8_e_U2jiJy-1"
      },
      "outputs": [],
      "source": [
        "sns.scatterplot(x=x, y=y)\n",
        "plt.title(\"Clinical Trial\")\n",
        "plt.xlabel(\"Drug dosage (mL)\")\n",
        "plt.ylabel(\"Forgetfulness\")\n",
        "plt.plot(xline, yline, color='orange')\n",
        "_ = plt.scatter(x_i, y_i, marker='o', color='purple')"
      ]
    },
    {
      "cell_type": "markdown",
      "metadata": {
        "id": "UoSetfajJy-2"
      },
      "source": [
        "**Exercise**: With data from female Adélie penguins, create a linear least squares model that predicts body mass with flipper length. Predict the mass of a female Adélie penguin that has a flipper length of 197mm."
      ]
    },
    {
      "cell_type": "code",
      "execution_count": null,
      "metadata": {
        "id": "bAHMnL66lFqC"
      },
      "outputs": [],
      "source": [
        "adelie.head()"
      ]
    },
    {
      "cell_type": "code",
      "execution_count": null,
      "metadata": {
        "id": "ez3YcuanhuHI"
      },
      "outputs": [],
      "source": [
        "x = adelie[adelie.sex == 'Female']['flipper_length_mm'].to_numpy()\n",
        "y = adelie[adelie.sex == 'Female']['body_mass_g'].to_numpy()/1000"
      ]
    },
    {
      "cell_type": "code",
      "execution_count": null,
      "metadata": {
        "id": "U7piwPvujy_S"
      },
      "outputs": [],
      "source": [
        "_ = sns.scatterplot(x=x, y=y)"
      ]
    },
    {
      "cell_type": "code",
      "execution_count": null,
      "metadata": {
        "id": "gqUW4gVailR5"
      },
      "outputs": [],
      "source": [
        "cov_mat = np.cov(x, y)\n",
        "cov_mat"
      ]
    },
    {
      "cell_type": "code",
      "execution_count": null,
      "metadata": {
        "id": "UyX0jsOVjD6V"
      },
      "outputs": [],
      "source": [
        "beta1 = cov_mat[0,1]/cov_mat[0,0]\n",
        "beta1"
      ]
    },
    {
      "cell_type": "code",
      "execution_count": null,
      "metadata": {
        "id": "0JO7HmUgjEYd"
      },
      "outputs": [],
      "source": [
        "beta0 = y.mean() - beta1*x.mean()\n",
        "beta0"
      ]
    },
    {
      "cell_type": "code",
      "execution_count": null,
      "metadata": {
        "id": "o2ZfBlXUnFrL"
      },
      "outputs": [],
      "source": [
        "x_i = 197"
      ]
    },
    {
      "cell_type": "code",
      "execution_count": null,
      "metadata": {
        "id": "iOEfmJ7Um9Zz"
      },
      "outputs": [],
      "source": [
        "y_i = beta0 + beta1*x_i\n",
        "y_i"
      ]
    },
    {
      "cell_type": "code",
      "execution_count": null,
      "metadata": {
        "id": "QuGxsnomjHau"
      },
      "outputs": [],
      "source": [
        "xline = np.linspace(170, 205, 1000)\n",
        "yline = beta0 + beta1*xline"
      ]
    },
    {
      "cell_type": "code",
      "execution_count": null,
      "metadata": {
        "id": "6_muUi5rkCoM"
      },
      "outputs": [],
      "source": [
        "sns.scatterplot(x=x, y=y)\n",
        "plt.title(\"Female Adélie Penguins\")\n",
        "plt.xlabel(\"Flipper Length (mm)\")\n",
        "plt.ylabel(\"Body Mass (kg)\")\n",
        "plt.plot(xline, yline, color='orange')\n",
        "_ = plt.scatter(x_i, y_i, marker='o', color='purple')"
      ]
    },
    {
      "cell_type": "markdown",
      "metadata": {
        "id": "ovzVhcUEJy-2"
      },
      "source": [
        "### Ordinary Least Squares"
      ]
    },
    {
      "cell_type": "markdown",
      "metadata": {
        "id": "_zqiEXPQJy-2"
      },
      "source": [
        "**Ordinary least squares** (OLS) is a linear least squares method we can use to estimate the parameters of regression models that have more than one predictor variable, e.g.: \n",
        "\n",
        "$$ y = \\beta_0 + \\beta_1 x_1 + \\beta_2 x_2 + \\beta_3 x_3 + \\epsilon $$"
      ]
    },
    {
      "cell_type": "markdown",
      "metadata": {
        "id": "QOD7BK_LJy-2"
      },
      "source": [
        "Generalizing to $m$ predictors: \n",
        "$$ y = \\beta_0 + \\sum_{j=1}^m \\beta_j x_j + \\epsilon $$"
      ]
    },
    {
      "cell_type": "markdown",
      "metadata": {
        "id": "fMFhZs13Jy-2"
      },
      "source": [
        "To keep the calculations as simple as possible, however, for now we'll stick with a single predictor $x$ (in an example adapted from [here](https://en.wikipedia.org/wiki/Linear_least_squares#Example)):"
      ]
    },
    {
      "cell_type": "code",
      "execution_count": null,
      "metadata": {
        "id": "goSmSa_9Jy-2"
      },
      "outputs": [],
      "source": [
        "x = np.array([1, 2, 3, 4.])\n",
        "y = np.array([6, 5, 7, 10.])"
      ]
    },
    {
      "cell_type": "code",
      "execution_count": null,
      "metadata": {
        "id": "YvHavKI0Jy-2"
      },
      "outputs": [],
      "source": [
        "sns.set_style('whitegrid')"
      ]
    },
    {
      "cell_type": "code",
      "execution_count": null,
      "metadata": {
        "id": "w66cj3ubJy-3"
      },
      "outputs": [],
      "source": [
        "fig, ax = plt.subplots()\n",
        "plt.title('Generative Adversarial Network')\n",
        "plt.xlabel('Number of convolutional layers')\n",
        "plt.ylabel('Image realism (out of 10)')\n",
        "_ = ax.scatter(x, y)"
      ]
    },
    {
      "cell_type": "markdown",
      "metadata": {
        "id": "8xd-0t1kJy-3"
      },
      "source": [
        "As is typical in regression model-fitting, we have an *overdetermined* system of linear algebra equations. From the general regression equation $y = \\beta_0 + \\beta_1 x$, we have four equations (one for each instance $i$) with the two unknown parameters $\\beta_0$ and $\\beta_1$ shared across the system. \n",
        "$$ 6 = \\beta_0 + \\beta_1 $$\n",
        "$$ 5 = \\beta_0 + 2\\beta_1 $$\n",
        "$$ 7 = \\beta_0 + 3\\beta_1 $$\n",
        "$$ 10 = \\beta_0 + 4\\beta_1 $$"
      ]
    },
    {
      "cell_type": "markdown",
      "metadata": {
        "id": "SNsq_lXgJy-3"
      },
      "source": [
        "Since we have more equations than unknowns, we can't solve for the parameters through algebraic rearraging. We can, however, estimate parameters that approximately solve all of the equations with the *Moore-Penrose Pseudoinverse* (from [*Linear Algebra II*](https://github.com/jonkrohn/ML-foundations/blob/master/notebooks/2-linear-algebra-ii.ipynb)) or we could use partial-derivative calculus as we'll use here. Either way, with the OLS approach, our objective is to minimize the \"sum of squared errors\" (SSE). \n",
        "\n",
        "The squared error (a.k.a. quadratic cost, from *Calc II*) for a given instance $i$ is $(\\hat{y}_i-y_i)^2$.\n",
        "\n",
        "The SSE over $n$ instances is then: \n",
        "$$ \\sum_{i=1}^n (\\hat{y}_i-y_i)^2 $$"
      ]
    },
    {
      "cell_type": "markdown",
      "metadata": {
        "id": "uMaYVHomJy-3"
      },
      "source": [
        "In this case, where $\\hat{y}_i = \\beta_0 + \\beta_1 x_i$, we can define the SSE function as: \n",
        "$$ S(\\beta_0, \\beta_1) = \\sum_{i=1}^n (\\beta_0 + \\beta_1 x_i - y_i)^2 $$"
      ]
    },
    {
      "cell_type": "markdown",
      "metadata": {
        "id": "qHsXGivGJy-3"
      },
      "source": [
        "Expanding the summation out over the four instances of $i$: \n",
        "$$ S(\\beta_0, \\beta_1) = [\\beta_0 + \\beta_1 - 6]^2 + [\\beta_0 + 2\\beta_1 - 5]^2 + [\\beta_0 + 3\\beta_1 - 7]^2 + [\\beta_0 + 4\\beta_1 - 10]^2 $$"
      ]
    },
    {
      "cell_type": "markdown",
      "metadata": {
        "id": "TjIdKW_FJy-3"
      },
      "source": [
        "Then (rather laboriously) expanding out the squares and simplifying the result by combining like terms: \n",
        "$$ S(\\beta_0, \\beta_1) = 4\\beta_0^2 + 30\\beta_1^2 + 20\\beta_0\\beta_1 - 56\\beta_0 - 154\\beta_1 + 210 $$"
      ]
    },
    {
      "cell_type": "markdown",
      "metadata": {
        "id": "LlPdU9UkJy-3"
      },
      "source": [
        "To minimize SSE, we can now use partial derivatives. Specifically, to find where there is no slope of $S(\\beta_0, \\beta_1)$ with respect to $\\beta_0$: \n",
        "$$ \\frac{\\partial S}{\\partial \\beta_0} = 8\\beta_0 + 20\\beta_1 - 56 = 0 $$\n",
        "...and $\\beta_1$: \n",
        "$$ \\frac{\\partial S}{\\partial \\beta_1} = 20\\beta_0 + 60\\beta_1 - 154 = 0 $$"
      ]
    },
    {
      "cell_type": "markdown",
      "metadata": {
        "id": "DYE-egdwJy-3"
      },
      "source": [
        "Rearranging, we obtain a system of two linear equations called the **normal equations** (however many parameters are in the model is how many rows of equations we'll have in the system): \n",
        "$$ 8\\beta_0 + 20\\beta_1 = 56 $$\n",
        "$$ 20\\beta_0 + 60\\beta_1 = 154 $$"
      ]
    },
    {
      "cell_type": "markdown",
      "metadata": {
        "id": "xMP0yOeTJy-4"
      },
      "source": [
        "A handy numerical approach for solving for $\\beta_0$ and $\\beta_1$ is matrix inversion (which we covered in detail toward the end of the [*Intro to Linear Algebra* notebook](https://github.com/jonkrohn/ML-foundations/blob/master/notebooks/1-intro-to-linear-algebra.ipynb))."
      ]
    },
    {
      "cell_type": "markdown",
      "metadata": {
        "id": "HuKZjs-qJy-4"
      },
      "source": [
        "To avoid confusion with with the broader $x$ (number of GAN conv layers) and $y$ variables (image realism), let's use $A$ for the matrix of \"inputs\" and $z$ for the vector of \"outputs\", with the vector $w$ containing the unknown weights $\\beta_0$ and $\\beta_1$:\n",
        "$$ Aw = z $$"
      ]
    },
    {
      "cell_type": "code",
      "execution_count": null,
      "metadata": {
        "id": "tIz8upBlJy-4"
      },
      "outputs": [],
      "source": [
        "A = np.array([[8, 20],[20, 60]])\n",
        "A"
      ]
    },
    {
      "cell_type": "code",
      "execution_count": null,
      "metadata": {
        "id": "JnFoYiYWJy-4"
      },
      "outputs": [],
      "source": [
        "z = np.array([56, 154])"
      ]
    },
    {
      "cell_type": "markdown",
      "metadata": {
        "id": "Z0TDmki1Jy-4"
      },
      "source": [
        "To solve for $w$, we can invert $A$ (assuming $A$ is not singular; i.e., all of its columns are independent): \n",
        "$$ w = A^{-1}z $$"
      ]
    },
    {
      "cell_type": "code",
      "execution_count": null,
      "metadata": {
        "id": "vmCLVztvJy-4"
      },
      "outputs": [],
      "source": [
        "Ainv = np.linalg.inv(A)\n",
        "Ainv"
      ]
    },
    {
      "cell_type": "code",
      "execution_count": null,
      "metadata": {
        "id": "QamyfcqrJy-4"
      },
      "outputs": [],
      "source": [
        "w = np.dot(Ainv, z)\n",
        "w"
      ]
    },
    {
      "cell_type": "markdown",
      "metadata": {
        "id": "RSIHQkHFJy-4"
      },
      "source": [
        "Thus, the line that minimizes the squared error across all four equations has the parameters $\\hat{\\beta}_0 = 3.5$ and $\\hat{\\beta}_1 = 1.4$: \n",
        "$$ \\hat{y} = 3.5 + 1.4 x $$"
      ]
    },
    {
      "cell_type": "code",
      "execution_count": null,
      "metadata": {
        "id": "YPGKHyu4Jy-5"
      },
      "outputs": [],
      "source": [
        "xline = np.linspace(1, 4, 1000)\n",
        "yline = w[0] + w[1]*xline"
      ]
    },
    {
      "cell_type": "code",
      "execution_count": null,
      "metadata": {
        "id": "n3eNzrtrJy-5"
      },
      "outputs": [],
      "source": [
        "fig, ax = plt.subplots()\n",
        "plt.title('Generative Adversarial Network')\n",
        "plt.xlabel('Number of convolutional layers')\n",
        "plt.ylabel('Image realism (out of 10)')\n",
        "ax.scatter(x, y)\n",
        "_ = plt.plot(xline, yline, color='orange')"
      ]
    },
    {
      "cell_type": "markdown",
      "metadata": {
        "id": "d8fh1DK2Jy-5"
      },
      "source": [
        "For fun, following the linear algebra in the slides, we could output $\\hat{y}$ across all the instances $i$: \n",
        "$$ \\hat{y} = Xw $$"
      ]
    },
    {
      "cell_type": "code",
      "execution_count": null,
      "metadata": {
        "id": "ruJ9QffyJy-5"
      },
      "outputs": [],
      "source": [
        "X = np.concatenate([np.matrix(np.ones(x.size)).T, np.matrix(x).T], axis=1)\n",
        "X"
      ]
    },
    {
      "cell_type": "code",
      "execution_count": null,
      "metadata": {
        "id": "AAXfIJwOJy-5"
      },
      "outputs": [],
      "source": [
        "yhat = np.dot(X, w)\n",
        "yhat"
      ]
    },
    {
      "cell_type": "markdown",
      "metadata": {
        "id": "sI70M7PlJy-5"
      },
      "source": [
        "Incidentally, **residuals** are the distances between $\\hat{y}_i$ and $y_i$:"
      ]
    },
    {
      "cell_type": "code",
      "execution_count": null,
      "metadata": {
        "id": "9uRTgp4eJy-7"
      },
      "outputs": [],
      "source": [
        "fig, ax = plt.subplots()\n",
        "plt.title('Generative Adversarial Network')\n",
        "plt.xlabel('Number of convolutional layers')\n",
        "plt.ylabel('Image realism (out of 10)')\n",
        "ax.scatter(x, y)\n",
        "_ = plt.plot(xline, yline, color='orange')\n",
        "for i in range(x.size):\n",
        "    plt.plot([x[i],x[i]], [y[i],yhat[0,i]], color='darkred')"
      ]
    },
    {
      "cell_type": "markdown",
      "metadata": {
        "id": "1QqPBtCGJy-8"
      },
      "source": [
        "The square of these residuals is what we minimize with SSE in OLS regression."
      ]
    },
    {
      "cell_type": "markdown",
      "metadata": {
        "id": "KqnQ9EMWJy-8"
      },
      "source": [
        "The above OLS approach expands to a wide variety of circumstances: \n",
        "\n",
        "* Multiple features ($x$, the predictors)\n",
        "* Polynomial (typically quadratic) features, e.g., $y = \\beta_0 + \\beta_1 x + \\beta_2 x^2$\n",
        "* Interacting features, e.g., $y = \\beta_0 + \\beta_1 x_1 + \\beta_2 x_2 + \\beta_3 x_1 x_2$\n",
        "* Discrete, categorical features, incl. any combination of continuous and discrete features"
      ]
    },
    {
      "cell_type": "markdown",
      "metadata": {
        "id": "qqEd00gvJy-8"
      },
      "source": [
        "As an example of the latter..."
      ]
    },
    {
      "cell_type": "code",
      "execution_count": null,
      "metadata": {
        "id": "6ctHcVDXJy-8"
      },
      "outputs": [],
      "source": [
        "iris"
      ]
    },
    {
      "cell_type": "code",
      "execution_count": null,
      "metadata": {
        "id": "TXE21UwBJy-8"
      },
      "outputs": [],
      "source": [
        "sns.set_style('darkgrid')"
      ]
    },
    {
      "cell_type": "code",
      "execution_count": null,
      "metadata": {
        "id": "dAasq6klJy-9"
      },
      "outputs": [],
      "source": [
        "_ = sns.scatterplot(x='sepal_length', y='petal_length', hue='species', data=iris)"
      ]
    },
    {
      "cell_type": "code",
      "execution_count": null,
      "metadata": {
        "id": "rWjIb0itJy-9"
      },
      "outputs": [],
      "source": [
        "import pandas as pd"
      ]
    },
    {
      "cell_type": "code",
      "execution_count": null,
      "metadata": {
        "id": "7cBvXBE0Jy-9"
      },
      "outputs": [],
      "source": [
        "dummy = pd.get_dummies(iris.species)\n",
        "dummy"
      ]
    },
    {
      "cell_type": "code",
      "execution_count": null,
      "metadata": {
        "id": "JTobklLmJy-9"
      },
      "outputs": [],
      "source": [
        "y = iris.petal_length"
      ]
    },
    {
      "cell_type": "code",
      "execution_count": null,
      "metadata": {
        "id": "vrBsPaVmJy-9"
      },
      "outputs": [],
      "source": [
        "X = pd.concat([iris.sepal_length, dummy.setosa, dummy.versicolor], axis=1)\n",
        "X # virginia as \"baseline\" where setosa and versicolor are both 0"
      ]
    },
    {
      "cell_type": "code",
      "execution_count": null,
      "metadata": {
        "id": "0_7DhYr4Jy-9"
      },
      "outputs": [],
      "source": [
        "import statsmodels.api as sm"
      ]
    },
    {
      "cell_type": "code",
      "execution_count": null,
      "metadata": {
        "id": "9PPA9mCEJy--"
      },
      "outputs": [],
      "source": [
        "X = sm.add_constant(X)\n",
        "X"
      ]
    },
    {
      "cell_type": "code",
      "execution_count": null,
      "metadata": {
        "id": "6wQJy4T3Jy--"
      },
      "outputs": [],
      "source": [
        "model = sm.OLS(y, X)"
      ]
    },
    {
      "cell_type": "code",
      "execution_count": null,
      "metadata": {
        "id": "Cbl_mTucJy--"
      },
      "outputs": [],
      "source": [
        "result = model.fit()"
      ]
    },
    {
      "cell_type": "code",
      "execution_count": null,
      "metadata": {
        "id": "Q3Gu75QLJy--"
      },
      "outputs": [],
      "source": [
        "result.summary()"
      ]
    },
    {
      "cell_type": "markdown",
      "metadata": {
        "id": "65lhtfF3Jy-_"
      },
      "source": [
        "Our earlier iris model, with sepal length as the only predictor of petal length, had $r^2 = 0.76$. In our latest iris model, a whopping 97% of the variance in petal length is explained by the predictors."
      ]
    },
    {
      "cell_type": "code",
      "execution_count": null,
      "metadata": {
        "id": "V3DZ86qDJy-_"
      },
      "outputs": [],
      "source": [
        "beta = result.params\n",
        "beta"
      ]
    },
    {
      "cell_type": "code",
      "execution_count": null,
      "metadata": {
        "id": "n6oYpVuLJy-_"
      },
      "outputs": [],
      "source": [
        "xline = np.linspace(4, 8, 1000)\n",
        "vi_yline = beta[0] + beta[1]*xline\n",
        "se_yline = beta[0] + beta[1]*xline + beta[2]\n",
        "ve_yline = beta[0] + beta[1]*xline + beta[3]"
      ]
    },
    {
      "cell_type": "code",
      "execution_count": null,
      "metadata": {
        "id": "v9Pyh6ZLJy-_"
      },
      "outputs": [],
      "source": [
        "sns.scatterplot(x='sepal_length', y='petal_length', hue='species', data=iris)\n",
        "plt.plot(xline, vi_yline, color='darkgreen')\n",
        "plt.plot(xline, se_yline, color='darkblue')\n",
        "_ = plt.plot(xline, ve_yline, color='orange')"
      ]
    },
    {
      "cell_type": "markdown",
      "metadata": {
        "id": "70JLOJ5dJy-_"
      },
      "source": [
        "Now using our refined model, such that it predicts the petal length of a *versicolor* iris with a 5.5cm-long sepal: "
      ]
    },
    {
      "cell_type": "code",
      "execution_count": null,
      "metadata": {
        "id": "UL28fMYsJy-_"
      },
      "outputs": [],
      "source": [
        "x_sepall_i = 5.5\n",
        "x_setosa_i = 0\n",
        "x_versic_i = 1"
      ]
    },
    {
      "cell_type": "code",
      "execution_count": null,
      "metadata": {
        "id": "LA471NSkJy-_"
      },
      "outputs": [],
      "source": [
        "y_i = beta[0] + beta[1]*x_sepall_i + beta[2]*x_setosa_i + beta[3]*x_versic_i"
      ]
    },
    {
      "cell_type": "code",
      "execution_count": null,
      "metadata": {
        "id": "v4tvO0dX5vJS"
      },
      "outputs": [],
      "source": [
        "y_i"
      ]
    },
    {
      "cell_type": "code",
      "execution_count": null,
      "metadata": {
        "id": "kL34o98tJy_A"
      },
      "outputs": [],
      "source": [
        "sns.scatterplot(x='sepal_length', y='petal_length', hue='species', data=iris)\n",
        "plt.plot(xline, vi_yline, color='darkgreen')\n",
        "plt.plot(xline, se_yline, color='darkblue')\n",
        "plt.plot(xline, ve_yline, color='orange')\n",
        "_ = plt.scatter(x_sepall_i, y_i, marker='o', color='purple')"
      ]
    },
    {
      "cell_type": "markdown",
      "metadata": {
        "id": "i6t754nuJy_A"
      },
      "source": [
        "...or a *virginica* with a sepal of the same length: "
      ]
    },
    {
      "cell_type": "code",
      "execution_count": null,
      "metadata": {
        "id": "XXoMSuKQJy_A"
      },
      "outputs": [],
      "source": [
        "x_sepall_i = 5.5\n",
        "x_setosa_i = 0\n",
        "x_versic_i = 0 # the only change"
      ]
    },
    {
      "cell_type": "code",
      "execution_count": null,
      "metadata": {
        "id": "XKOTdNLnJy_A"
      },
      "outputs": [],
      "source": [
        "x_i = np.array([1, x_sepall_i, x_versic_i, x_versic_i])"
      ]
    },
    {
      "cell_type": "code",
      "execution_count": null,
      "metadata": {
        "id": "XaovpnHbJy_A"
      },
      "outputs": [],
      "source": [
        "y_i = np.dot(beta, x_i)"
      ]
    },
    {
      "cell_type": "code",
      "execution_count": null,
      "metadata": {
        "id": "04xK7r0IJy_A"
      },
      "outputs": [],
      "source": [
        "sns.scatterplot(x='sepal_length', y='petal_length', hue='species', data=iris)\n",
        "plt.plot(xline, vi_yline, color='darkgreen')\n",
        "plt.plot(xline, se_yline, color='darkblue')\n",
        "plt.plot(xline, ve_yline, color='orange')\n",
        "_ = plt.scatter(x_i[1], y_i, marker='o', color='purple')"
      ]
    },
    {
      "cell_type": "markdown",
      "metadata": {
        "id": "IJQ6gCplJy_A"
      },
      "source": [
        "(It is also possible to have the slope vary by categorical variable, not only the $y$-intercept. This is a *hierarchical linear model* and the classic text on it is [Gelman & Hill (2006)](https://amzn.to/3hoOevb).)"
      ]
    },
    {
      "cell_type": "markdown",
      "metadata": {
        "id": "YJS7SoqaJy_A"
      },
      "source": [
        "**Exercise**: \n",
        "Download the Boston dataset (process is immediately below) and use the statsmodels `OLS()` method to create a model that uses at least a few of the provided features to predict house price. "
      ]
    },
    {
      "cell_type": "code",
      "execution_count": null,
      "metadata": {
        "id": "74_NxZGHJy_A"
      },
      "outputs": [],
      "source": [
        "from sklearn.datasets import load_boston"
      ]
    },
    {
      "cell_type": "code",
      "execution_count": null,
      "metadata": {
        "id": "_Q7AZyDLJy_B"
      },
      "outputs": [],
      "source": [
        "boston = load_boston()"
      ]
    },
    {
      "cell_type": "code",
      "execution_count": null,
      "metadata": {
        "id": "9km3mWx_Jy_B"
      },
      "outputs": [],
      "source": [
        "# Median house price in a given neighborhood in $1000s (in the 1970s in Boston, MA): \n",
        "y = boston.target \n",
        "y[0:20]"
      ]
    },
    {
      "cell_type": "code",
      "execution_count": null,
      "metadata": {
        "id": "C9KctbIHJy_B"
      },
      "outputs": [],
      "source": [
        "X = pd.DataFrame(boston.data)\n",
        "X.columns = boston.feature_names\n",
        "X # See variable descriptions at http://lib.stat.cmu.edu/datasets/boston"
      ]
    },
    {
      "cell_type": "code",
      "execution_count": null,
      "metadata": {
        "id": "vYbThtC1Jy_B"
      },
      "outputs": [],
      "source": []
    },
    {
      "cell_type": "code",
      "execution_count": null,
      "metadata": {
        "id": "u8dPMu4YJy_B"
      },
      "outputs": [],
      "source": []
    },
    {
      "cell_type": "code",
      "execution_count": null,
      "metadata": {
        "id": "J3LWG7aQJy_B"
      },
      "outputs": [],
      "source": []
    },
    {
      "cell_type": "markdown",
      "metadata": {
        "id": "jNC_ielmJy_B"
      },
      "source": [
        "### Logistic Regression"
      ]
    },
    {
      "cell_type": "markdown",
      "metadata": {
        "id": "nkdiAGZkJy_B"
      },
      "source": [
        "Reasonably often we'd like to have a regression model that predicts a binary outcome (e.g., identifying if a fast-food item is a hot dog or not a hot dog). This can be accomplished with **logistic regression**, which adapts linear regression by including the *logit* function: \n",
        "$$ x = \\text{log}(\\frac{p}{1-p}) $$\n",
        "This function uses the natural logarithm and maps a binary probability $p$ (which can only range from zero to one) to an unbounded range ($-\\infty$ to $\\infty$)."
      ]
    },
    {
      "cell_type": "code",
      "execution_count": null,
      "metadata": {
        "id": "1QHfbdr9Jy_B"
      },
      "outputs": [],
      "source": [
        "def logit(my_p): # this is also available as scipy.special.logit()\n",
        "    return np.log(my_p/(1-my_p))"
      ]
    },
    {
      "cell_type": "code",
      "execution_count": null,
      "metadata": {
        "id": "FylSgRYKJy_C"
      },
      "outputs": [],
      "source": [
        "logit(0.5)"
      ]
    },
    {
      "cell_type": "code",
      "execution_count": null,
      "metadata": {
        "id": "GUXecvBTJy_C"
      },
      "outputs": [],
      "source": [
        "logit(0.1) "
      ]
    },
    {
      "cell_type": "code",
      "execution_count": null,
      "metadata": {
        "id": "IIHMqIIlJy_C"
      },
      "outputs": [],
      "source": [
        "logit(0.01) # closer to zero approaches negative infinity"
      ]
    },
    {
      "cell_type": "code",
      "execution_count": null,
      "metadata": {
        "id": "mgGSPPqrJy_C"
      },
      "outputs": [],
      "source": [
        "logit(0.99) # closer to one approaches positive infinity"
      ]
    },
    {
      "cell_type": "markdown",
      "metadata": {
        "id": "BIEdZbLCJy_C"
      },
      "source": [
        "More specifically, logistic regression makes use of the *expit* function (a.k.a., logistic function), which is the inverse of the logit. That is, it returns a probability $p$ when passed some unbounded input $x$: \n",
        "$$ p = \\frac{1}{1+e^{-x}} $$"
      ]
    },
    {
      "cell_type": "code",
      "execution_count": null,
      "metadata": {
        "id": "fP3ZQh6bJy_C"
      },
      "outputs": [],
      "source": [
        "def expit(my_x): # this is also available as scipy.special.expit()\n",
        "    return 1/(1+np.exp(-my_x))"
      ]
    },
    {
      "cell_type": "code",
      "execution_count": null,
      "metadata": {
        "id": "kF34B4WIJy_C"
      },
      "outputs": [],
      "source": [
        "expit(4.59512)"
      ]
    },
    {
      "cell_type": "markdown",
      "metadata": {
        "id": "OSiGgXvKJy_C"
      },
      "source": [
        "This logistic function allows us to map the unbounded output of a linear regression model to a probability ranging from zero to one."
      ]
    },
    {
      "cell_type": "markdown",
      "metadata": {
        "id": "oR9WuLJ3Jy_D"
      },
      "source": [
        "Let's dig right into a hands-on example: "
      ]
    },
    {
      "cell_type": "code",
      "execution_count": null,
      "metadata": {
        "id": "FZMvYipCJy_D"
      },
      "outputs": [],
      "source": [
        "titanic = sns.load_dataset('titanic')"
      ]
    },
    {
      "cell_type": "code",
      "execution_count": null,
      "metadata": {
        "id": "UplF90zYJy_D"
      },
      "outputs": [],
      "source": [
        "titanic"
      ]
    },
    {
      "cell_type": "code",
      "execution_count": null,
      "metadata": {
        "id": "ZLeqmztuJy_D"
      },
      "outputs": [],
      "source": [
        "np.unique(titanic['survived'], return_counts=True)"
      ]
    },
    {
      "cell_type": "code",
      "execution_count": null,
      "metadata": {
        "id": "8UyZ-7wvJy_D"
      },
      "outputs": [],
      "source": [
        "np.unique(titanic['sex'], return_counts=True)"
      ]
    },
    {
      "cell_type": "code",
      "execution_count": null,
      "metadata": {
        "id": "qyg_zJ5aJy_D"
      },
      "outputs": [],
      "source": [
        "np.unique(titanic['class'], return_counts=True)"
      ]
    },
    {
      "cell_type": "code",
      "execution_count": null,
      "metadata": {
        "id": "-0ghxWLaJy_D"
      },
      "outputs": [],
      "source": [
        "_ = sns.displot(titanic['age'], kde=True)"
      ]
    },
    {
      "cell_type": "code",
      "execution_count": null,
      "metadata": {
        "id": "5o89M9q1Jy_E"
      },
      "outputs": [],
      "source": [
        "gender = pd.get_dummies(titanic['sex'])\n",
        "gender"
      ]
    },
    {
      "cell_type": "code",
      "execution_count": null,
      "metadata": {
        "id": "wEFtmF-fJy_E"
      },
      "outputs": [],
      "source": [
        "clas = pd.get_dummies(titanic['class'])\n",
        "clas"
      ]
    },
    {
      "cell_type": "code",
      "execution_count": null,
      "metadata": {
        "id": "Ys7aYr2BJy_E"
      },
      "outputs": [],
      "source": [
        "y = titanic.survived"
      ]
    },
    {
      "cell_type": "code",
      "execution_count": null,
      "metadata": {
        "id": "ACwwT2IkJy_E"
      },
      "outputs": [],
      "source": [
        "X = pd.concat([clas.First, clas.Second, gender.female, titanic.age], axis=1)\n",
        "X = sm.add_constant(X)\n",
        "X"
      ]
    },
    {
      "cell_type": "code",
      "execution_count": null,
      "metadata": {
        "id": "5yKDLf6CJy_E"
      },
      "outputs": [],
      "source": [
        "model = sm.Logit(y, X, missing='drop') # some rows contain NaN"
      ]
    },
    {
      "cell_type": "code",
      "execution_count": null,
      "metadata": {
        "id": "NhjaF4_9Jy_E"
      },
      "outputs": [],
      "source": [
        "result = model.fit()"
      ]
    },
    {
      "cell_type": "code",
      "execution_count": null,
      "metadata": {
        "id": "JFnwNlvCJy_E"
      },
      "outputs": [],
      "source": [
        "result.summary()"
      ]
    },
    {
      "cell_type": "code",
      "execution_count": null,
      "metadata": {
        "id": "AXRuEbwlJy_F"
      },
      "outputs": [],
      "source": [
        "beta = result.params\n",
        "beta"
      ]
    },
    {
      "cell_type": "markdown",
      "metadata": {
        "id": "5Cz9h93HJy_F"
      },
      "source": [
        "As an example, our model suggests a 17-year-old female traveling in first class (such as Rose in the 1997 James Cameron film) had a 95.9% of chance of surviving: "
      ]
    },
    {
      "cell_type": "code",
      "execution_count": null,
      "metadata": {
        "id": "lFp-lcp2Jy_F"
      },
      "outputs": [],
      "source": [
        "linear_out = beta[0] + beta[1]*1 + beta[2]*0 + beta[3]*1 + beta[4]*17\n",
        "linear_out"
      ]
    },
    {
      "cell_type": "code",
      "execution_count": null,
      "metadata": {
        "id": "t0IjDWDiJy_F"
      },
      "outputs": [],
      "source": [
        "expit(linear_out)"
      ]
    },
    {
      "cell_type": "markdown",
      "metadata": {
        "id": "UWAtt2TbJy_G"
      },
      "source": [
        "In contrast, a 20-year-old male traveling in third class had an 11.2% chance of surviving: "
      ]
    },
    {
      "cell_type": "code",
      "execution_count": null,
      "metadata": {
        "id": "Kfas-sUyJy_G"
      },
      "outputs": [],
      "source": [
        "jack = np.array([1, 0, 0, 0, 20])"
      ]
    },
    {
      "cell_type": "code",
      "execution_count": null,
      "metadata": {
        "id": "rp00iFOZJy_G"
      },
      "outputs": [],
      "source": [
        "linear_out = np.dot(beta, jack)\n",
        "linear_out"
      ]
    },
    {
      "cell_type": "code",
      "execution_count": null,
      "metadata": {
        "id": "R0JW2apJJy_H"
      },
      "outputs": [],
      "source": [
        "expit(linear_out)"
      ]
    },
    {
      "cell_type": "markdown",
      "metadata": {
        "id": "yWmyqE_UJy_H"
      },
      "source": [
        "**Exercises**\n",
        "\n",
        "1. Use the scikit-learn `train_test_split()` method ([documentation here](https://scikit-learn.org/stable/modules/generated/sklearn.model_selection.train_test_split.html)) to split the titanic data into a training data set (say, two thirds of the data) and a test data set (one third of the data). \n",
        "\n",
        "2. Re-train the OLS model above using your newly-created training data set. Using the test data set, test the model's quality, e.g., with respect to: \n",
        "\n",
        "    * Accuracy (using a standard 50% binary classification threshold) \n",
        "    * Area under the receiving operator characteristic curve (we covered this in [Calculus II](https://github.com/jonkrohn/ML-foundations/blob/master/notebooks/4-calculus-ii.ipynb)).\n",
        "\n",
        "3. Use your own creative whims to add additional features to an OLS model and train it using the training set. How does your new model compare on the test data set metrics relative to the baseline model? And how do they compare to the [Kaggle leaderboard](https://www.kaggle.com/c/titanic/leaderboard)? "
      ]
    },
    {
      "cell_type": "markdown",
      "metadata": {
        "id": "s6NFWUGrJy_H"
      },
      "source": [
        "**Return to slides here.**"
      ]
    },
    {
      "cell_type": "markdown",
      "metadata": {
        "id": "ZgGbPZ2zJy_H"
      },
      "source": [
        "## Segment 3: Bayesian Statistics"
      ]
    },
    {
      "cell_type": "markdown",
      "metadata": {
        "id": "KMTDDkc7Jy_I"
      },
      "source": [
        "### Bayes' Theorem"
      ]
    },
    {
      "cell_type": "markdown",
      "metadata": {
        "id": "QkUzJX_-Jy_I"
      },
      "source": [
        "...allows us to find $P(\\text{x}|\\text{y})$ when we have $P(\\text{y}|\\text{x})$: \n",
        "$$ P(\\text{x}|\\text{y}) = \\frac{P(\\text{x})P(\\text{y}|\\text{x})}{P(\\text{y})} $$"
      ]
    },
    {
      "cell_type": "markdown",
      "metadata": {
        "id": "UaTQn1CxJy_I"
      },
      "source": [
        "Let's use the *xkcd* [exploding sun cartoon](https://xkcd.com/1132/) as an example. Using a standard $\\alpha = .05$ threshold, the frequentist rejected the null hypothesis that the sun hadn't exploded because the probability the neutrino detector outputs `YES` when the sun hasn't exploded is $\\frac{1}{6} \\times \\frac{1}{6} = \\frac{1}{36} \\approx 0.0278$, which is $<.05$."
      ]
    },
    {
      "cell_type": "markdown",
      "metadata": {
        "id": "QscRBfKiJy_I"
      },
      "source": [
        "Using Bayes' theorem, the Bayesian statistician incorporates additional information -- largely related to the probability that the sun has exploded irrespective what the neutrino detector says -- to draw a different conclusion. \n",
        "\n",
        "Let's likewise use some back-of-the-envelope figures to estimate the probability the sun has exploded ($x = \\text{exploded}$) given the neutrino detector output `YES` ($y = \\text{YES}$); that is, $P(x|y)$. To find this, we'll need $P(y|x)$, $P(x)$, and $P(y)$.\n",
        "\n",
        "$P(y = \\text{YES} | x = \\text{exploded}) = \\frac{35}{36} \\approx 0.972 $.\n",
        "\n",
        "$P(x = \\text{exploded})$ can be roughly estimated. It is generous to assume a $\\frac{1}{1000}$ chance because for every thousand days that pass, the sun explodes far less often than once. Further, unless the sun had exploded only in the past few minutes, we'd already be dead. So, the probability that we are alive in an instant where the sun has exploded is extremely small. Anyway, let's go with $\\frac{1}{1000}$ because even with this exceedingly generous figure, we'll demonstrate the point. \n",
        "\n",
        "$P(y = \\text{YES})$: As is often the case, this probability in the Bayes' theorem denominator can be calculated with information we already have because: \n",
        "$$ P(\\text{y}) = \\sum_x P(\\text{y}|x)P(x) $$ \n",
        "Summing over the two possible states of x ($x =$ exploded, $x =$ not exploded): \n",
        "$$ P(y = \\text{YES}) = P(\\text{YES given exploded})P(\\text{exploded}) + P(\\text{YES given not exploded})P(\\text{not exploded}) $$\n",
        "$$ = \\left(\\frac{35}{36}\\right)\\left(\\frac{1}{1000}\\right) + \\left(\\frac{1}{36}\\right)\\left(\\frac{999}{1000}\\right) $$ \n",
        "...which comes out to $P(y = \\text{YES}) \\approx 0.0287$:"
      ]
    },
    {
      "cell_type": "code",
      "execution_count": null,
      "metadata": {
        "id": "k5gMTD5eJy_I"
      },
      "outputs": [],
      "source": [
        "py = (35/36.)*(1/1000.) + (1/36.)*(999/1000.)\n",
        "py"
      ]
    },
    {
      "cell_type": "markdown",
      "metadata": {
        "id": "VVPyAmD2Jy_I"
      },
      "source": [
        "Now we have everything we need to apply Bayes' theorem: "
      ]
    },
    {
      "cell_type": "code",
      "execution_count": null,
      "metadata": {
        "id": "ZF_lXnPXJy_J"
      },
      "outputs": [],
      "source": [
        "py_givenx = 0.972\n",
        "px = .0001"
      ]
    },
    {
      "cell_type": "code",
      "execution_count": null,
      "metadata": {
        "id": "Q6cjzMN6Jy_J"
      },
      "outputs": [],
      "source": [
        "def bayes(my_px, my_pygivenx, my_py):\n",
        "    return (my_px*my_pygivenx)/my_py"
      ]
    },
    {
      "cell_type": "code",
      "execution_count": null,
      "metadata": {
        "id": "_mrMcIC2Jy_J"
      },
      "outputs": [],
      "source": [
        "bayes(px, py_givenx, py)"
      ]
    },
    {
      "cell_type": "markdown",
      "metadata": {
        "id": "leJ0TyubJy_J"
      },
      "source": [
        "Therefore, even with our generous baseline estimate of a $\\frac{1}{1000}$ chance of the sun having exploded, Bayes' rule enables us to find a 0.3% chance the sun has exploded given the neutrino detector output `YES`. Certainly odds that merit making a $50 bet! "
      ]
    },
    {
      "cell_type": "markdown",
      "metadata": {
        "id": "R00WGeGBJy_J"
      },
      "source": [
        "It would require several hours to describe Bayesian inference beyond Bayes' theorem (e.g., training on a dataset with the `PyMC3` library) so it's beyond our current scope, but for a taste check out [this blog post](https://towardsdatascience.com/estimating-probabilities-with-bayesian-modeling-in-python-7144be007815) and [associated Jupyter notebook](https://github.com/WillKoehrsen/probabilistic-programming/blob/master/Estimating%20Probabilities%20with%20Bayesian%20Inference.ipynb) from Will Koehrsen. "
      ]
    },
    {
      "cell_type": "markdown",
      "metadata": {
        "id": "Lj0nvE0tJy_J"
      },
      "source": [
        "**Return to slides here.**"
      ]
    }
  ],
  "metadata": {
    "celltoolbar": "Raw Cell Format",
    "colab": {
      "provenance": [],
      "include_colab_link": true
    },
    "kernelspec": {
      "display_name": "Python 3 (ipykernel)",
      "language": "python",
      "name": "python3"
    },
    "language_info": {
      "codemirror_mode": {
        "name": "ipython",
        "version": 3
      },
      "file_extension": ".py",
      "mimetype": "text/x-python",
      "name": "python",
      "nbconvert_exporter": "python",
      "pygments_lexer": "ipython3",
      "version": "3.9.7"
    }
  },
  "nbformat": 4,
  "nbformat_minor": 0
}