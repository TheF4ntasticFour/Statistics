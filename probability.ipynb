{
  "cells": [
    {
      "cell_type": "markdown",
      "metadata": {
        "id": "view-in-github",
        "colab_type": "text"
      },
      "source": [
        "<a href=\"https://colab.research.google.com/github/TheF4ntasticFour/Statistics/blob/main/probability.ipynb\" target=\"_parent\"><img src=\"https://colab.research.google.com/assets/colab-badge.svg\" alt=\"Open In Colab\"/></a>"
      ]
    },
    {
      "cell_type": "markdown",
      "metadata": {
        "id": "aTOLgsbN69-P"
      },
      "source": [
        "# Probability & Information Theory"
      ]
    },
    {
      "cell_type": "markdown",
      "metadata": {
        "id": "yqUB9FTRAxd-"
      },
      "source": [
        "This class, *Probability & Information Theory*, introduces the mathematical fields that enable us to quantify uncertainty as well as to make predictions despite uncertainty. These fields are essential because machine learning algorithms are both trained by imperfect data and deployed into noisy, real-world scenarios they haven’t encountered before. \n",
        "\n",
        "Through the measured exposition of theory paired with interactive examples, you’ll develop a working understanding of variables, probability distributions, metrics for assessing distributions, and graphical models. You’ll also learn how to use information theory to measure how much meaningful signal there is within some given data. The content covered in this class is itself foundational for several other classes in the *Machine Learning Foundations* series, especially *Intro to Statistics* and *Optimization*."
      ]
    },
    {
      "cell_type": "markdown",
      "metadata": {
        "id": "d4tBvI88BheF"
      },
      "source": [
        "Over the course of studying this topic, you'll: \n",
        "\n",
        "* Develop an understanding of what’s going on beneath the hood of predictive statistical models and machine learning algorithms, including those used for deep learning. \n",
        "* Understand the appropriate variable type and probability distribution for representing a given class of data, as well as the standard techniques for assessing the relationships between distributions.\n",
        "* Apply information theory to quantify the proportion of valuable signal that’s present amongst the noise of a given probability distribution. \n"
      ]
    },
    {
      "cell_type": "markdown",
      "metadata": {
        "id": "Z68nQ0ekCYhF"
      },
      "source": [
        "\n",
        "\n",
        "*Segment 1: Introduction to Probability*\n",
        "* What Probability Theory Is\n",
        "* A Brief History: Frequentists vs Bayesians\n",
        "* Applications of Probability to Machine Learning\n",
        "* Random Variables\n",
        "* Discrete vs Continuous Variables\n",
        "* Probability Mass and Probability Density Functions\n",
        "* Expected Value\n",
        "* Measures of Central Tendency: Mean, Median, and Mode\n",
        "* Quantiles: Quartiles, Deciles, and Percentiles\n",
        "* The Box-and-Whisker Plot\n",
        "* Measures of Dispersion: Variance, Standard Deviation, and Standard Error\n",
        "* Measures of Relatedness: Covariance and Correlation\n",
        "* Marginal and Conditional Probabilities\n",
        "* Independence and Conditional Independence\n",
        "\n",
        "*Segment 2: Distributions in Machine Learning*\n",
        "* Uniform\n",
        "* Gaussian: Normal and Standard Normal\n",
        "* The Central Limit Theorem\n",
        "* Log-Normal\n",
        "* Exponential and Laplace\n",
        "* Binomial and Multinomial\n",
        "* Poisson\n",
        "* Mixture Distributions\n",
        "* Preprocessing Data for Model Input\n",
        "\n",
        "*Segment 3: Information Theory*\n",
        "* What Information Theory Is\n",
        "* Self-Information\n",
        "* Nats, Bits and Shannons\n",
        "* Shannon and Differential Entropy\n",
        "* Kullback-Leibler Divergence\n",
        "* Cross-Entropy"
      ]
    },
    {
      "cell_type": "markdown",
      "metadata": {
        "id": "HDE74CXX5ChI"
      },
      "source": [
        "## Segment 1: Introduction to Probability"
      ]
    },
    {
      "cell_type": "code",
      "execution_count": 1,
      "metadata": {
        "id": "kzRpCm2a5ChJ"
      },
      "outputs": [],
      "source": [
        "import numpy as np\n",
        "import scipy.stats as st\n",
        "import matplotlib.pyplot as plt\n",
        "import seaborn as sns"
      ]
    },
    {
      "cell_type": "markdown",
      "metadata": {
        "id": "U_680ypO5ChJ"
      },
      "source": [
        "### What Probability Theory Is"
      ]
    },
    {
      "cell_type": "markdown",
      "metadata": {
        "id": "fwEAqIqR5ChJ"
      },
      "source": [
        "Let's assume we have a fair coin, which is equally likely to come up heads (H) or tails (T)."
      ]
    },
    {
      "cell_type": "markdown",
      "metadata": {
        "id": "kFl3g0GW5ChK"
      },
      "source": [
        "In instances like this, where the two outcomes are equally likely, we can use probability theory to express the likelihood of a particular **event** by comparing it with the **sample space** (the set of all possible outcomes; can be denoted as $\\Omega$): "
      ]
    },
    {
      "cell_type": "markdown",
      "metadata": {
        "id": "X82RIGz15ChK"
      },
      "source": [
        "$$ P(\\text{event}) = \\frac{\\text{# of outcomes of event}}{\\text{# of outcomes in }\\Omega} $$"
      ]
    },
    {
      "cell_type": "markdown",
      "metadata": {
        "id": "VuVWT8NI5ChK"
      },
      "source": [
        "If we're only flipping the coin once, then there are only two possible outcomes in the sample space $\\Omega$: it will either be H or T (using set notation, we could write this as $\\Omega$ = {H, T})."
      ]
    },
    {
      "cell_type": "markdown",
      "metadata": {
        "id": "9W5MsKt15ChK"
      },
      "source": [
        "Therefore: $$ P(H) = \\frac{1}{2} = 0.5 $$"
      ]
    },
    {
      "cell_type": "markdown",
      "metadata": {
        "id": "V_bzjMvs5ChK"
      },
      "source": [
        "Equally: $$ P(T) = \\frac{1}{2} = 0.5 $$"
      ]
    },
    {
      "cell_type": "markdown",
      "metadata": {
        "id": "PfHEQzcd5ChL"
      },
      "source": [
        "As a separate example, consider drawing a single card from a standard deck of 52 playing cards. In this case, the number of possible outcomes in the sample space $\\Omega$ is 52. "
      ]
    },
    {
      "cell_type": "markdown",
      "metadata": {
        "id": "qtAa3aRW5ChL"
      },
      "source": [
        "There is only one ace of spades in the deck, so the probability of drawing it is: $$ P(\\text{ace of spades}) = \\frac{1}{52} \\approx 0.019 $$"
      ]
    },
    {
      "cell_type": "markdown",
      "metadata": {
        "id": "81-uQ4ug5ChL"
      },
      "source": [
        "In contrast there are four aces, so the probability of drawing an ace is: $$ P(\\text{ace}) = \\frac{4}{52} \\approx 0.077 $$"
      ]
    },
    {
      "cell_type": "markdown",
      "metadata": {
        "id": "uqco79Cd5ChL"
      },
      "source": [
        "Some additional examples: \n",
        "$$ P(\\text{spade}) = \\frac{13}{52} = 0.25 $$\n",
        "$$ P(\\text{ace OR spade}) = \\frac{16}{52} \\approx 0.307 $$\n",
        "$$ P(\\text{card}) = \\frac{52}{52} = 1 $$\n",
        "$$ P(\\text{turnip}) = \\frac{0}{52} = 0 $$"
      ]
    },
    {
      "cell_type": "markdown",
      "metadata": {
        "id": "snINg1tz5ChL"
      },
      "source": [
        "#### Multiple independent observations"
      ]
    },
    {
      "cell_type": "markdown",
      "metadata": {
        "id": "gIPR6og95ChL"
      },
      "source": [
        "Let's return to coin flipping to illustrate situations where we have an event consisting of multiple independent observations. For example, the probability of throwing two consecutive heads is: $$ P(\\text{HH}) = \\frac{1}{4} = 0.25 $$ ...because there is one HH event in the sample set of four possible events ($\\Omega$ = {HH, HT, TH, TT})."
      ]
    },
    {
      "cell_type": "markdown",
      "metadata": {
        "id": "rT11_oHg5ChM"
      },
      "source": [
        "Likewise, the probability of throwing *three* consecutive heads is: $$ P(\\text{HHH}) = \\frac{1}{8} = 0.125 $$ ...because there is one HHH event in the sample set of eight possible events ($\\Omega$ = {HHH, HHT, HTH, THH, HTT, THT, TTH, TTT})."
      ]
    },
    {
      "cell_type": "markdown",
      "metadata": {
        "id": "ru44PKUe5ChM"
      },
      "source": [
        "As final examples, the probability of throwing exactly two heads in three tosses is $ P = \\frac{3}{8} = 0.375 $ while the probability of throwing at least two heads in three tosses is $ P = \\frac{4}{8} = 0.5 $."
      ]
    },
    {
      "cell_type": "markdown",
      "metadata": {
        "id": "vh3WnRhm5ChM"
      },
      "source": [
        "#### Combining probabilities"
      ]
    },
    {
      "cell_type": "markdown",
      "metadata": {
        "id": "YInbLu1i5ChM"
      },
      "source": [
        "In order to combine probabilities, we can multiply them. So the probability of throwing five consecutive heads, for example, is the product of probabilities we've already calculated: $$ P(\\text{HHHHH}) = P(\\text{HH}) \\times P(\\text{HHH}) = \\frac{1}{4} \\times \\frac{1}{8} = \\frac{1}{32} \\approx 0.031 $$"
      ]
    },
    {
      "cell_type": "markdown",
      "metadata": {
        "id": "w-wlHpI05ChM"
      },
      "source": [
        "#### Combinatorics"
      ]
    },
    {
      "cell_type": "markdown",
      "metadata": {
        "id": "1ckSVU3p5ChM"
      },
      "source": [
        "*Combinatorics* is a field of mathematics devoted to counting that can be helpful to studying probabilities. We can use **factorials** (e.g., $4! = 4 \\times 3 \\times 2 \\times 1 = 24$), which feature prominently in combinatorics, to calculate probabilities instead of painstakingly determining all of the members of the sample space $\\Omega$ and counting subsets within $\\Omega$. "
      ]
    },
    {
      "cell_type": "markdown",
      "metadata": {
        "id": "zYL4ODP75ChN"
      },
      "source": [
        "More specifically, we can calculate the number of outcomes of an event using the \"number of combinations\" equation: $$ {n \\choose k} = \\frac{n!}{k!(n - k)!} $$"
      ]
    },
    {
      "cell_type": "markdown",
      "metadata": {
        "id": "kQhpdNEL5ChN"
      },
      "source": [
        "The left-hand side of the equation is read \"$n$ choose $k$\" and is most quickly understood via an example: If we have three coin flips, $n = 3$, and if we're interested in the number of ways to get two head flips (or two tail flips, for that matter), $k = 2$. We would read this as \"3 choose 2\" and calculate it as:\n",
        "$$ {n \\choose k} = {3 \\choose 2} = \\frac{3!}{2!(3 - 2)!} = \\frac{3!}{(2!)(1!)} = \\frac{3 \\times 2 \\times 1}{(2 \\times 1)(1)} = \\frac{6}{(2)(1)} = \\frac{6}{2} = 3 $$"
      ]
    },
    {
      "cell_type": "markdown",
      "metadata": {
        "id": "PoPfNW275ChN"
      },
      "source": [
        "This provide us with the numerator for event-probability equation from above: $$ P(\\text{event}) = \\frac{\\text{# of outcomes of event}}{\\text{# of outcomes in }\\Omega} $$"
      ]
    },
    {
      "cell_type": "markdown",
      "metadata": {
        "id": "ThoyCpl35ChO"
      },
      "source": [
        "In the case of coin-flipping (or any binary process with equally probable outcomes), the denominator can be calculated with $2^n$ (where $n$ is again the number of coin flips), so: $$ \\frac{\\text{# of outcomes of event}}{\\text{# of outcomes in }\\Omega} = \\frac{3}{2^n} = \\frac{3}{2^3} = \\frac{3}{8} = 0.375 $$"
      ]
    },
    {
      "cell_type": "markdown",
      "metadata": {
        "id": "QKRugWrQ5ChO"
      },
      "source": [
        "**Exercises**:\n",
        "\n",
        "1. What is the probability of drawing the ace of spades twice in a row? (Assume that any card drawn on the first draw will be put back in the deck before the second draw.)\n",
        "2. You draw a card from a deck of cards. After replacing the drawn card back in the deck and shuffling thoroughly, what is the probability of drawing the same card again? \n",
        "3. Use $n \\choose k$ to calculate the probability of throwing three heads in five coin tosses.\n",
        "4. Create a Python method that solves exercise 3 and incorporates the $n \\choose k$ formula $\\frac{n!}{k!(n - k)!}$. With the method in hand, calculate the probability of -- in five tosses -- throwing each of zero, one, two, three, four, and five heads."
      ]
    },
    {
      "cell_type": "markdown",
      "metadata": {
        "id": "U7IgNJwV5ChO"
      },
      "source": [
        "**Solutions**:"
      ]
    },
    {
      "cell_type": "markdown",
      "metadata": {
        "id": "qiSjQ1mR5ChP"
      },
      "source": [
        "1. $$ P(\\text{ace of spades}) \\times P(\\text{ace of spades}) = \\left(\\frac{1}{52}\\right)^2 = \\frac{1}{2704} = 0.00037 = 0.037\\% $$"
      ]
    },
    {
      "cell_type": "markdown",
      "metadata": {
        "id": "R3aUyZvi5ChP"
      },
      "source": [
        "2. $$ P(\\text{any card}) = \\frac{52}{52} = 1 $$\n",
        "$$ P(\\text{same card as first draw}) = \\frac{1}{52} \\approx 0.019 $$\n",
        "$$ P(\\text{any card})P(\\text{same card as first draw}) = (1)(\\frac{1}{52}) = \\frac{1}{52} \\approx 0.019$$"
      ]
    },
    {
      "cell_type": "markdown",
      "metadata": {
        "id": "S8tA4XlQ5ChP"
      },
      "source": [
        "3. $$ {n \\choose k} = {5 \\choose 3} = \\frac{5!}{3!(5 - 3)!} = \\frac{5!}{(3!)(2!)} = \\frac{5 \\times 4 \\times 3 \\times 2 \\times 1}{(3 \\times 2 \\times 1)(2 \\times 1)} = \\frac{120}{(6)(2)} = \\frac{120}{12} = 10 $$"
      ]
    },
    {
      "cell_type": "markdown",
      "metadata": {
        "id": "aS4bc83U5ChP"
      },
      "source": [
        "$$P = \\frac{10}{2^n} = \\frac{10}{2^5} = \\frac{10}{32} = 0.3125 $$"
      ]
    },
    {
      "cell_type": "code",
      "execution_count": 2,
      "metadata": {
        "id": "0_3pRRTX5ChP"
      },
      "outputs": [],
      "source": [
        "from math import factorial"
      ]
    },
    {
      "cell_type": "code",
      "execution_count": 3,
      "metadata": {
        "id": "MgdCyK805ChP"
      },
      "outputs": [],
      "source": [
        "def coinflip_prob(n, k):\n",
        "    n_choose_k = factorial(n)/(factorial(k)*factorial(n-k))\n",
        "    return n_choose_k/2**n"
      ]
    },
    {
      "cell_type": "code",
      "execution_count": 4,
      "metadata": {
        "colab": {
          "base_uri": "https://localhost:8080/"
        },
        "id": "4N3_Ebkum1Vh",
        "outputId": "8692889d-d713-4ad4-8254-5a8341b807fc"
      },
      "outputs": [
        {
          "output_type": "execute_result",
          "data": {
            "text/plain": [
              "0.3125"
            ]
          },
          "metadata": {},
          "execution_count": 4
        }
      ],
      "source": [
        "coinflip_prob(5, 3)"
      ]
    },
    {
      "cell_type": "code",
      "execution_count": 5,
      "metadata": {
        "colab": {
          "base_uri": "https://localhost:8080/"
        },
        "id": "6UO8q5N45ChQ",
        "outputId": "e38301ee-7955-44a8-ac39-2dd5eaa2ca1e"
      },
      "outputs": [
        {
          "output_type": "execute_result",
          "data": {
            "text/plain": [
              "[0.03125, 0.15625, 0.3125, 0.3125, 0.15625, 0.03125]"
            ]
          },
          "metadata": {},
          "execution_count": 5
        }
      ],
      "source": [
        "[coinflip_prob(5, h) for h in range(6)]"
      ]
    }
  ],
  "metadata": {
    "colab": {
      "provenance": [],
      "include_colab_link": true
    },
    "kernelspec": {
      "display_name": "Python 3 (ipykernel)",
      "language": "python",
      "name": "python3"
    },
    "language_info": {
      "codemirror_mode": {
        "name": "ipython",
        "version": 3
      },
      "file_extension": ".py",
      "mimetype": "text/x-python",
      "name": "python",
      "nbconvert_exporter": "python",
      "pygments_lexer": "ipython3",
      "version": "3.9.7"
    }
  },
  "nbformat": 4,
  "nbformat_minor": 0
}