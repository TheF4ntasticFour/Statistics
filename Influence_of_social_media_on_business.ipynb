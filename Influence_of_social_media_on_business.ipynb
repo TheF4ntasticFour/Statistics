{
  "cells": [
    {
      "cell_type": "markdown",
      "metadata": {
        "id": "view-in-github",
        "colab_type": "text"
      },
      "source": [
        "<a href=\"https://colab.research.google.com/github/TheF4ntasticFour/Statistics/blob/main/Influence_of_social_media_on_business.ipynb\" target=\"_parent\"><img src=\"https://colab.research.google.com/assets/colab-badge.svg\" alt=\"Open In Colab\"/></a>"
      ]
    },
    {
      "cell_type": "markdown",
      "id": "8c8fd421",
      "metadata": {
        "id": "8c8fd421"
      },
      "source": [
        "# Influence of social media on business \n",
        "\n",
        "Social media has had a profound impact on businesses, transforming the way they interact with customers, promote their products and services, and analyze customer behavior and preferences. Social media has enabled businesses to reach out to a wider audience, engage with customers, and build brand loyalty. It has also provided a cost-effective way for businesses of all sizes to promote their products and services without investing heavily in traditional advertising. Additionally, social media has allowed businesses to track and analyze customer behavior and preferences, providing valuable insights that can help them create more targeted and effective marketing campaigns. Overall, social media has become an essential tool for businesses to connect with customers and succeed in today's digital landscape.\n",
        "\n",
        "\n",
        "### The variables : \n",
        "  - gender; \n",
        "  - age, in years; \n",
        "  - ownership of a business;\n",
        "  - ordering online;\n",
        "  - influence of social media; \n",
        "  - type of business;\n",
        "  - platforms used; \n",
        "  - impact of social media; \n",
        " \n",
        "\n"
      ]
    },
    {
      "cell_type": "code",
      "execution_count": null,
      "id": "a35c48a2",
      "metadata": {
        "id": "a35c48a2"
      },
      "outputs": [],
      "source": [
        "import numpy as np \n",
        "import pandas as pd\n",
        "import matplotlib.pyplot as plt"
      ]
    },
    {
      "cell_type": "code",
      "execution_count": null,
      "id": "7e05a4ff",
      "metadata": {
        "id": "7e05a4ff"
      },
      "outputs": [],
      "source": [
        "myD=pd.read_csv('..\\ISMB.csv')"
      ]
    },
    {
      "cell_type": "code",
      "execution_count": null,
      "id": "2dd3b471",
      "metadata": {
        "id": "2dd3b471",
        "outputId": "a0d6d717-74d5-41ab-c197-d4784a7a3b52"
      },
      "outputs": [
        {
          "name": "stdout",
          "output_type": "stream",
          "text": [
            "<class 'pandas.core.frame.DataFrame'>\n",
            "RangeIndex: 100 entries, 0 to 99\n",
            "Data columns (total 9 columns):\n",
            " #   Column                                                     Non-Null Count  Dtype  \n",
            "---  ------                                                     --------------  -----  \n",
            " 0   Timestamp                                                  100 non-null    object \n",
            " 1   Gender                                                     100 non-null    object \n",
            " 2   Age                                                        100 non-null    int64  \n",
            " 3   Do you own a business ?                                    100 non-null    object \n",
            " 4   Have you ever ordered online?                              73 non-null     object \n",
            " 5   Do you think social media has influence on businesses ?    73 non-null     object \n",
            " 6   What is your business?                                     27 non-null     object \n",
            " 7   What is the main platform that you use for your business?  27 non-null     object \n",
            " 8   How beneficial is social media for your business?          27 non-null     float64\n",
            "dtypes: float64(1), int64(1), object(7)\n",
            "memory usage: 7.2+ KB\n"
          ]
        }
      ],
      "source": [
        "myD.info()"
      ]
    },
    {
      "cell_type": "code",
      "execution_count": null,
      "id": "e4d6e6a7",
      "metadata": {
        "scrolled": true,
        "id": "e4d6e6a7",
        "outputId": "5a31428a-22e0-4661-d5b5-95042e809660"
      },
      "outputs": [
        {
          "data": {
            "text/html": [
              "<div>\n",
              "<style scoped>\n",
              "    .dataframe tbody tr th:only-of-type {\n",
              "        vertical-align: middle;\n",
              "    }\n",
              "\n",
              "    .dataframe tbody tr th {\n",
              "        vertical-align: top;\n",
              "    }\n",
              "\n",
              "    .dataframe thead th {\n",
              "        text-align: right;\n",
              "    }\n",
              "</style>\n",
              "<table border=\"1\" class=\"dataframe\">\n",
              "  <thead>\n",
              "    <tr style=\"text-align: right;\">\n",
              "      <th></th>\n",
              "      <th>Timestamp</th>\n",
              "      <th>Gender</th>\n",
              "      <th>Age</th>\n",
              "      <th>Do you own a business ?</th>\n",
              "      <th>Have you ever ordered online?</th>\n",
              "      <th>Do you think social media has influence on businesses ?</th>\n",
              "      <th>What is your business?</th>\n",
              "      <th>What is the main platform that you use for your business?</th>\n",
              "      <th>How beneficial is social media for your business?</th>\n",
              "    </tr>\n",
              "  </thead>\n",
              "  <tbody>\n",
              "    <tr>\n",
              "      <th>0</th>\n",
              "      <td>2/21/2023 21:21</td>\n",
              "      <td>Female</td>\n",
              "      <td>22</td>\n",
              "      <td>No</td>\n",
              "      <td>Yes</td>\n",
              "      <td>Yes</td>\n",
              "      <td>NaN</td>\n",
              "      <td>NaN</td>\n",
              "      <td>NaN</td>\n",
              "    </tr>\n",
              "    <tr>\n",
              "      <th>1</th>\n",
              "      <td>2/21/2023 21:24</td>\n",
              "      <td>Female</td>\n",
              "      <td>19</td>\n",
              "      <td>No</td>\n",
              "      <td>Yes</td>\n",
              "      <td>Yes</td>\n",
              "      <td>NaN</td>\n",
              "      <td>NaN</td>\n",
              "      <td>NaN</td>\n",
              "    </tr>\n",
              "    <tr>\n",
              "      <th>2</th>\n",
              "      <td>2/21/2023 21:30</td>\n",
              "      <td>Female</td>\n",
              "      <td>19</td>\n",
              "      <td>Yes</td>\n",
              "      <td>NaN</td>\n",
              "      <td>NaN</td>\n",
              "      <td>clothing</td>\n",
              "      <td>Instagram</td>\n",
              "      <td>4.0</td>\n",
              "    </tr>\n",
              "    <tr>\n",
              "      <th>3</th>\n",
              "      <td>2/21/2023 21:37</td>\n",
              "      <td>Male</td>\n",
              "      <td>17</td>\n",
              "      <td>Yes</td>\n",
              "      <td>NaN</td>\n",
              "      <td>NaN</td>\n",
              "      <td>food</td>\n",
              "      <td>Instagram</td>\n",
              "      <td>5.0</td>\n",
              "    </tr>\n",
              "    <tr>\n",
              "      <th>4</th>\n",
              "      <td>2/21/2023 21:49</td>\n",
              "      <td>Male</td>\n",
              "      <td>20</td>\n",
              "      <td>Yes</td>\n",
              "      <td>NaN</td>\n",
              "      <td>NaN</td>\n",
              "      <td>clothing</td>\n",
              "      <td>Instagram</td>\n",
              "      <td>5.0</td>\n",
              "    </tr>\n",
              "  </tbody>\n",
              "</table>\n",
              "</div>"
            ],
            "text/plain": [
              "         Timestamp Gender   Age Do you own a business ?  \\\n",
              "0  2/21/2023 21:21  Female   22                      No   \n",
              "1  2/21/2023 21:24  Female   19                      No   \n",
              "2  2/21/2023 21:30  Female   19                     Yes   \n",
              "3  2/21/2023 21:37    Male   17                     Yes   \n",
              "4  2/21/2023 21:49    Male   20                     Yes   \n",
              "\n",
              "  Have you ever ordered online?  \\\n",
              "0                           Yes   \n",
              "1                           Yes   \n",
              "2                           NaN   \n",
              "3                           NaN   \n",
              "4                           NaN   \n",
              "\n",
              "  Do you think social media has influence on businesses ?  \\\n",
              "0                                                Yes        \n",
              "1                                                Yes        \n",
              "2                                                NaN        \n",
              "3                                                NaN        \n",
              "4                                                NaN        \n",
              "\n",
              "  What is your business?   \\\n",
              "0                     NaN   \n",
              "1                     NaN   \n",
              "2                clothing   \n",
              "3                    food   \n",
              "4                clothing   \n",
              "\n",
              "  What is the main platform that you use for your business?  \\\n",
              "0                                                NaN          \n",
              "1                                                NaN          \n",
              "2                                          Instagram          \n",
              "3                                          Instagram          \n",
              "4                                          Instagram          \n",
              "\n",
              "   How beneficial is social media for your business?  \n",
              "0                                                NaN  \n",
              "1                                                NaN  \n",
              "2                                                4.0  \n",
              "3                                                5.0  \n",
              "4                                                5.0  "
            ]
          },
          "execution_count": 169,
          "metadata": {},
          "output_type": "execute_result"
        }
      ],
      "source": [
        "myD.head(5)\n"
      ]
    },
    {
      "cell_type": "code",
      "execution_count": null,
      "id": "39b64c2c",
      "metadata": {
        "id": "39b64c2c"
      },
      "outputs": [],
      "source": [
        "myD = myD.rename(columns={'Gender ': 'Gender'})"
      ]
    },
    {
      "cell_type": "code",
      "execution_count": null,
      "id": "fab39b50",
      "metadata": {
        "scrolled": false,
        "id": "fab39b50",
        "outputId": "45539937-311e-4389-a43a-4c980b8eff17"
      },
      "outputs": [
        {
          "data": {
            "text/html": [
              "<div>\n",
              "<style scoped>\n",
              "    .dataframe tbody tr th:only-of-type {\n",
              "        vertical-align: middle;\n",
              "    }\n",
              "\n",
              "    .dataframe tbody tr th {\n",
              "        vertical-align: top;\n",
              "    }\n",
              "\n",
              "    .dataframe thead th {\n",
              "        text-align: right;\n",
              "    }\n",
              "</style>\n",
              "<table border=\"1\" class=\"dataframe\">\n",
              "  <thead>\n",
              "    <tr style=\"text-align: right;\">\n",
              "      <th>Age</th>\n",
              "      <th>15</th>\n",
              "      <th>17</th>\n",
              "      <th>18</th>\n",
              "      <th>19</th>\n",
              "      <th>20</th>\n",
              "      <th>21</th>\n",
              "      <th>22</th>\n",
              "      <th>23</th>\n",
              "      <th>24</th>\n",
              "      <th>25</th>\n",
              "      <th>26</th>\n",
              "      <th>27</th>\n",
              "      <th>30</th>\n",
              "    </tr>\n",
              "    <tr>\n",
              "      <th>How beneficial is social media for your business?</th>\n",
              "      <th></th>\n",
              "      <th></th>\n",
              "      <th></th>\n",
              "      <th></th>\n",
              "      <th></th>\n",
              "      <th></th>\n",
              "      <th></th>\n",
              "      <th></th>\n",
              "      <th></th>\n",
              "      <th></th>\n",
              "      <th></th>\n",
              "      <th></th>\n",
              "      <th></th>\n",
              "    </tr>\n",
              "  </thead>\n",
              "  <tbody>\n",
              "    <tr>\n",
              "      <th>1.0</th>\n",
              "      <td>0</td>\n",
              "      <td>0</td>\n",
              "      <td>0</td>\n",
              "      <td>0</td>\n",
              "      <td>0</td>\n",
              "      <td>0</td>\n",
              "      <td>0</td>\n",
              "      <td>0</td>\n",
              "      <td>1</td>\n",
              "      <td>0</td>\n",
              "      <td>0</td>\n",
              "      <td>0</td>\n",
              "      <td>0</td>\n",
              "    </tr>\n",
              "    <tr>\n",
              "      <th>2.0</th>\n",
              "      <td>0</td>\n",
              "      <td>0</td>\n",
              "      <td>0</td>\n",
              "      <td>1</td>\n",
              "      <td>0</td>\n",
              "      <td>0</td>\n",
              "      <td>0</td>\n",
              "      <td>0</td>\n",
              "      <td>0</td>\n",
              "      <td>0</td>\n",
              "      <td>0</td>\n",
              "      <td>0</td>\n",
              "      <td>0</td>\n",
              "    </tr>\n",
              "    <tr>\n",
              "      <th>3.0</th>\n",
              "      <td>0</td>\n",
              "      <td>0</td>\n",
              "      <td>0</td>\n",
              "      <td>0</td>\n",
              "      <td>2</td>\n",
              "      <td>1</td>\n",
              "      <td>0</td>\n",
              "      <td>1</td>\n",
              "      <td>1</td>\n",
              "      <td>1</td>\n",
              "      <td>0</td>\n",
              "      <td>1</td>\n",
              "      <td>0</td>\n",
              "    </tr>\n",
              "    <tr>\n",
              "      <th>4.0</th>\n",
              "      <td>0</td>\n",
              "      <td>0</td>\n",
              "      <td>1</td>\n",
              "      <td>1</td>\n",
              "      <td>1</td>\n",
              "      <td>0</td>\n",
              "      <td>2</td>\n",
              "      <td>1</td>\n",
              "      <td>0</td>\n",
              "      <td>1</td>\n",
              "      <td>1</td>\n",
              "      <td>2</td>\n",
              "      <td>0</td>\n",
              "    </tr>\n",
              "    <tr>\n",
              "      <th>5.0</th>\n",
              "      <td>1</td>\n",
              "      <td>1</td>\n",
              "      <td>0</td>\n",
              "      <td>0</td>\n",
              "      <td>1</td>\n",
              "      <td>0</td>\n",
              "      <td>1</td>\n",
              "      <td>2</td>\n",
              "      <td>0</td>\n",
              "      <td>0</td>\n",
              "      <td>1</td>\n",
              "      <td>0</td>\n",
              "      <td>1</td>\n",
              "    </tr>\n",
              "  </tbody>\n",
              "</table>\n",
              "</div>"
            ],
            "text/plain": [
              "Age                                                15  17  18  19  20  21  22  \\\n",
              "How beneficial is social media for your business?                               \n",
              "1.0                                                 0   0   0   0   0   0   0   \n",
              "2.0                                                 0   0   0   1   0   0   0   \n",
              "3.0                                                 0   0   0   0   2   1   0   \n",
              "4.0                                                 0   0   1   1   1   0   2   \n",
              "5.0                                                 1   1   0   0   1   0   1   \n",
              "\n",
              "Age                                                23  24  25  26  27  30  \n",
              "How beneficial is social media for your business?                          \n",
              "1.0                                                 0   1   0   0   0   0  \n",
              "2.0                                                 0   0   0   0   0   0  \n",
              "3.0                                                 1   1   1   0   1   0  \n",
              "4.0                                                 1   0   1   1   2   0  \n",
              "5.0                                                 2   0   0   1   0   1  "
            ]
          },
          "execution_count": 171,
          "metadata": {},
          "output_type": "execute_result"
        }
      ],
      "source": [
        "pd.crosstab(myD['How beneficial is social media for your business?'],myD['Age'] )"
      ]
    },
    {
      "cell_type": "code",
      "execution_count": null,
      "id": "b86765bc",
      "metadata": {
        "scrolled": false,
        "id": "b86765bc",
        "outputId": "963373a4-4873-4bb2-f961-4d574a5d259c"
      },
      "outputs": [
        {
          "data": {
            "text/html": [
              "<div>\n",
              "<style scoped>\n",
              "    .dataframe tbody tr th:only-of-type {\n",
              "        vertical-align: middle;\n",
              "    }\n",
              "\n",
              "    .dataframe tbody tr th {\n",
              "        vertical-align: top;\n",
              "    }\n",
              "\n",
              "    .dataframe thead tr th {\n",
              "        text-align: left;\n",
              "    }\n",
              "\n",
              "    .dataframe thead tr:last-of-type th {\n",
              "        text-align: right;\n",
              "    }\n",
              "</style>\n",
              "<table border=\"1\" class=\"dataframe\">\n",
              "  <thead>\n",
              "    <tr>\n",
              "      <th></th>\n",
              "      <th></th>\n",
              "      <th colspan=\"2\" halign=\"left\">Do you think social media has influence on businesses ?</th>\n",
              "      <th colspan=\"2\" halign=\"left\">Gender</th>\n",
              "      <th colspan=\"2\" halign=\"left\">How beneficial is social media for your business?</th>\n",
              "      <th colspan=\"2\" halign=\"left\">Timestamp</th>\n",
              "      <th colspan=\"2\" halign=\"left\">What is the main platform that you use for your business?</th>\n",
              "      <th colspan=\"2\" halign=\"left\">What is your business?</th>\n",
              "    </tr>\n",
              "    <tr>\n",
              "      <th></th>\n",
              "      <th>Have you ever ordered online?</th>\n",
              "      <th>No</th>\n",
              "      <th>Yes</th>\n",
              "      <th>No</th>\n",
              "      <th>Yes</th>\n",
              "      <th>No</th>\n",
              "      <th>Yes</th>\n",
              "      <th>No</th>\n",
              "      <th>Yes</th>\n",
              "      <th>No</th>\n",
              "      <th>Yes</th>\n",
              "      <th>No</th>\n",
              "      <th>Yes</th>\n",
              "    </tr>\n",
              "    <tr>\n",
              "      <th>Do you own a business ?</th>\n",
              "      <th>Age</th>\n",
              "      <th></th>\n",
              "      <th></th>\n",
              "      <th></th>\n",
              "      <th></th>\n",
              "      <th></th>\n",
              "      <th></th>\n",
              "      <th></th>\n",
              "      <th></th>\n",
              "      <th></th>\n",
              "      <th></th>\n",
              "      <th></th>\n",
              "      <th></th>\n",
              "    </tr>\n",
              "  </thead>\n",
              "  <tbody>\n",
              "    <tr>\n",
              "      <th rowspan=\"16\" valign=\"top\">No</th>\n",
              "      <th>15</th>\n",
              "      <td>NaN</td>\n",
              "      <td>4.0</td>\n",
              "      <td>NaN</td>\n",
              "      <td>4.0</td>\n",
              "      <td>NaN</td>\n",
              "      <td>4.0</td>\n",
              "      <td>NaN</td>\n",
              "      <td>4.0</td>\n",
              "      <td>NaN</td>\n",
              "      <td>4.0</td>\n",
              "      <td>NaN</td>\n",
              "      <td>4.0</td>\n",
              "    </tr>\n",
              "    <tr>\n",
              "      <th>16</th>\n",
              "      <td>1.0</td>\n",
              "      <td>6.0</td>\n",
              "      <td>1.0</td>\n",
              "      <td>6.0</td>\n",
              "      <td>1.0</td>\n",
              "      <td>6.0</td>\n",
              "      <td>1.0</td>\n",
              "      <td>6.0</td>\n",
              "      <td>1.0</td>\n",
              "      <td>6.0</td>\n",
              "      <td>1.0</td>\n",
              "      <td>6.0</td>\n",
              "    </tr>\n",
              "    <tr>\n",
              "      <th>17</th>\n",
              "      <td>1.0</td>\n",
              "      <td>1.0</td>\n",
              "      <td>1.0</td>\n",
              "      <td>1.0</td>\n",
              "      <td>1.0</td>\n",
              "      <td>1.0</td>\n",
              "      <td>1.0</td>\n",
              "      <td>1.0</td>\n",
              "      <td>1.0</td>\n",
              "      <td>1.0</td>\n",
              "      <td>1.0</td>\n",
              "      <td>1.0</td>\n",
              "    </tr>\n",
              "    <tr>\n",
              "      <th>18</th>\n",
              "      <td>3.0</td>\n",
              "      <td>6.0</td>\n",
              "      <td>3.0</td>\n",
              "      <td>6.0</td>\n",
              "      <td>3.0</td>\n",
              "      <td>6.0</td>\n",
              "      <td>3.0</td>\n",
              "      <td>6.0</td>\n",
              "      <td>3.0</td>\n",
              "      <td>6.0</td>\n",
              "      <td>3.0</td>\n",
              "      <td>6.0</td>\n",
              "    </tr>\n",
              "    <tr>\n",
              "      <th>19</th>\n",
              "      <td>2.0</td>\n",
              "      <td>7.0</td>\n",
              "      <td>2.0</td>\n",
              "      <td>7.0</td>\n",
              "      <td>2.0</td>\n",
              "      <td>7.0</td>\n",
              "      <td>2.0</td>\n",
              "      <td>7.0</td>\n",
              "      <td>2.0</td>\n",
              "      <td>7.0</td>\n",
              "      <td>2.0</td>\n",
              "      <td>7.0</td>\n",
              "    </tr>\n",
              "    <tr>\n",
              "      <th>20</th>\n",
              "      <td>3.0</td>\n",
              "      <td>7.0</td>\n",
              "      <td>3.0</td>\n",
              "      <td>7.0</td>\n",
              "      <td>3.0</td>\n",
              "      <td>7.0</td>\n",
              "      <td>3.0</td>\n",
              "      <td>7.0</td>\n",
              "      <td>3.0</td>\n",
              "      <td>7.0</td>\n",
              "      <td>3.0</td>\n",
              "      <td>7.0</td>\n",
              "    </tr>\n",
              "    <tr>\n",
              "      <th>21</th>\n",
              "      <td>1.0</td>\n",
              "      <td>8.0</td>\n",
              "      <td>1.0</td>\n",
              "      <td>8.0</td>\n",
              "      <td>1.0</td>\n",
              "      <td>8.0</td>\n",
              "      <td>1.0</td>\n",
              "      <td>8.0</td>\n",
              "      <td>1.0</td>\n",
              "      <td>8.0</td>\n",
              "      <td>1.0</td>\n",
              "      <td>8.0</td>\n",
              "    </tr>\n",
              "    <tr>\n",
              "      <th>22</th>\n",
              "      <td>2.0</td>\n",
              "      <td>3.0</td>\n",
              "      <td>2.0</td>\n",
              "      <td>3.0</td>\n",
              "      <td>2.0</td>\n",
              "      <td>3.0</td>\n",
              "      <td>2.0</td>\n",
              "      <td>3.0</td>\n",
              "      <td>2.0</td>\n",
              "      <td>3.0</td>\n",
              "      <td>2.0</td>\n",
              "      <td>3.0</td>\n",
              "    </tr>\n",
              "    <tr>\n",
              "      <th>23</th>\n",
              "      <td>1.0</td>\n",
              "      <td>2.0</td>\n",
              "      <td>1.0</td>\n",
              "      <td>2.0</td>\n",
              "      <td>1.0</td>\n",
              "      <td>2.0</td>\n",
              "      <td>1.0</td>\n",
              "      <td>2.0</td>\n",
              "      <td>1.0</td>\n",
              "      <td>2.0</td>\n",
              "      <td>1.0</td>\n",
              "      <td>2.0</td>\n",
              "    </tr>\n",
              "    <tr>\n",
              "      <th>24</th>\n",
              "      <td>1.0</td>\n",
              "      <td>3.0</td>\n",
              "      <td>1.0</td>\n",
              "      <td>3.0</td>\n",
              "      <td>1.0</td>\n",
              "      <td>3.0</td>\n",
              "      <td>1.0</td>\n",
              "      <td>3.0</td>\n",
              "      <td>1.0</td>\n",
              "      <td>3.0</td>\n",
              "      <td>1.0</td>\n",
              "      <td>3.0</td>\n",
              "    </tr>\n",
              "    <tr>\n",
              "      <th>25</th>\n",
              "      <td>1.0</td>\n",
              "      <td>3.0</td>\n",
              "      <td>1.0</td>\n",
              "      <td>3.0</td>\n",
              "      <td>1.0</td>\n",
              "      <td>3.0</td>\n",
              "      <td>1.0</td>\n",
              "      <td>3.0</td>\n",
              "      <td>1.0</td>\n",
              "      <td>3.0</td>\n",
              "      <td>1.0</td>\n",
              "      <td>3.0</td>\n",
              "    </tr>\n",
              "    <tr>\n",
              "      <th>26</th>\n",
              "      <td>1.0</td>\n",
              "      <td>1.0</td>\n",
              "      <td>1.0</td>\n",
              "      <td>1.0</td>\n",
              "      <td>1.0</td>\n",
              "      <td>1.0</td>\n",
              "      <td>1.0</td>\n",
              "      <td>1.0</td>\n",
              "      <td>1.0</td>\n",
              "      <td>1.0</td>\n",
              "      <td>1.0</td>\n",
              "      <td>1.0</td>\n",
              "    </tr>\n",
              "    <tr>\n",
              "      <th>27</th>\n",
              "      <td>1.0</td>\n",
              "      <td>1.0</td>\n",
              "      <td>1.0</td>\n",
              "      <td>1.0</td>\n",
              "      <td>1.0</td>\n",
              "      <td>1.0</td>\n",
              "      <td>1.0</td>\n",
              "      <td>1.0</td>\n",
              "      <td>1.0</td>\n",
              "      <td>1.0</td>\n",
              "      <td>1.0</td>\n",
              "      <td>1.0</td>\n",
              "    </tr>\n",
              "    <tr>\n",
              "      <th>28</th>\n",
              "      <td>NaN</td>\n",
              "      <td>1.0</td>\n",
              "      <td>NaN</td>\n",
              "      <td>1.0</td>\n",
              "      <td>NaN</td>\n",
              "      <td>1.0</td>\n",
              "      <td>NaN</td>\n",
              "      <td>1.0</td>\n",
              "      <td>NaN</td>\n",
              "      <td>1.0</td>\n",
              "      <td>NaN</td>\n",
              "      <td>1.0</td>\n",
              "    </tr>\n",
              "    <tr>\n",
              "      <th>29</th>\n",
              "      <td>NaN</td>\n",
              "      <td>1.0</td>\n",
              "      <td>NaN</td>\n",
              "      <td>1.0</td>\n",
              "      <td>NaN</td>\n",
              "      <td>1.0</td>\n",
              "      <td>NaN</td>\n",
              "      <td>1.0</td>\n",
              "      <td>NaN</td>\n",
              "      <td>1.0</td>\n",
              "      <td>NaN</td>\n",
              "      <td>1.0</td>\n",
              "    </tr>\n",
              "    <tr>\n",
              "      <th>30</th>\n",
              "      <td>NaN</td>\n",
              "      <td>1.0</td>\n",
              "      <td>NaN</td>\n",
              "      <td>1.0</td>\n",
              "      <td>NaN</td>\n",
              "      <td>1.0</td>\n",
              "      <td>NaN</td>\n",
              "      <td>1.0</td>\n",
              "      <td>NaN</td>\n",
              "      <td>1.0</td>\n",
              "      <td>NaN</td>\n",
              "      <td>1.0</td>\n",
              "    </tr>\n",
              "  </tbody>\n",
              "</table>\n",
              "</div>"
            ],
            "text/plain": [
              "                              Do you think social media has influence on businesses ?  \\\n",
              "Have you ever ordered online?                                                      No   \n",
              "Do you own a business ? Age                                                             \n",
              "No                      15                                                   NaN        \n",
              "                        16                                                   1.0        \n",
              "                        17                                                   1.0        \n",
              "                        18                                                   3.0        \n",
              "                        19                                                   2.0        \n",
              "                        20                                                   3.0        \n",
              "                        21                                                   1.0        \n",
              "                        22                                                   2.0        \n",
              "                        23                                                   1.0        \n",
              "                        24                                                   1.0        \n",
              "                        25                                                   1.0        \n",
              "                        26                                                   1.0        \n",
              "                        27                                                   1.0        \n",
              "                        28                                                   NaN        \n",
              "                        29                                                   NaN        \n",
              "                        30                                                   NaN        \n",
              "\n",
              "                                   Gender       \\\n",
              "Have you ever ordered online?  Yes     No  Yes   \n",
              "Do you own a business ? Age                      \n",
              "No                      15     4.0    NaN  4.0   \n",
              "                        16     6.0    1.0  6.0   \n",
              "                        17     1.0    1.0  1.0   \n",
              "                        18     6.0    3.0  6.0   \n",
              "                        19     7.0    2.0  7.0   \n",
              "                        20     7.0    3.0  7.0   \n",
              "                        21     8.0    1.0  8.0   \n",
              "                        22     3.0    2.0  3.0   \n",
              "                        23     2.0    1.0  2.0   \n",
              "                        24     3.0    1.0  3.0   \n",
              "                        25     3.0    1.0  3.0   \n",
              "                        26     1.0    1.0  1.0   \n",
              "                        27     1.0    1.0  1.0   \n",
              "                        28     1.0    NaN  1.0   \n",
              "                        29     1.0    NaN  1.0   \n",
              "                        30     1.0    NaN  1.0   \n",
              "\n",
              "                              How beneficial is social media for your business?  \\\n",
              "Have you ever ordered online?                                                No   \n",
              "Do you own a business ? Age                                                       \n",
              "No                      15                                                  NaN   \n",
              "                        16                                                  1.0   \n",
              "                        17                                                  1.0   \n",
              "                        18                                                  3.0   \n",
              "                        19                                                  2.0   \n",
              "                        20                                                  3.0   \n",
              "                        21                                                  1.0   \n",
              "                        22                                                  2.0   \n",
              "                        23                                                  1.0   \n",
              "                        24                                                  1.0   \n",
              "                        25                                                  1.0   \n",
              "                        26                                                  1.0   \n",
              "                        27                                                  1.0   \n",
              "                        28                                                  NaN   \n",
              "                        29                                                  NaN   \n",
              "                        30                                                  NaN   \n",
              "\n",
              "                                   Timestamp       \\\n",
              "Have you ever ordered online?  Yes        No  Yes   \n",
              "Do you own a business ? Age                         \n",
              "No                      15     4.0       NaN  4.0   \n",
              "                        16     6.0       1.0  6.0   \n",
              "                        17     1.0       1.0  1.0   \n",
              "                        18     6.0       3.0  6.0   \n",
              "                        19     7.0       2.0  7.0   \n",
              "                        20     7.0       3.0  7.0   \n",
              "                        21     8.0       1.0  8.0   \n",
              "                        22     3.0       2.0  3.0   \n",
              "                        23     2.0       1.0  2.0   \n",
              "                        24     3.0       1.0  3.0   \n",
              "                        25     3.0       1.0  3.0   \n",
              "                        26     1.0       1.0  1.0   \n",
              "                        27     1.0       1.0  1.0   \n",
              "                        28     1.0       NaN  1.0   \n",
              "                        29     1.0       NaN  1.0   \n",
              "                        30     1.0       NaN  1.0   \n",
              "\n",
              "                              What is the main platform that you use for your business?  \\\n",
              "Have you ever ordered online?                                                        No   \n",
              "Do you own a business ? Age                                                               \n",
              "No                      15                                                   NaN          \n",
              "                        16                                                   1.0          \n",
              "                        17                                                   1.0          \n",
              "                        18                                                   3.0          \n",
              "                        19                                                   2.0          \n",
              "                        20                                                   3.0          \n",
              "                        21                                                   1.0          \n",
              "                        22                                                   2.0          \n",
              "                        23                                                   1.0          \n",
              "                        24                                                   1.0          \n",
              "                        25                                                   1.0          \n",
              "                        26                                                   1.0          \n",
              "                        27                                                   1.0          \n",
              "                        28                                                   NaN          \n",
              "                        29                                                   NaN          \n",
              "                        30                                                   NaN          \n",
              "\n",
              "                                   What is your business?        \n",
              "Have you ever ordered online?  Yes                      No  Yes  \n",
              "Do you own a business ? Age                                      \n",
              "No                      15     4.0                     NaN  4.0  \n",
              "                        16     6.0                     1.0  6.0  \n",
              "                        17     1.0                     1.0  1.0  \n",
              "                        18     6.0                     3.0  6.0  \n",
              "                        19     7.0                     2.0  7.0  \n",
              "                        20     7.0                     3.0  7.0  \n",
              "                        21     8.0                     1.0  8.0  \n",
              "                        22     3.0                     2.0  3.0  \n",
              "                        23     2.0                     1.0  2.0  \n",
              "                        24     3.0                     1.0  3.0  \n",
              "                        25     3.0                     1.0  3.0  \n",
              "                        26     1.0                     1.0  1.0  \n",
              "                        27     1.0                     1.0  1.0  \n",
              "                        28     1.0                     NaN  1.0  \n",
              "                        29     1.0                     NaN  1.0  \n",
              "                        30     1.0                     NaN  1.0  "
            ]
          },
          "execution_count": 172,
          "metadata": {},
          "output_type": "execute_result"
        }
      ],
      "source": [
        "pd.pivot_table(myD, index=['Do you own a business ?', 'Age'],\n",
        "                     columns=[ 'Have you ever ordered online?'], aggfunc=len)"
      ]
    },
    {
      "cell_type": "code",
      "execution_count": null,
      "id": "fb084a61",
      "metadata": {
        "id": "fb084a61",
        "outputId": "0bbc66f2-fc2a-4dbc-94cb-05c86c3f141d"
      },
      "outputs": [
        {
          "data": {
            "text/plain": [
              "array([<AxesSubplot:title={'center':'Female'}>,\n",
              "       <AxesSubplot:title={'center':'Male'}>], dtype=object)"
            ]
          },
          "execution_count": 173,
          "metadata": {},
          "output_type": "execute_result"
        },
        {
          "data": {
            "image/png": "[encoded data removed]",
            "text/plain": [
              "<Figure size 432x288 with 2 Axes>"
            ]
          },
          "metadata": {
            "needs_background": "light"
          },
          "output_type": "display_data"
        }
      ],
      "source": [
        "myD.hist(by='Gender', column = 'Age')"
      ]
    },
    {
      "cell_type": "code",
      "execution_count": null,
      "id": "91692bc9",
      "metadata": {
        "id": "91692bc9",
        "outputId": "a9050695-2ee7-4a22-b356-360877b094f9"
      },
      "outputs": [
        {
          "data": {
            "text/plain": [
              "Text(0.5, 1.0, 'Gender Distribution')"
            ]
          },
          "execution_count": 174,
          "metadata": {},
          "output_type": "execute_result"
        },
        {
          "data": {
            "image/png": "[encoded data removed]",
            "text/plain": [
              "<Figure size 432x288 with 1 Axes>"
            ]
          },
          "metadata": {},
          "output_type": "display_data"
        }
      ],
      "source": [
        "gender_counts = myD['Gender'].value_counts()\n",
        "plt.pie(gender_counts.values, labels=gender_counts.index, autopct='%1.1f%%')\n",
        "plt.title('Gender Distribution')"
      ]
    },
    {
      "cell_type": "code",
      "execution_count": null,
      "id": "67f7e12a",
      "metadata": {
        "id": "67f7e12a",
        "outputId": "7406121f-5d93-49d3-f0bb-8ff85ff8401a"
      },
      "outputs": [
        {
          "data": {
            "image/png": "[encoded data removed]",
            "text/plain": [
              "<Figure size 720x360 with 2 Axes>"
            ]
          },
          "metadata": {
            "needs_background": "light"
          },
          "output_type": "display_data"
        }
      ],
      "source": [
        "import matplotlib.pyplot as plt\n",
        "%matplotlib inline\n",
        "\n",
        "myD.hist(figsize=(10,5))\n",
        "plt.show()\n"
      ]
    },
    {
      "cell_type": "code",
      "execution_count": null,
      "id": "63d3d0cb",
      "metadata": {
        "id": "63d3d0cb",
        "outputId": "65c50e36-42f0-4ee6-d572-afc1e54331ca"
      },
      "outputs": [
        {
          "data": {
            "text/html": [
              "<div>\n",
              "<style scoped>\n",
              "    .dataframe tbody tr th:only-of-type {\n",
              "        vertical-align: middle;\n",
              "    }\n",
              "\n",
              "    .dataframe tbody tr th {\n",
              "        vertical-align: top;\n",
              "    }\n",
              "\n",
              "    .dataframe thead th {\n",
              "        text-align: right;\n",
              "    }\n",
              "</style>\n",
              "<table border=\"1\" class=\"dataframe\">\n",
              "  <thead>\n",
              "    <tr style=\"text-align: right;\">\n",
              "      <th></th>\n",
              "      <th>Age</th>\n",
              "      <th>How beneficial is social media for your business?</th>\n",
              "    </tr>\n",
              "  </thead>\n",
              "  <tbody>\n",
              "    <tr>\n",
              "      <th>count</th>\n",
              "      <td>100.000000</td>\n",
              "      <td>27.000000</td>\n",
              "    </tr>\n",
              "    <tr>\n",
              "      <th>mean</th>\n",
              "      <td>21.040000</td>\n",
              "      <td>3.851852</td>\n",
              "    </tr>\n",
              "    <tr>\n",
              "      <th>std</th>\n",
              "      <td>3.612325</td>\n",
              "      <td>1.026709</td>\n",
              "    </tr>\n",
              "    <tr>\n",
              "      <th>min</th>\n",
              "      <td>15.000000</td>\n",
              "      <td>1.000000</td>\n",
              "    </tr>\n",
              "    <tr>\n",
              "      <th>25%</th>\n",
              "      <td>18.750000</td>\n",
              "      <td>3.000000</td>\n",
              "    </tr>\n",
              "    <tr>\n",
              "      <th>50%</th>\n",
              "      <td>20.500000</td>\n",
              "      <td>4.000000</td>\n",
              "    </tr>\n",
              "    <tr>\n",
              "      <th>75%</th>\n",
              "      <td>23.250000</td>\n",
              "      <td>5.000000</td>\n",
              "    </tr>\n",
              "    <tr>\n",
              "      <th>max</th>\n",
              "      <td>30.000000</td>\n",
              "      <td>5.000000</td>\n",
              "    </tr>\n",
              "  </tbody>\n",
              "</table>\n",
              "</div>"
            ],
            "text/plain": [
              "              Age  How beneficial is social media for your business?\n",
              "count  100.000000                                          27.000000\n",
              "mean    21.040000                                           3.851852\n",
              "std      3.612325                                           1.026709\n",
              "min     15.000000                                           1.000000\n",
              "25%     18.750000                                           3.000000\n",
              "50%     20.500000                                           4.000000\n",
              "75%     23.250000                                           5.000000\n",
              "max     30.000000                                           5.000000"
            ]
          },
          "execution_count": 176,
          "metadata": {},
          "output_type": "execute_result"
        }
      ],
      "source": [
        "myD.describe()"
      ]
    },
    {
      "cell_type": "code",
      "execution_count": null,
      "id": "18264221",
      "metadata": {
        "id": "18264221",
        "outputId": "15b53dea-7cd1-4533-92f6-6c56b712c086"
      },
      "outputs": [
        {
          "data": {
            "image/png": "[encoded data removed]",
            "text/plain": [
              "<Figure size 216x288 with 1 Axes>"
            ]
          },
          "metadata": {
            "needs_background": "light"
          },
          "output_type": "display_data"
        }
      ],
      "source": [
        "myD.hist(['Age'], figsize=(3,4))\n",
        "plt.show()"
      ]
    },
    {
      "cell_type": "code",
      "execution_count": null,
      "id": "691c70ee",
      "metadata": {
        "id": "691c70ee",
        "outputId": "b0e7a794-385e-4444-f35d-bba2392faf47"
      },
      "outputs": [
        {
          "data": {
            "text/plain": [
              "Text(0.5, 1.0, 'Age Distribution')"
            ]
          },
          "execution_count": 178,
          "metadata": {},
          "output_type": "execute_result"
        },
        {
          "data": {
            "image/png": "[encoded data removed]",
            "text/plain": [
              "<Figure size 432x288 with 1 Axes>"
            ]
          },
          "metadata": {
            "needs_background": "light"
          },
          "output_type": "display_data"
        }
      ],
      "source": [
        "plt.hist(myD['Age'], bins=10)\n",
        "plt.xlabel('Age')\n",
        "plt.ylabel('Number of Respondents')\n",
        "plt.title('Age Distribution')"
      ]
    },
    {
      "cell_type": "code",
      "execution_count": null,
      "id": "3927c415",
      "metadata": {
        "id": "3927c415",
        "outputId": "d344545e-b910-4eca-f9c6-dd2d4bff96fc"
      },
      "outputs": [
        {
          "data": {
            "text/plain": [
              "Text(0.5, 1.0, 'Platform Usage')"
            ]
          },
          "execution_count": 179,
          "metadata": {},
          "output_type": "execute_result"
        },
        {
          "data": {
            "image/png": "[encoded data removed]",
            "text/plain": [
              "<Figure size 432x288 with 1 Axes>"
            ]
          },
          "metadata": {},
          "output_type": "display_data"
        }
      ],
      "source": [
        "platform_counts = myD['What is the main platform that you use for your business?'].value_counts()\n",
        "plt.pie(platform_counts.values, labels=platform_counts.index, autopct='%1.1f%%')\n",
        "plt.title('Platform Usage')"
      ]
    },
    {
      "cell_type": "code",
      "execution_count": null,
      "id": "86c658a8",
      "metadata": {
        "id": "86c658a8",
        "outputId": "3630ec4a-42c5-4f83-9a23-721b20b141f4"
      },
      "outputs": [
        {
          "data": {
            "text/plain": [
              "Text(0.5, 1.0, 'Online Ordering Behavior')"
            ]
          },
          "execution_count": 180,
          "metadata": {},
          "output_type": "execute_result"
        },
        {
          "data": {
            "image/png": "[encoded data removed]",
            "text/plain": [
              "<Figure size 432x288 with 1 Axes>"
            ]
          },
          "metadata": {},
          "output_type": "display_data"
        }
      ],
      "source": [
        "online_order_counts = myD['Have you ever ordered online?'].value_counts()\n",
        "plt.pie(online_order_counts.values, labels=online_order_counts.index, autopct='%1.1f%%')\n",
        "plt.title('Online Ordering Behavior')"
      ]
    },
    {
      "cell_type": "code",
      "execution_count": null,
      "id": "7e2d9a2a",
      "metadata": {
        "id": "7e2d9a2a",
        "outputId": "1c06c8e9-f898-46ea-cbd8-88efbf4777b7"
      },
      "outputs": [
        {
          "data": {
            "text/plain": [
              "Text(0.5, 1.0, 'Business Ownership')"
            ]
          },
          "execution_count": 181,
          "metadata": {},
          "output_type": "execute_result"
        },
        {
          "data": {
            "image/png": "[encoded data removed]",
            "text/plain": [
              "<Figure size 432x288 with 1 Axes>"
            ]
          },
          "metadata": {
            "needs_background": "light"
          },
          "output_type": "display_data"
        }
      ],
      "source": [
        "business_ownership_counts = myD['Do you own a business ?'].value_counts()\n",
        "plt.bar(business_ownership_counts.index, business_ownership_counts.values)\n",
        "plt.title('Business Ownership')"
      ]
    },
    {
      "cell_type": "code",
      "execution_count": null,
      "id": "3fc90e76",
      "metadata": {
        "id": "3fc90e76",
        "outputId": "9c5808ba-be8a-4db3-9138-f753bbfb9cfc"
      },
      "outputs": [
        {
          "data": {
            "text/plain": [
              "Text(0.5, 1.0, 'Perception of Social Media Influence')"
            ]
          },
          "execution_count": 182,
          "metadata": {},
          "output_type": "execute_result"
        },
        {
          "data": {
            "image/png": "[encoded data removed]",
            "text/plain": [
              "<Figure size 432x288 with 1 Axes>"
            ]
          },
          "metadata": {},
          "output_type": "display_data"
        }
      ],
      "source": [
        "influence_counts = myD['Do you think social media has influence on businesses ?'].value_counts()\n",
        "plt.pie(influence_counts.values, labels=influence_counts.index, autopct='%1.1f%%')\n",
        "plt.title('Perception of Social Media Influence')"
      ]
    },
    {
      "cell_type": "code",
      "execution_count": null,
      "id": "36b901db",
      "metadata": {
        "id": "36b901db",
        "outputId": "cbfe22dd-cd4a-4b09-df9a-51d81046200b"
      },
      "outputs": [
        {
          "data": {
            "image/png": "[encoded data removed]",
            "text/plain": [
              "<Figure size 720x576 with 1 Axes>"
            ]
          },
          "metadata": {},
          "output_type": "display_data"
        }
      ],
      "source": [
        "influence_counts = myD['What is your business? '].value_counts()\n",
        "fig, ax = plt.subplots(figsize=(10, 8))\n",
        "ax.pie(influence_counts.values, labels=influence_counts.index, autopct='%1.1f%%')\n",
        "ax.set_title('Perception of Social Media Influence')\n",
        "plt.show()"
      ]
    },
    {
      "cell_type": "code",
      "execution_count": null,
      "id": "02e3b163",
      "metadata": {
        "id": "02e3b163",
        "outputId": "ef15ef3f-749c-486f-98ba-3f225c4aa057"
      },
      "outputs": [
        {
          "data": {
            "text/plain": [
              "3.6123245824384185"
            ]
          },
          "execution_count": 184,
          "metadata": {},
          "output_type": "execute_result"
        }
      ],
      "source": [
        "myD['Age'].std()"
      ]
    },
    {
      "cell_type": "code",
      "execution_count": null,
      "id": "cf4dada8",
      "metadata": {
        "id": "cf4dada8",
        "outputId": "ffae576d-e399-4864-f73a-ce357073f0d4"
      },
      "outputs": [
        {
          "data": {
            "text/plain": [
              "21.04"
            ]
          },
          "execution_count": 185,
          "metadata": {},
          "output_type": "execute_result"
        }
      ],
      "source": [
        "myD['Age'].mean()"
      ]
    },
    {
      "cell_type": "code",
      "execution_count": null,
      "id": "ba5bb64b",
      "metadata": {
        "id": "ba5bb64b",
        "outputId": "a4a993c5-1e9a-4faf-b479-aedf107d521e"
      },
      "outputs": [
        {
          "name": "stderr",
          "output_type": "stream",
          "text": [
            "C:\\Users\\NANO_PC\\anaconda3\\lib\\site-packages\\seaborn\\distributions.py:2619: FutureWarning: `distplot` is a deprecated function and will be removed in a future version. Please adapt your code to use either `displot` (a figure-level function with similar flexibility) or `histplot` (an axes-level function for histograms).\n",
            "  warnings.warn(msg, FutureWarning)\n"
          ]
        },
        {
          "data": {
            "text/plain": [
              "<AxesSubplot:xlabel='Age', ylabel='Density'>"
            ]
          },
          "execution_count": 186,
          "metadata": {},
          "output_type": "execute_result"
        },
        {
          "data": {
            "image/png": "[encoded data removed]",
            "text/plain": [
              "<Figure size 432x288 with 1 Axes>"
            ]
          },
          "metadata": {
            "needs_background": "light"
          },
          "output_type": "display_data"
        }
      ],
      "source": [
        "sns.distplot(myD['Age'])"
      ]
    },
    {
      "cell_type": "code",
      "execution_count": null,
      "id": "218096c8",
      "metadata": {
        "id": "218096c8",
        "outputId": "ac233f36-bec2-4de9-9524-8c03dae4158e"
      },
      "outputs": [
        {
          "data": {
            "text/plain": [
              "<AxesSubplot:>"
            ]
          },
          "execution_count": 187,
          "metadata": {},
          "output_type": "execute_result"
        },
        {
          "data": {
            "image/png": "[encoded data removed]",
            "text/plain": [
              "<Figure size 432x288 with 2 Axes>"
            ]
          },
          "metadata": {
            "needs_background": "light"
          },
          "output_type": "display_data"
        }
      ],
      "source": [
        "sns.heatmap(corr, annot=True)"
      ]
    }
  ],
  "metadata": {
    "kernelspec": {
      "display_name": "Python 3 (ipykernel)",
      "language": "python",
      "name": "python3"
    },
    "language_info": {
      "codemirror_mode": {
        "name": "ipython",
        "version": 3
      },
      "file_extension": ".py",
      "mimetype": "text/x-python",
      "name": "python",
      "nbconvert_exporter": "python",
      "pygments_lexer": "ipython3",
      "version": "3.9.7"
    },
    "colab": {
      "provenance": [],
      "include_colab_link": true
    }
  },
  "nbformat": 4,
  "nbformat_minor": 5
}